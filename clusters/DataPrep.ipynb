{
 "cells": [
  {
   "cell_type": "markdown",
   "id": "7275ef37-bf27-47c0-8874-27a01a548ca5",
   "metadata": {},
   "source": [
    "## Cluster Studies (Jan)\n",
    "\n",
    "Here is an updated version of the ClusterStudies.ipynb notebook, using uproot4 and newer versions of our plotting utilities.\n",
    "\n",
    "This notebook is designed to use ntuples produced by the image-based version of MLTree (i.e. not the latest version of MLTree, that makes graph-friendly data with a different format)."
   ]
  },
  {
   "cell_type": "code",
   "execution_count": 9,
   "id": "a1da001a-1a1b-49cf-a54e-c2e7ed08fdb5",
   "metadata": {},
   "outputs": [],
   "source": [
    "h5_name_suffix = 'jdata'\n",
    "n_max = 600000\n",
    "cut_distributions = ['clusterEta']\n",
    "cut_values = [(-0.7,0.7)]\n",
    "cut_types = ['window']"
   ]
  },
  {
   "cell_type": "code",
   "execution_count": 3,
   "id": "a6bd3246-1e22-469c-9e14-dc2cd257e21e",
   "metadata": {},
   "outputs": [
    {
     "name": "stdout",
     "output_type": "stream",
     "text": [
      "Welcome to JupyROOT 6.24/02\n"
     ]
    },
    {
     "name": "stderr",
     "output_type": "stream",
     "text": [
      "2021-08-04 10:01:50.124149: I tensorflow/stream_executor/platform/default/dso_loader.cc:53] Successfully opened dynamic library libcudart.so.11.0\n"
     ]
    }
   ],
   "source": [
    "#import libraries and some constants\n",
    "import os, sys, pathlib\n",
    "import numpy as np\n",
    "import pandas as pd\n",
    "import uproot as ur\n",
    "\n",
    "path_prefix = os.getcwd() + '/../'\n",
    "plotpath = '{}/Plots/'.format(os.getcwd())\n",
    "\n",
    "try: os.makedirs(plotpath)\n",
    "except: pass\n",
    "\n",
    "if(path_prefix not in sys.path): sys.path.append(path_prefix)\n",
    "from util import ml_util as mu\n",
    "from util import qol_util as qu\n",
    "\n",
    "# some of our classification/regression-specific utils have useful functions\n",
    "from util.classification import plot_util as cpu\n",
    "\n",
    "# metadata\n",
    "layers = [\"EMB1\", \"EMB2\", \"EMB3\", \"TileBar0\", \"TileBar1\", \"TileBar2\"]\n",
    "cell_size_phi = [0.098, 0.0245, 0.0245, 0.1, 0.1, 0.1]\n",
    "cell_size_eta = [0.0031, 0.025, 0.05, 0.1, 0.1, 0.2]\n",
    "len_phi = [4, 16, 16, 4, 4, 4]\n",
    "len_eta = [128, 16, 8, 4, 4, 2]\n",
    "cell_shapes = {layers[i]:(len_eta[i],len_phi[i]) for i in range(len(layers))}\n",
    "cell_widths = {layers[i]:(cell_size_eta[i],cell_size_phi[i]) for i in range(len(layers))}"
   ]
  },
  {
   "cell_type": "code",
   "execution_count": null,
   "id": "cfbe861a-658f-4304-abfd-17a1f6fa1b37",
   "metadata": {},
   "outputs": [],
   "source": [
    "rootfiles = {\n",
    "    'jet':inputpath + '**/*.root'\n",
    "}\n",
    "branches = [\n",
    "        'clusterE', 'clusterECalib', \n",
    "        'clusterPt', 'clusterEta', 'clusterPhi', \n",
    "        'cluster_nCells', 'cluster_sumCellE', \n",
    "        'cluster_ENG_CALIB_TOT', 'cluster_EM_PROBABILITY'\n",
    "] "
   ]
  },
  {
   "cell_type": "code",
   "execution_count": 10,
   "id": "c018e7ca-050b-4aee-bdba-ceebc8aa3002",
   "metadata": {},
   "outputs": [],
   "source": [
    "  # fancy display names for each pion type\n",
    "pi_text = {\n",
    "    'p0': 'pi0',\n",
    "    'pp': 'pi +/-',\n",
    "    'jet':'jet'\n",
    "}"
   ]
  },
  {
   "cell_type": "code",
   "execution_count": 11,
   "id": "122ff5ad-3a65-4b1a-8012-c4d56b4e4a13",
   "metadata": {},
   "outputs": [
    {
     "name": "stdout",
     "output_type": "stream",
     "text": [
      "Loading pandas DataFrame and calo images from /local/home/jano/ml4pions/LCStudies/clusters/../data/pion/tdata_60GeV_central_frame.h5 and /local/home/jano/ml4pions/LCStudies/clusters/../data/pion/tdata_60GeV_central_images.h5.\n",
      "Number of pi0     events:     600000\t(50.0%)\n",
      "Number of pi +/-  events:     600000\t(50.0%)\n",
      "Total: 1200000\n"
     ]
    }
   ],
   "source": [
    "# Prepare data\n",
    "h5_name = inputpath + h5_name_suffix\n",
    "pdata,pcells = mu.setupPionData(\n",
    "    rootfiles, \n",
    "    branches=branches, \n",
    "    layers=layers, \n",
    "    balance_data=True, \n",
    "    n_max = n_max,\n",
    "    verbose=True,\n",
    "    load=True,\n",
    "    save=True,\n",
    "    filename=h5_name,\n",
    "    match_distribution='cluster_ENG_CALIB_TOT',\n",
    "    match_binning = (20000,0.,2000.),\n",
    "    cut_distributions=cut_distributions,\n",
    "    cut_values=cut_values,\n",
    "    cut_types=cut_types\n",
    ")\n",
    "    \n",
    "for key,frame in pdata.items():\n",
    "    n = len(frame)\n",
    "    print(\"Number of {a:<7} events: {b:>10}\\t({c:.1f}%)\".format(a=pi_text[key], b = n, c = 100. * n / total))\n",
    "print(\"Total: {}\".format(total))"
   ]
  }
 ],
 "metadata": {
  "kernelspec": {
   "display_name": "Python 3 (ipykernel)",
   "language": "python",
   "name": "python3"
  },
  "language_info": {
   "codemirror_mode": {
    "name": "ipython",
    "version": 3
   },
   "file_extension": ".py",
   "mimetype": "text/x-python",
   "name": "python",
   "nbconvert_exporter": "python",
   "pygments_lexer": "ipython3",
   "version": "3.8.10"
  }
 },
 "nbformat": 4,
 "nbformat_minor": 5
}
