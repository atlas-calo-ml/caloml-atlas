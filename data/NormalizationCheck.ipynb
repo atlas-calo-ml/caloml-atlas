{
 "cells": [
  {
   "cell_type": "code",
   "execution_count": 1,
   "id": "interior-championship",
   "metadata": {},
   "outputs": [
    {
     "name": "stdout",
     "output_type": "stream",
     "text": [
      "Welcome to JupyROOT 6.22/02\n"
     ]
    }
   ],
   "source": [
    "import sys, os, glob\n",
    "import ROOT as rt, numpy as np, uproot as ur\n",
    "\n",
    "path_prefix = os.getcwd() + '/../'\n",
    "if(path_prefix not in sys.path): sys.path.append(path_prefix)\n",
    "from util import qol_util as qu"
   ]
  },
  {
   "cell_type": "code",
   "execution_count": 2,
   "id": "incorporated-terrorism",
   "metadata": {},
   "outputs": [],
   "source": [
    "rt.gStyle.SetOptStat(0)\n",
    "ps = qu.PlotStyle('dark')\n",
    "ps.SetStyle()\n",
    "\n",
    "datafiles = glob.glob('pion/*.root')\n",
    "layers = ['EMB1','EMB2','EMB3','TileBar0','TileBar1','TileBar2']\n",
    "treename = 'ClusterTree'\n",
    "hists = {}\n",
    "colors = [rt.kRed, ps.curve, rt.kGreen]"
   ]
  },
  {
   "cell_type": "code",
   "execution_count": 3,
   "id": "coordinate-amount",
   "metadata": {},
   "outputs": [],
   "source": [
    "for i, datafile in enumerate(datafiles):\n",
    "    f = ur.open(datafile)\n",
    "    t = f[treename]\n",
    "    \n",
    "    ims = {layer: t[layer].array().to_numpy() for layer in layers}\n",
    "    \n",
    "    # get sums of the images\n",
    "    im_sums = {layer: np.sum(im, axis=(1,2)) for layer,im in ims.items()}\n",
    "    \n",
    "    # now collapse into a list of sums, one per cluster (collapse along calo layers)\n",
    "    sums = np.sum([im_sums[layer] for layer in layers],axis=0)\n",
    "    l = t.num_entries\n",
    "    assert(len(sums.shape) == 1 and sums.shape[0] == l) # quick check that the above steps were OK\n",
    "    \n",
    "    h = rt.TH1F(qu.RN(), 'Sum of (EMB1,EMB2...TileBar2);Sum;% Count', 80, 0., 1.6)\n",
    "    \n",
    "    for entry in sums:\n",
    "        h.Fill(entry)\n",
    "    \n",
    "    h.SetLineColor(colors[i%len(colors)])\n",
    "    h.Scale(1./h.Integral())\n",
    "    hists[datafile] = h\n",
    "    f.close()"
   ]
  },
  {
   "cell_type": "code",
   "execution_count": 5,
   "id": "spare-whale",
   "metadata": {},
   "outputs": [
    {
     "name": "stderr",
     "output_type": "stream",
     "text": [
      "Info in <TCanvas::Print>: png file image_norm_check.png has been created\n"
     ]
    },
    {
     "data": {
      "image/png": "[encoded data removed]",
      "text/plain": [
       "<IPython.core.display.Image object>"
      ]
     },
     "metadata": {},
     "output_type": "display_data"
    }
   ],
   "source": [
    "c = rt.TCanvas(qu.RN(),'c',800,600)\n",
    "stack = rt.THStack()\n",
    "stack.SetTitle('Sum of (EMB1,EMB2...TileBar2);Sum;% Count')\n",
    "\n",
    "leg = rt.TLegend(0.7,0.75,0.9,0.9)\n",
    "leg.SetTextColor(ps.text)\n",
    "\n",
    "for key,hist in hists.items():\n",
    "    leg.AddEntry(hist,key,'l')\n",
    "    stack.Add(hist)\n",
    "    \n",
    "stack.Draw('NOSTACK HIST')\n",
    "leg.Draw()\n",
    "c.Draw()\n",
    "c.SaveAs('image_norm_check.png')"
   ]
  }
 ],
 "metadata": {
  "kernelspec": {
   "display_name": "Python 3",
   "language": "python",
   "name": "python3"
  },
  "language_info": {
   "codemirror_mode": {
    "name": "ipython",
    "version": 3
   },
   "file_extension": ".py",
   "mimetype": "text/x-python",
   "name": "python",
   "nbconvert_exporter": "python",
   "pygments_lexer": "ipython3",
   "version": "3.8.6"
  }
 },
 "nbformat": 4,
 "nbformat_minor": 5
}
