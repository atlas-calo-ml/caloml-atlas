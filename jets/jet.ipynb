{
 "cells": [
  {
   "cell_type": "code",
   "execution_count": 104,
   "id": "6c121cb0-cb30-4474-b40d-5de1c188b755",
   "metadata": {},
   "outputs": [],
   "source": [
    "# # # For quickly testing when working on external libraries\n",
    "# %load_ext autoreload\n",
    "# %autoreload 2"
   ]
  },
  {
   "cell_type": "code",
   "execution_count": 105,
   "id": "afd47694-4bb6-41ad-b6e1-cf5d19ef5b0f",
   "metadata": {},
   "outputs": [],
   "source": [
    "# First, the generic imports.\n",
    "import sys, os, glob, time, pathlib\n",
    "import numpy as np\n",
    "import h5py as h5\n",
    "import pandas as pd\n",
    "import ROOT as rt # Mostly useful here for plotting\n",
    "import matplotlib.pyplot as plt # Alternative plotting option\n",
    "import uproot as ur\n",
    "import awkward as ak\n",
    "import subprocess as sub\n",
    "from numba import jit\n",
    "import argparse as ap # useful when converting to script\n",
    "\n",
    "# Next, import our utilities. We define our \"path_prefix\" from where we can find them.\n",
    "path_prefix = os.getcwd() + '/../'\n",
    "if(path_prefix not in sys.path): sys.path.append(path_prefix)\n",
    "\n",
    "from util import ml_util as mu # Data preparation and wrangling for our neural networks.\n",
    "from util import qol_util as qu # Quality-of-life stuff, like plot styles and progress bars.\n",
    "from util import jet_util as ju # Jet-specific utilities, e.g. wrapping for FastJet & introducing our ML outputs to jet clustering.\n",
    "from util import io_util as iu # Utilities for scaling regression input/output.\n",
    "\n",
    "# Classification-specific utilities (network setup).\n",
    "from util.classification import data_util as cdu\n",
    "from util.classification import training_util as ctu # besides training, can be used to load network from file\n",
    "import util.classification.models as classifier_models\n",
    "import util.classification.models_exp as classifier_models_exp\n",
    "\n",
    "# Regression-specific utilities (data-loading, network setup).\n",
    "from util.regression import data_util as rdu\n",
    "from util.regression import training_util as rtu # besides training, can be used to load network from file\n",
    "import util.regression.models as regressor_models\n",
    "\n",
    "# Jet-specific utilities (stuff to make this notebook simpler).\n",
    "if(os.getcwd() not in sys.path): sys.path.append(os.getcwd())\n",
    "from jet_util import jet_matching as jm\n",
    "from data_util import data_util as du"
   ]
  },
  {
   "cell_type": "markdown",
   "id": "30ba84a4-103e-40c7-bc95-b77409f8eace",
   "metadata": {},
   "source": [
    "# ML4P for Jet Clustering\n",
    "\n",
    "In this notebook, we'll use our topo-cluster classifiers and regressors to correct the energies of topo-clusters, and then cluster these topo-clusters into jets! The goal is to see how using these corrected energies (i.e. applying our ML stuff) affects the jet energy scale resolution."
   ]
  },
  {
   "cell_type": "markdown",
   "id": "3821fa6a-3184-4d7b-a52a-b6b7c05a077e",
   "metadata": {},
   "source": [
    "## Setup\n",
    "\n",
    "Let's start by defining some paths and model names for topo-cluster classification and regression -- we'll put these at the top so it's easy to switch things."
   ]
  },
  {
   "cell_type": "code",
   "execution_count": 106,
   "id": "cfd169ba-0013-4921-8c55-054bd7d7b70f",
   "metadata": {},
   "outputs": [],
   "source": [
    "binned_regressors = False"
   ]
  },
  {
   "cell_type": "code",
   "execution_count": 107,
   "id": "0f904466-0cd8-43e6-9290-ead9d8db8b0a",
   "metadata": {},
   "outputs": [],
   "source": [
    "plotpath = os.getcwd() + '/Plots/'"
   ]
  },
  {
   "cell_type": "code",
   "execution_count": 108,
   "id": "a64e50f0-07fb-4df5-aec8-af3df9eb6b55",
   "metadata": {},
   "outputs": [],
   "source": [
    "classification_dir = path_prefix + 'classifier/Models/pion3'\n",
    "classifier_modelname = 'cnn_split_EMB'\n",
    "\n",
    "regression_dir = path_prefix + 'regression2/Models/pion3'\n",
    "regressor_modelname = 'split_emb_cnn'\n",
    "#regressor_modelname = 'lorentz'\n",
    "\n",
    "data_dir = path_prefix + 'data/jet'\n",
    "\n",
    "# We can optionally have binned regressors, so specify the lower bin edges here.\n",
    "# If not using a binned regressor, just set this to [0.]\n",
    "if(binned_regressors):\n",
    "    reco_energy_bin_edges = [0.,1.,2.,5.,10.,20.] # lower bin edges\n",
    "else:\n",
    "    reco_energy_bin_edges = [0.]"
   ]
  },
  {
   "cell_type": "code",
   "execution_count": 109,
   "id": "66e1e80d-b1be-4331-8f82-469cf156203b",
   "metadata": {},
   "outputs": [],
   "source": [
    "# def main(args):\n",
    "    \n",
    "#     parser = ap.ArgumentParser()\n",
    "#     parser.add_argument(\n",
    "#         '-c',\n",
    "#         type=float,\n",
    "#         help='Classification score cut.',\n",
    "#         default = 0.5\n",
    "#     )\n",
    "    \n",
    "#     parser.add_argument(\n",
    "#         '-r',\n",
    "#         type=str,\n",
    "#         help='Regressor model name.',\n",
    "#         default = 'all'\n",
    "#     )\n",
    "    \n",
    "#     args = parser.parse_args()\n",
    "#     classification_score_cut = args.c\n",
    "#     regressor_modelname = args.r\n",
    "\n",
    "classification_score_cut = 0.5\n",
    "score_cut_string = '{:.2f}'.format(classification_score_cut).replace('.','')"
   ]
  },
  {
   "cell_type": "code",
   "execution_count": 110,
   "id": "cacf7450-7808-4697-9921-f5c4b0732734",
   "metadata": {},
   "outputs": [],
   "source": [
    "# Set up some plotting stuff.\n",
    "plot_style = 'dark'\n",
    "ps = qu.PlotStyle(plot_style)\n",
    "ps.SetStyle() # will automatically affect ROOT plots from here on out, it sets ROOT.gStyle.\n",
    "rt.gStyle.SetOptStat(0)"
   ]
  },
  {
   "cell_type": "code",
   "execution_count": 111,
   "id": "3019f74c-97ed-4295-ad87-5eb7f231673d",
   "metadata": {},
   "outputs": [],
   "source": [
    "# Set up some calorimeter metadata.\n",
    "# TODO: Get this from one of our libraries\n",
    "layers = [\"EMB1\", \"EMB2\", \"EMB3\", \"TileBar0\", \"TileBar1\", \"TileBar2\"]\n",
    "cell_size_phi = [0.098, 0.0245, 0.0245, 0.1, 0.1, 0.1]\n",
    "cell_size_eta = [0.0031, 0.025, 0.05, 0.1, 0.1, 0.2]\n",
    "len_phi = [4, 16, 16, 4, 4, 4]\n",
    "len_eta = [128, 16, 8, 4, 4, 2]\n",
    "cell_shapes = {layers[i]:(len_eta[i],len_phi[i]) for i in range(len(layers))}"
   ]
  },
  {
   "cell_type": "code",
   "execution_count": 112,
   "id": "2f175383-4730-40c8-9b71-131a01362c10",
   "metadata": {},
   "outputs": [],
   "source": [
    "# Perform fastjet setup. This function will download & build fastjet if it isn't found at the given location.\n",
    "fastjet_dir = path_prefix + 'fastjet'\n",
    "fastjet_dir =  ju.BuildFastjet(fastjet_dir, j=8)\n",
    "fastjet_dir = glob.glob('{}/**/site-packages'.format(fastjet_dir),recursive=True)[0]\n",
    "if(fastjet_dir not in sys.path): sys.path.append(fastjet_dir)\n",
    "import fastjet as fj\n",
    "fj.ClusterSequence.print_banner() # Get the Fastjet banner out of the way"
   ]
  },
  {
   "cell_type": "markdown",
   "id": "0fd199e2-b9d9-419e-9a6a-4a60d1998d1c",
   "metadata": {},
   "source": [
    "## Data preparation\n",
    "\n",
    "Let's also fetch our jet data. This is MC dijet data, so we have some light-quark jets to work with. The data contains information on topo-clusters for each event -- the same cell-level and cluster-level info we have with our network training data.\n",
    "\n",
    "We *also* need to fetch the locations of our classification and energy regression networks, so that we can load and apply them to the data."
   ]
  },
  {
   "cell_type": "code",
   "execution_count": 113,
   "id": "4302c52a-347a-4f0c-a474-b5d992735aa4",
   "metadata": {},
   "outputs": [],
   "source": [
    "h5_name_suffix = 'jdata_npu' # used for HDF5 files containing selected events\n",
    "\n",
    "# We package things as a dictionary for now, since that's what our `setupPionData` function expects.\n",
    "rootfiles = {'jet':glob.glob(data_dir + '/*.root')}\n",
    "branches = [\n",
    "            'clusterE', 'clusterECalib', \n",
    "            'clusterPt', 'clusterEta', 'clusterPhi', \n",
    "            #'cluster_nCells', 'cluster_sumCellE', \n",
    "            'cluster_ENG_CALIB_TOT'#, 'cluster_EM_PROBABILITY'\n",
    "] "
   ]
  },
  {
   "cell_type": "code",
   "execution_count": 116,
   "id": "4c73c1d8-31fb-4698-8929-ec5a1fe5c029",
   "metadata": {},
   "outputs": [
    {
     "name": "stdout",
     "output_type": "stream",
     "text": [
      "Applying cut on distribution: cluster_ENG_CALIB_TOT.\n",
      "Applying cut on distribution: clusterEta.\n",
      "Preparing pandas DataFrame.\n",
      "Preparing calorimeter images. |\u001b[32m█\u001b[0m\u001b[32m█\u001b[0m\u001b[32m█\u001b[0m\u001b[32m█\u001b[0m\u001b[32m█\u001b[0m\u001b[32m█\u001b[0m\u001b[32m█\u001b[0m\u001b[32m█\u001b[0m\u001b[32m█\u001b[0m\u001b[32m█\u001b[0m\u001b[32m█\u001b[0m\u001b[32m█\u001b[0m\u001b[32m█\u001b[0m\u001b[32m█\u001b[0m\u001b[32m█\u001b[0m\u001b[32m█\u001b[0m\u001b[32m█\u001b[0m\u001b[32m█\u001b[0m\u001b[32m█\u001b[0m\u001b[32m█\u001b[0m\u001b[32m█\u001b[0m\u001b[32m█\u001b[0m\u001b[32m█\u001b[0m\u001b[32m█\u001b[0m\u001b[32m█\u001b[0m\u001b[32m█\u001b[0m\u001b[32m█\u001b[0m\u001b[32m█\u001b[0m\u001b[32m█\u001b[0m\u001b[32m█\u001b[0m\u001b[32m█\u001b[0m\u001b[32m█\u001b[0m\u001b[32m█\u001b[0m\u001b[32m█\u001b[0m\u001b[32m█\u001b[0m\u001b[32m█\u001b[0m\u001b[32m█\u001b[0m\u001b[32m█\u001b[0m\u001b[32m█\u001b[0m\u001b[32m█\u001b[0m| 100.0% % Complete\n",
      "Saving DataFrames to /local/home/jano/ml4pions/LCStudies/jets/../data/jet/jdata_npu_frame.h5.\n",
      "Saving calorimeter images to /local/home/jano/ml4pions/LCStudies/jets/../data/jet/jdata_npu_images.h5.\n"
     ]
    }
   ],
   "source": [
    "# Prepare data\n",
    "h5_name = '/'.join((data_dir,h5_name_suffix))\n",
    "\n",
    "cluster_max_eta = 0.7\n",
    "cluster_min_eng_calib_tot = 1.0e-10\n",
    "\n",
    "pdata,pcells,sel_indices = mu.setupPionData(rootfiles,\n",
    "                                            branches=branches,\n",
    "                                            layers=layers,\n",
    "                                            balance_data=False,\n",
    "                                            verbose=True,\n",
    "                                            load=True,\n",
    "                                            save=True,\n",
    "                                            filename=h5_name,\n",
    "                                            cut_distributions=['cluster_ENG_CALIB_TOT','clusterEta'],\n",
    "                                            cut_values = [cluster_min_eng_calib_tot, (-cluster_max_eta,cluster_max_eta)],\n",
    "                                            cut_types=['lower','window'],\n",
    "                                            return_indices=True\n",
    "                                           )\n",
    "\n",
    "# Get rid of one layers of keys, which is redundant in this case.\n",
    "pdata = pdata['jet']\n",
    "pcells = pcells['jet']\n",
    "sel_indices = sel_indices['jet']"
   ]
  },
  {
   "cell_type": "markdown",
   "id": "90112a92-a39e-4063-b06f-6bdd9f8c3c54",
   "metadata": {},
   "source": [
    "We also want to fetch information on EM and LC jets. These are stored in trees called `EventTree` in our files."
   ]
  },
  {
   "cell_type": "code",
   "execution_count": 117,
   "id": "22b98e63-4158-4472-b707-de5bcab02b70",
   "metadata": {},
   "outputs": [],
   "source": [
    "reference_jet_names = ['AntiKt4EMTopoJets','AntiKt4LCTopoJets','AntiKt4TruthJets']\n",
    "jet_component_names = ['Pt','Eta','Phi','E']\n",
    "jet_branches = [x+y for x in reference_jet_names for y in jet_component_names]\n",
    "\n",
    "jet_info = ur.lazy([':'.join((x,'EventTree')) for x in rootfiles['jet']],filter_branch=lambda x: x.name in jet_branches)"
   ]
  },
  {
   "cell_type": "markdown",
   "id": "eeef6e49-8159-4540-ba77-5632695ae9fc",
   "metadata": {},
   "source": [
    "### Network Preparation\n",
    "\n",
    "Besides loading the jet data, we also need to load our models (neural networks), which we will apply to the data in order to get the corrected topo-cluster energies.\n",
    "\n",
    "We have a number of different classifiers and regressors available -- here we will choose which ones we use. Note that our choice of classifier/regressor may also affect *how* we have to load the data. So if we switch models, we may also have to change our data-loading code.\n",
    "\n",
    "Also note that for the energy regression, we are using a *binned* regression -- thus we will have multiple regressors for both charged and neutral pions, each corresponding to a particular range of topo-cluster reco energies."
   ]
  },
  {
   "cell_type": "code",
   "execution_count": 118,
   "id": "3caa7364-dc63-4bc2-84f5-9147742f457b",
   "metadata": {},
   "outputs": [],
   "source": [
    "classifier_file = classification_dir + '/cnn/{}.h5'.format(classifier_modelname)\n",
    "\n",
    "if(classifier_modelname == 'cnn_split_EMB'):\n",
    "    classifier_model = classifier_models_exp.exp_merged_model\n",
    "else:\n",
    "    print('Error: Classifier model name not understood.')\n",
    "    assert(False)"
   ]
  },
  {
   "cell_type": "code",
   "execution_count": 119,
   "id": "52edbfb0-d028-4d0c-8c37-83367e02f7b0",
   "metadata": {},
   "outputs": [],
   "source": [
    "if(regressor_modelname == 'all'):\n",
    "    regressor_model = regressor_models.baseline_nn_model\n",
    "elif(regressor_modelname == 'simple'):\n",
    "    regressor_model = regressor_models.depth_network\n",
    "elif(regressor_modelname == 'simple_cnn'):\n",
    "    regressor_model = regressor_models.simple_cnn\n",
    "elif(regressor_modelname == 'split_emb_cnn'):\n",
    "    regressor_model = regressor_models.split_emb_cnn\n",
    "elif(regressor_modelname == 'resnet'):\n",
    "    regressor_model = regressor_models.resnet\n",
    "elif(regressor_modelname == 'lorentz'):\n",
    "    regressor_model = regressor_models.lorentz_net\n",
    "    \n",
    "else:\n",
    "    print('Error: Regressor model name not understood.')\n",
    "    assert(False)\n",
    "\n",
    "regression_files = {\n",
    "    'charged': glob.glob(regression_dir + '/**/{a}/{a}_charged.h5'.format(a=regressor_modelname),recursive=True),\n",
    "    'neutral': glob.glob(regression_dir + '/**/{a}/{a}_neutral.h5'.format(a=regressor_modelname),recursive=True)\n",
    "}\n",
    "\n",
    "scaler_files = glob.glob(regression_dir + '/**/scalers.save', recursive=True)\n",
    "scaler_files.sort()\n",
    "\n",
    "for key,val in regression_files.items():\n",
    "    regression_files[key].sort()"
   ]
  },
  {
   "cell_type": "code",
   "execution_count": 120,
   "id": "4971ce48-e0cd-430e-9e67-3e0bea56ebd1",
   "metadata": {},
   "outputs": [],
   "source": [
    "# Now we explicitly check that the filenames are lined up, i.e. that we will pair up the right scalers with the regression files.\n",
    "if(binned_regressors):\n",
    "    for i,scaler_file in enumerate(scaler_files):\n",
    "        bin_name = scaler_file.replace(regression_dir + '/','').split('/')[0]    \n",
    "        for key,val in regression_files.items():\n",
    "            bin_name_2 = val[i].replace(regression_dir + '/','').split('/')[0]\n",
    "            assert(bin_name == bin_name_2)\n",
    "\n",
    "    # Also make sure that we have the right number of reco bin edges\n",
    "    for key,val in regression_files.items():\n",
    "        assert(len(val) == len(reco_energy_bin_edges))"
   ]
  },
  {
   "cell_type": "markdown",
   "id": "03967b33-c6af-47ac-b98c-e0da8cd1aabe",
   "metadata": {},
   "source": [
    "Now we must define our regression variables -- our energy regression will need some inputs that undergo some scaling, which is some mapping (a function) followed by application of some scalers (which were derived using training data)."
   ]
  },
  {
   "cell_type": "code",
   "execution_count": 16,
   "id": "c747c675-9a24-493c-94e7-bc25e75896e7",
   "metadata": {},
   "outputs": [],
   "source": [
    "m = 1.\n",
    "b = 1.0e-5\n",
    "EnergyMapping = iu.LogMapping(b=b,m=m)"
   ]
  },
  {
   "cell_type": "code",
   "execution_count": 17,
   "id": "4638b74d-2076-4bde-9a5f-1cc36c3f08fc",
   "metadata": {},
   "outputs": [],
   "source": [
    "# Some regression vars.\n",
    "pdata['logE'] = EnergyMapping.Forward(pdata['clusterE'].to_numpy()) # log of reco energy, possible network input\n",
    "pdata['clusterEtaAbs'] = np.abs(pdata['clusterEta'].to_numpy()) # absolute value of eta, possible network input"
   ]
  },
  {
   "cell_type": "code",
   "execution_count": 18,
   "id": "0b7a2f2d-75c7-4bb5-9022-3addb6734f12",
   "metadata": {},
   "outputs": [
    {
     "name": "stdout",
     "output_type": "stream",
     "text": [
      "Loading scalers from /local/home/jano/ml4pions/LCStudies/jets/../regression2/Models/pion3/scalers.save.\n"
     ]
    }
   ],
   "source": [
    "#TODO: We have scalers derived from charged pion and neutral pion data. We're just using the charged pion ones -- does this make sense?\n",
    "scalers = []\n",
    "scaler_branches = ['logE', 'clusterEtaAbs']\n",
    "scaled_variable_prefixes = ['s{}'.format(i) for i in range(len(scaler_files))]\n",
    "for i,scaler_file in enumerate(scaler_files):\n",
    "    scalers.append(mu.setupScalers({'pp':pdata}, scaler_branches, scaler_file, scaled_variable_prefixes[i]))"
   ]
  },
  {
   "cell_type": "markdown",
   "id": "5f50b882-6721-4714-b8fa-5d25a572e2e3",
   "metadata": {},
   "source": [
    "Since we are potentially using multiple regressors binned by reco energy, let's fetch the indices of events that will be passed to each regressor."
   ]
  },
  {
   "cell_type": "code",
   "execution_count": 19,
   "id": "33738aa2-6b27-4c59-8dae-0159deb9aa27",
   "metadata": {},
   "outputs": [],
   "source": [
    "regressor_indices = []\n",
    "\n",
    "for i in range(len(reco_energy_bin_edges)-1,-1,-1):\n",
    "    \n",
    "    indices = pdata['clusterE'].to_numpy() > reco_energy_bin_edges[i]\n",
    "\n",
    "    if(i != len(reco_energy_bin_edges)-1):\n",
    "        indices *= pdata['clusterE'].to_numpy() < reco_energy_bin_edges[i+1]\n",
    "        \n",
    "    indices = np.where(indices)[0]\n",
    "    regressor_indices.append(indices)"
   ]
  },
  {
   "cell_type": "markdown",
   "id": "24aa3fb2-994c-4786-86a1-1dd4f9304ed3",
   "metadata": {},
   "source": [
    "Now we package the data in the format that our networks will use. The exact packaging depends on which network we're using."
   ]
  },
  {
   "cell_type": "code",
   "execution_count": 20,
   "id": "df425826-0905-4a66-a7ad-29dc9e788843",
   "metadata": {},
   "outputs": [],
   "source": [
    "classifier_input_filename = 'classifier_input_{}.h5'.format(classifier_modelname)\n",
    "regressor_input_filename = 'regressor_input_{}.h5'.format(regressor_modelname)\n",
    "\n",
    "# Some hackery since certain networks use identical input.\n",
    "if(regressor_modelname == 'simple_cnn'):\n",
    "    regressor_input_filename = 'regressor_input_{}.h5'.format('split_emb_cnn')"
   ]
  },
  {
   "cell_type": "code",
   "execution_count": 21,
   "id": "f1f363e1-8c2d-4a05-9390-8db22ed42ec9",
   "metadata": {},
   "outputs": [
    {
     "name": "stdout",
     "output_type": "stream",
     "text": [
      "Loading classifier_input_cnn_split_EMB.h5.\n"
     ]
    }
   ],
   "source": [
    "# Classifier data.\n",
    "classifier_input = du.ClassifierDataPrep(classifier_modelname, pdata, pcells, filename=classifier_input_filename)"
   ]
  },
  {
   "cell_type": "code",
   "execution_count": 22,
   "id": "57a90f3f-0be4-4747-b5b8-96fa4e5d8a47",
   "metadata": {},
   "outputs": [],
   "source": [
    "# Regressor data. Note that if using binned regressors we will have a set of inputs.\n",
    "regressor_input = du.RegressorDataPrep(regressor_modelname, pdata, pcells, \n",
    "                                       reco_energy_bin_edges = reco_energy_bin_edges,\n",
    "                                       scaled_variable_prefixes = scaled_variable_prefixes,\n",
    "                                       regressor_indices = regressor_indices,\n",
    "                                       filename = regressor_input_filename\n",
    "                                      )"
   ]
  },
  {
   "cell_type": "markdown",
   "id": "51f98f3d-466b-4418-82ae-7b0e3c2a5feb",
   "metadata": {},
   "source": [
    "Let's load the actual networks now."
   ]
  },
  {
   "cell_type": "code",
   "execution_count": 23,
   "id": "efb3fbc3-325b-4b62-9864-eff5d724feb6",
   "metadata": {},
   "outputs": [
    {
     "name": "stdout",
     "output_type": "stream",
     "text": [
      "Successfully loaded model at /local/home/jano/ml4pions/LCStudies/jets/../classifier/Models/pion3/cnn/cnn_split_EMB.h5\n"
     ]
    },
    {
     "name": "stderr",
     "output_type": "stream",
     "text": [
      "2021-08-02 08:50:28.801824: I tensorflow/stream_executor/platform/default/dso_loader.cc:53] Successfully opened dynamic library libcuda.so.1\n",
      "2021-08-02 08:50:28.869192: I tensorflow/core/common_runtime/gpu/gpu_device.cc:1733] Found device 0 with properties: \n",
      "pciBusID: 0000:18:00.0 name: Quadro P5000 computeCapability: 6.1\n",
      "coreClock: 1.7335GHz coreCount: 20 deviceMemorySize: 15.90GiB deviceMemoryBandwidth: 269.00GiB/s\n",
      "2021-08-02 08:50:28.869268: I tensorflow/stream_executor/platform/default/dso_loader.cc:53] Successfully opened dynamic library libcudart.so.11.0\n",
      "2021-08-02 08:50:28.874118: I tensorflow/stream_executor/platform/default/dso_loader.cc:53] Successfully opened dynamic library libcublas.so.11\n",
      "2021-08-02 08:50:28.874261: I tensorflow/stream_executor/platform/default/dso_loader.cc:53] Successfully opened dynamic library libcublasLt.so.11\n",
      "2021-08-02 08:50:28.875552: I tensorflow/stream_executor/platform/default/dso_loader.cc:53] Successfully opened dynamic library libcufft.so.10\n",
      "2021-08-02 08:50:28.875994: I tensorflow/stream_executor/platform/default/dso_loader.cc:53] Successfully opened dynamic library libcurand.so.10\n",
      "2021-08-02 08:50:28.878109: I tensorflow/stream_executor/platform/default/dso_loader.cc:53] Successfully opened dynamic library libcusolver.so.11\n",
      "2021-08-02 08:50:28.879026: I tensorflow/stream_executor/platform/default/dso_loader.cc:53] Successfully opened dynamic library libcusparse.so.11\n",
      "2021-08-02 08:50:28.879305: I tensorflow/stream_executor/platform/default/dso_loader.cc:53] Successfully opened dynamic library libcudnn.so.8\n",
      "2021-08-02 08:50:28.881286: I tensorflow/core/common_runtime/gpu/gpu_device.cc:1871] Adding visible gpu devices: 0\n",
      "2021-08-02 08:50:28.882752: I tensorflow/core/platform/cpu_feature_guard.cc:142] This TensorFlow binary is optimized with oneAPI Deep Neural Network Library (oneDNN) to use the following CPU instructions in performance-critical operations:  AVX2 AVX512F FMA\n",
      "To enable them in other operations, rebuild TensorFlow with the appropriate compiler flags.\n",
      "2021-08-02 08:50:28.888798: I tensorflow/core/common_runtime/gpu/gpu_device.cc:1733] Found device 0 with properties: \n",
      "pciBusID: 0000:18:00.0 name: Quadro P5000 computeCapability: 6.1\n",
      "coreClock: 1.7335GHz coreCount: 20 deviceMemorySize: 15.90GiB deviceMemoryBandwidth: 269.00GiB/s\n",
      "2021-08-02 08:50:28.893035: I tensorflow/core/common_runtime/gpu/gpu_device.cc:1871] Adding visible gpu devices: 0\n",
      "2021-08-02 08:50:28.893171: I tensorflow/stream_executor/platform/default/dso_loader.cc:53] Successfully opened dynamic library libcudart.so.11.0\n",
      "2021-08-02 08:50:29.539669: I tensorflow/core/common_runtime/gpu/gpu_device.cc:1258] Device interconnect StreamExecutor with strength 1 edge matrix:\n",
      "2021-08-02 08:50:29.539704: I tensorflow/core/common_runtime/gpu/gpu_device.cc:1264]      0 \n",
      "2021-08-02 08:50:29.539710: I tensorflow/core/common_runtime/gpu/gpu_device.cc:1277] 0:   N \n",
      "2021-08-02 08:50:29.541460: I tensorflow/core/common_runtime/gpu/gpu_device.cc:1418] Created TensorFlow device (/job:localhost/replica:0/task:0/device:GPU:0 with 15549 MB memory) -> physical GPU (device: 0, name: Quadro P5000, pci bus id: 0000:18:00.0, compute capability: 6.1)\n"
     ]
    }
   ],
   "source": [
    "classifier, _ = ctu.TrainNetwork(classifier_model(), classifier_file, overwriteModel=False, finishTraining=False)"
   ]
  },
  {
   "cell_type": "code",
   "execution_count": 24,
   "id": "97af50c3-dedc-46be-9da1-bdf96889af95",
   "metadata": {},
   "outputs": [],
   "source": [
    "regressor = {}\n",
    "\n",
    "for key,val in regression_files.items():\n",
    "    regressor[key] = []\n",
    "    for regressor_file in val:\n",
    "        reg, _ = rtu.TrainNetwork(regressor_model(), regressor_file, overwriteModel=False, finishTraining=False)\n",
    "        regressor[key].append(reg)"
   ]
  },
  {
   "cell_type": "markdown",
   "id": "c357742e-0035-493d-818a-e3c2ecaf5a10",
   "metadata": {},
   "source": [
    "## Apply Neural Networks\n",
    "\n",
    "Now that we've loaded our data and prepared our neural networks, we want to evaluate them on the data to get our classification scores and corrected energies.\n",
    "\n",
    "The simplest way to do this would be to evaluate every network on every event. However, it will be more efficient to avoid evaluating regressors on topo-clusters outside their energy range, since we would not use the result anyway.\n",
    "\n",
    "We could also in principle define our classification score cut here -- and only apply charged/neutral regressions to each topo-cluster based on its score and that cut. But it's easier to just apply the charged and neutral regression to each topo-cluster, so that we can adjust the cut afterwards without having to recompute things.\n",
    "\n",
    "Lastly, we will save our network outputs to a file that can be loaded, so that we don't have to re-evaluate the networks every time. We just have to make sure to move/remove this file if we change something about the evaluation, e.g. which models we're using. Ultimately we'll want to design this so that if we're loading the scores from a file, we don't even load the networks into memory as we did above."
   ]
  },
  {
   "cell_type": "code",
   "execution_count": 25,
   "id": "831649ab-a4a5-40e5-ad1a-36fc97de4932",
   "metadata": {},
   "outputs": [],
   "source": [
    "classification_score_file = 'classification_scores_{}.h5'.format(classifier_modelname)\n",
    "regression_score_file = 'regression_scores_{}.h5'.format(regressor_modelname)"
   ]
  },
  {
   "cell_type": "code",
   "execution_count": 26,
   "id": "64c272b9-9579-466f-9157-550e28e564f9",
   "metadata": {},
   "outputs": [
    {
     "name": "stdout",
     "output_type": "stream",
     "text": [
      "Loading classification scores from classification_scores_cnn_split_EMB.h5.\n"
     ]
    }
   ],
   "source": [
    "# First get the classification scores -- this is the simple part, we just apply the same classifier to all topo-clusters.\n",
    "if(not pathlib.Path(classification_score_file).exists()):\n",
    "    \n",
    "    # Evaluate the network.\n",
    "    print('Evaluating classifier.')\n",
    "    classification_scores = classifier.predict(classifier_input)[:,1]\n",
    "    \n",
    "    # Save these scores to a file.\n",
    "    print('Saving classification scores to {}.'.format(classification_score_file))\n",
    "    hf = h5.File(classification_score_file, 'w')\n",
    "    dset = hf.create_dataset('scores',data=classification_scores,compression='gzip', compression_opts=7)\n",
    "    hf.close()\n",
    "    \n",
    "else:\n",
    "    \n",
    "    # Load the scores from a file.\n",
    "    print('Loading classification scores from {}.'.format(classification_score_file))\n",
    "    hf = h5.File(classification_score_file,'r')\n",
    "    classification_scores = hf['scores'][:]\n",
    "    hf.close()"
   ]
  },
  {
   "cell_type": "code",
   "execution_count": 27,
   "id": "2f065707-bdb2-4d89-b114-7c97cdf151cf",
   "metadata": {},
   "outputs": [
    {
     "name": "stdout",
     "output_type": "stream",
     "text": [
      "Evaluating regressors.\n",
      "11610/11610 [==============================] - 70s 6ms/step\n",
      "11610/11610 [==============================] - 69s 6ms/step\n",
      "Saving regression scores to regression_scores_split_emb_cnn.h5.\n"
     ]
    },
    {
     "name": "stderr",
     "output_type": "stream",
     "text": [
      "2021-08-02 08:50:43.081805: W tensorflow/core/framework/cpu_allocator_impl.cc:80] Allocation of 4755286016 exceeds 10% of free system memory.\n",
      "2021-08-02 08:50:48.781802: I tensorflow/compiler/mlir/mlir_graph_optimization_pass.cc:176] None of the MLIR Optimization Passes are enabled (registered 2)\n",
      "2021-08-02 08:50:48.802298: I tensorflow/core/platform/profile_utils/cpu_utils.cc:114] CPU Frequency: 2100000000 Hz\n",
      "2021-08-02 08:50:49.132125: I tensorflow/stream_executor/platform/default/dso_loader.cc:53] Successfully opened dynamic library libcudnn.so.8\n",
      "2021-08-02 08:50:49.511031: I tensorflow/stream_executor/cuda/cuda_dnn.cc:359] Loaded cuDNN version 8201\n",
      "2021-08-02 08:50:49.870377: W tensorflow/stream_executor/gpu/asm_compiler.cc:99] *** WARNING *** You are using ptxas 9.1.108, which is older than 9.2.88. ptxas 9.x before 9.2.88 is known to miscompile XLA code, leading to incorrect results or invalid-address errors.\n",
      "\n",
      "You do not need to update to CUDA 9.2.88; cherry-picking the ptxas binary is sufficient.\n",
      "2021-08-02 08:50:49.922007: I tensorflow/stream_executor/platform/default/dso_loader.cc:53] Successfully opened dynamic library libcublas.so.11\n",
      "2021-08-02 08:50:50.314304: I tensorflow/stream_executor/platform/default/dso_loader.cc:53] Successfully opened dynamic library libcublasLt.so.11\n",
      "2021-08-02 08:51:58.526344: W tensorflow/core/framework/cpu_allocator_impl.cc:80] Allocation of 4755286016 exceeds 10% of free system memory.\n"
     ]
    }
   ],
   "source": [
    "# Now handle the regression scores.\n",
    "regression_scores = {}\n",
    "\n",
    "if(not pathlib.Path(regression_score_file).exists()):\n",
    "    print('Evaluating regressors.')\n",
    "    for key,regressor_set in regressor.items():\n",
    "        scores = np.zeros(len(pdata))\n",
    "        for i,reg in enumerate(regressor_set):\n",
    "            scores[regressor_indices[i]] = rtu.GetPredictions(regressor=reg, model_input=regressor_input[i])\n",
    "        regression_scores[key] = scores\n",
    "    \n",
    "    # Now save the scores to a file.\n",
    "    print('Saving regression scores to {}.'.format(regression_score_file))\n",
    "    hf = h5.File(regression_score_file, 'w')\n",
    "    for key,val in regression_scores.items():\n",
    "        dset = hf.create_dataset(key,data=val ,compression='gzip', compression_opts=7)\n",
    "    hf.close()\n",
    "    \n",
    "else:\n",
    "    \n",
    "    # Load the scores from a file.\n",
    "    print('Loading regression scores from {}.'.format(regression_score_file))\n",
    "    hf = h5.File(regression_score_file,'r')\n",
    "    for key in hf.keys():\n",
    "        regression_scores[key] = hf[key][:]\n",
    "    hf.close()"
   ]
  },
  {
   "cell_type": "markdown",
   "id": "23b55761-f3f1-4a79-8096-54919b2e52f9",
   "metadata": {},
   "source": [
    "Now that we've collected our classification and regressino scores, let's add the relevant data to our `pandas.DataFrame`.\n",
    "\n",
    "Note that we are using regressors that predict the *ratio* between true and reco energy, not the reco energy itself -- so we must multiply the existing reco energy by the regression scores to get the new predicted energy."
   ]
  },
  {
   "cell_type": "code",
   "execution_count": 28,
   "id": "6a8a672d-13a1-4928-88ff-0a24e8ccb191",
   "metadata": {},
   "outputs": [],
   "source": [
    "classification_key = 'score'\n",
    "regression_key_prefix = 'clusterE_pred'\n",
    "regression_keys = {key:regression_key_prefix + '_' + key for key in regression_scores.keys()}\n",
    "\n",
    "pdata[classification_key] = classification_scores\n",
    "\n",
    "for key,val in regression_keys.items():\n",
    "    pdata[val] = regression_scores[key] * pdata['clusterE'].to_numpy()"
   ]
  },
  {
   "cell_type": "markdown",
   "id": "86ecca5e-001b-421e-9e75-7875fa70d968",
   "metadata": {},
   "source": [
    "## Plotting network results\n",
    "\n",
    "Before going any further, we can plot some network results -- our classification and regression scores, the corresponding predicted energies for each regression, and the ratio of predicted energy to reco energy for each regression.\n",
    "\n",
    "**TODO:** Note that we have a charged regression result and a neutral regression result for *each* topo-cluster -- in other words there's some double-counting going on, because ultimately we will treat each topo-cluster as only charged or neutral. Without immediately deciding on a classification score cut, we can make a 2D plot showing the distribution of charged or neutral regression scores (or predicted energies) as a function of that cut."
   ]
  },
  {
   "cell_type": "code",
   "execution_count": 29,
   "id": "777d902d-2382-42f8-84d6-65367fd0b61e",
   "metadata": {},
   "outputs": [
    {
     "name": "stderr",
     "output_type": "stream",
     "text": [
      "Info in <TCanvas::Print>: png file /local/home/jano/ml4pions/LCStudies/jets/Plots/scores_split_emb_cnn.png has been created\n"
     ]
    },
    {
     "data": {
      "image/png": "[encoded data removed]",
      "text/plain": [
       "<IPython.core.display.Image object>"
      ]
     },
     "metadata": {},
     "output_type": "display_data"
    }
   ],
   "source": [
    "c = rt.TCanvas(qu.RN(),qu.RN(),1600,600)\n",
    "c.Divide(2,1)\n",
    "\n",
    "# ---\n",
    "c.cd(1)\n",
    "hist = rt.TH1F(qu.RN(),'Classification Scores;Score;Fractional Count',102,-0.01,1.01)\n",
    "for entry in classification_scores: hist.Fill(entry)\n",
    "hist.SetLineColor(ps.main)\n",
    "hist.SetFillColorAlpha(ps.main, 0.5)\n",
    "hist.Scale(1./hist.Integral())\n",
    "hist.Draw('HIST')\n",
    "# ---\n",
    "c.cd(2)\n",
    "stack = rt.THStack(qu.RN(),'Energy Calibration Factors;Regression Output;Fractional Count')\n",
    "leg = rt.TLegend(0.75,0.8,0.9,0.9)\n",
    "h = {key:rt.TH1F(qu.RN(),'',500,0.,10.0) for key in regression_scores.keys()}\n",
    "colors = [ps.curve, ps.text]\n",
    "\n",
    "for i,key in enumerate(regression_scores.keys()):\n",
    "    for entry in regression_scores[key]:\n",
    "        h[key].Fill(entry)\n",
    "    h[key].SetLineColor(colors[i])\n",
    "    h[key].SetFillColorAlpha(colors[i],0.1)\n",
    "    h[key].Scale(1./h[key].Integral())\n",
    "    stack.Add(h[key])\n",
    "    leg.AddEntry(h[key],key,'lf')\n",
    "stack.Draw('NOSTACK HIST')\n",
    "leg.SetTextColor(ps.text)\n",
    "leg.Draw()\n",
    "rt.gPad.SetLogy()\n",
    "# ---\n",
    "\n",
    "c.Draw()\n",
    "c.SaveAs(plotpath+'scores_{}.png'.format(regressor_modelname))"
   ]
  },
  {
   "cell_type": "markdown",
   "id": "10ec974a-1c6f-4720-84f4-85c9b3df8256",
   "metadata": {},
   "source": [
    "From the simple plots above, things look sensible. Consistent with our results in training, we see that the neutral pion regression doesn't shift the energy very much, whereas the charged regression will typically shift the energy slightly upwards. Of course, these plots include *charged pion* regression scores for clusters likely to be *neutral* pions and vice-versa, but it's nonetheless a sensible result."
   ]
  },
  {
   "cell_type": "markdown",
   "id": "5d427980-9206-439c-a25d-7fbb713e0612",
   "metadata": {},
   "source": [
    "## Applying the classification score cut.\n",
    "\n",
    "At the top of the notebook, we defined our classification score cut -- we use this to determine *which* energy regression (charged or neutral) to apply to each topo-cluster. All topo-clusters with scores below this cut will be treated as neutral pions, and all topo-clusters with scores above this cut will be treated as charged pions."
   ]
  },
  {
   "cell_type": "code",
   "execution_count": 30,
   "id": "8c34daf5-960a-488a-8443-25df5328e341",
   "metadata": {},
   "outputs": [],
   "source": [
    "predicted_energy_key = 'clusterE_pred'\n",
    "\n",
    "# Funky stuff since I'm not very familiar with pandas tricks.\n",
    "clusterE_pred = np.array(pdata['clusterE_pred_neutral'].to_numpy()) # make a copy\n",
    "charged_idxs = (pdata[classification_key] > classification_score_cut).to_numpy()\n",
    "clusterE_pred[charged_idxs] = pdata['clusterE_pred_charged'][charged_idxs].to_numpy()\n",
    "\n",
    "pdata[predicted_energy_key] = clusterE_pred"
   ]
  },
  {
   "cell_type": "markdown",
   "id": "666f5071-a1ba-495a-99d7-c983bb9d78d0",
   "metadata": {},
   "source": [
    "Let's double-check the predicted topo-cluster energy distribution -- how have things shifted with respect to the old one?\n",
    "\n",
    "We can also look at the regression scores as a function of energy."
   ]
  },
  {
   "cell_type": "code",
   "execution_count": 31,
   "id": "ad7f1c27-f65c-44a1-9f48-2393b036d8f6",
   "metadata": {},
   "outputs": [
    {
     "name": "stderr",
     "output_type": "stream",
     "text": [
      "Info in <TCanvas::Print>: png file /local/home/jano/ml4pions/LCStudies/jets/Plots/regression_energies_split_emb_cnn.png has been created\n"
     ]
    },
    {
     "data": {
      "image/png": "[encoded data removed]",
      "text/plain": [
       "<IPython.core.display.Image object>"
      ]
     },
     "metadata": {},
     "output_type": "display_data"
    }
   ],
   "source": [
    "c = rt.TCanvas(qu.RN(),'',800,600)\n",
    "hstack = rt.THStack(qu.RN(),'Topo-cluster energy;Energy [GeV]; Fractional Count')\n",
    "hists = []\n",
    "binning = (200,0.,100.)\n",
    "colors = [ps.curve, ps.text, ps.main]\n",
    "legend = rt.TLegend(0.75,0.8,0.9,0.9)\n",
    "legend.SetTextColor(ps.text)\n",
    "\n",
    "for i,key in enumerate(['clusterE','clusterE_pred_charged', 'clusterE_pred_neutral']):\n",
    "    h = rt.TH1F(qu.RN(),'',*binning)\n",
    "    h.SetLineColor(colors[i])\n",
    "    for entry in pdata[key].to_numpy(): h.Fill(entry)\n",
    "    h.Scale(1./h.Integral())\n",
    "    hstack.Add(h)\n",
    "    legend.AddEntry(h,key,'l')\n",
    "    \n",
    "hstack.Draw('NOSTACK HIST')\n",
    "legend.Draw()\n",
    "rt.gPad.SetLogx()\n",
    "rt.gPad.SetLogy()\n",
    "c.Draw()\n",
    "c.SaveAs(plotpath+'regression_energies_{}.png'.format(regressor_modelname))"
   ]
  },
  {
   "cell_type": "code",
   "execution_count": 32,
   "id": "f65fc2d4-7f05-4c46-8e82-1bd02f20cae5",
   "metadata": {},
   "outputs": [
    {
     "name": "stderr",
     "output_type": "stream",
     "text": [
      "Info in <TCanvas::Print>: png file /local/home/jano/ml4pions/LCStudies/jets/Plots/scores_vs_energy_split_emb_cnn.png has been created\n"
     ]
    },
    {
     "data": {
      "image/png": "[encoded data removed]",
      "text/plain": [
       "<IPython.core.display.Image object>"
      ]
     },
     "metadata": {},
     "output_type": "display_data"
    }
   ],
   "source": [
    "c = rt.TCanvas(qu.RN(),'',1600,1200)\n",
    "c.Divide(2,2)\n",
    "binning = (80,0.,80.,250,0.,5.)\n",
    "binning2 = (80,0.,80.,1000,0.,100.)\n",
    "hists = []\n",
    "\n",
    "n = len(regression_scores['charged'])\n",
    "clusterE = pdata['clusterE'].to_numpy()\n",
    "cluster_ENG_CALIB_TOT = pdata['cluster_ENG_CALIB_TOT'].to_numpy()\n",
    "\n",
    "c.cd(1)\n",
    "h = rt.TH2F(qu.RN(),'Charged calibration factor vs. ClusterE;clusterE [GeV];Energy Calibration Factor;Fractional Count', *binning)\n",
    "for i in range(n):\n",
    "    h.Fill(clusterE[i], regression_scores['charged'][i])\n",
    "    \n",
    "h.Scale(1./h.Integral())\n",
    "h.Draw('COLZ')\n",
    "rt.gPad.SetRightMargin(0.2)\n",
    "rt.gPad.SetLogx()\n",
    "# rt.gPad.SetLogy()\n",
    "rt.gPad.SetLogz()\n",
    "hists.append(h)\n",
    "\n",
    "c.cd(2)\n",
    "h = rt.TH2F(qu.RN(),'Neutral calibration factor vs. ClusterE;clusterE [GeV];Energy Calibration Factor;Fractional Count', *binning)\n",
    "for i in range(n):\n",
    "    h.Fill(clusterE[i], regression_scores['neutral'][i])\n",
    "    \n",
    "h.Scale(1./h.Integral())\n",
    "h.Draw('COLZ')\n",
    "rt.gPad.SetRightMargin(0.2)\n",
    "rt.gPad.SetLogx()\n",
    "# rt.gPad.SetLogy()\n",
    "rt.gPad.SetLogz()\n",
    "hists.append(h)\n",
    "\n",
    "c.cd(3)\n",
    "h = rt.TH2F(qu.RN(), 'E_{pred}^{charged}/E_{true} vs. ClusterE;clusterE [GeV];E_{pred}^{charged} / E_{true};Fractional Count', *binning2)\n",
    "for i in range(n):\n",
    "    e_true = cluster_ENG_CALIB_TOT[i]\n",
    "    if(e_true == 0.): continue # pile-up\n",
    "    h.Fill(clusterE[i], regression_scores['charged'][i] * clusterE[i] / e_true)\n",
    "h.Scale(1./h.Integral())\n",
    "h.Draw('COLZ')\n",
    "rt.gPad.SetRightMargin(0.2)\n",
    "rt.gPad.SetLogx()\n",
    "rt.gPad.SetLogy()\n",
    "rt.gPad.SetLogz()\n",
    "hists.append(h)\n",
    "\n",
    "c.cd(4)\n",
    "h = rt.TH2F(qu.RN(), 'E_{pred}^{neutral}/E_{true} vs. ClusterE;clusterE [GeV];E_{pred}^{charged} / E_{true};Fractional Count', *binning2)\n",
    "for i in range(n):\n",
    "    e_true = cluster_ENG_CALIB_TOT[i]\n",
    "    if(e_true == 0.): continue # pile-up\n",
    "    h.Fill(clusterE[i], regression_scores['neutral'][i] * clusterE[i] / e_true)\n",
    "h.Scale(1./h.Integral())\n",
    "h.Draw('COLZ')\n",
    "rt.gPad.SetRightMargin(0.2)\n",
    "rt.gPad.SetLogx()\n",
    "rt.gPad.SetLogy()\n",
    "rt.gPad.SetLogz()\n",
    "hists.append(h)\n",
    "\n",
    "c.Draw()\n",
    "c.SaveAs(plotpath+'scores_vs_energy_{}.png'.format(regressor_modelname))"
   ]
  },
  {
   "cell_type": "markdown",
   "id": "7ebd04ed-1d6b-4d72-ab83-63f685ba1c59",
   "metadata": {},
   "source": [
    "## Jet clustering\n",
    "\n",
    "Now we want to cluster jets from our topo-clusters, using the predicted energies.\n",
    "\n",
    "Jet clustering is performed at the *event level*, whereas our DataFrame `pdata` contains *cluster level* information, i.e. it does not have information on which event a particular cluster belongs to. However, we can fetch this information from the `EventTree` in the ROOT files.\n",
    "\n",
    "Specifically, each `EventTree` has a branch called `clusterCount` that gives the index of the 1st cluster in the associated `ClusterTree` that belongs to that event -- which together with `nCluster` can be used to associate a set of clusters with a given event.\n",
    "\n",
    "The only issue is that we're opening *multiple* trees at once and chaining them together in the DataFrame (via `uproot.lazy`, which is a little like `ROOT.TChain`). The `clusterCount` variable starts at 0 for every tree, so it gives the index with respect to the current tree but not with respect to the full DataFraame. This is however relatively easy to fix.\n",
    "\n",
    "Furthermore, we have to consider that we have thrown out topo-clusters that didn't pass certain cuts -- so we have to be careful when converting from indices in the original ROOT files (that contain all topo-clusters) to indices in our DataFrame, that contains only filtered topo-clusters."
   ]
  },
  {
   "cell_type": "code",
   "execution_count": 33,
   "id": "7e7c3b96-0c37-4c6c-892f-8fa4f8346253",
   "metadata": {},
   "outputs": [],
   "source": [
    "def GetGlobalClusterCount(cluster_count):\n",
    "    n = len(cluster_count)\n",
    "    for i in range(1,n):\n",
    "        if(cluster_count[i] <= cluster_count[i-1]):\n",
    "            cluster_count[i:] += cluster_count[i-1]\n",
    "    return cluster_count\n",
    "\n",
    "@jit\n",
    "def SelectionsToFrameIndices(sel_indices):\n",
    "    new_indices = np.full(sel_indices.shape, -1, dtype=np.dtype('i8'))\n",
    "    counter = 0\n",
    "    for i,idx in enumerate(sel_indices):\n",
    "        if(idx):\n",
    "            new_indices[i] = counter\n",
    "            counter += 1\n",
    "    return new_indices"
   ]
  },
  {
   "cell_type": "code",
   "execution_count": 34,
   "id": "ee2721d6-d862-4888-9c42-eb25f8ec214a",
   "metadata": {},
   "outputs": [],
   "source": [
    "cluster_idx_branches = ['clusterCount','nCluster']\n",
    "\n",
    "\n",
    "cluster_event_info = ur.lazy([':'.join((x,'EventTree')) for x in rootfiles['jet']], \n",
    "                             filter_branch=lambda x: x.name in cluster_idx_branches\n",
    "                            )\n",
    "\n",
    "cluster_event_info = {key:cluster_event_info[key].to_numpy() for key in cluster_idx_branches}\n",
    "cluster_event_info['clusterCount'] = GetGlobalClusterCount(cluster_event_info['clusterCount'])\n",
    "nevents = cluster_event_info['clusterCount'].shape[0]\n",
    "\n",
    "selected_frame_indices = SelectionsToFrameIndices(sel_indices)"
   ]
  },
  {
   "cell_type": "code",
   "execution_count": 35,
   "id": "ed0ae2dd-485a-49c1-83b0-897fcd1038d6",
   "metadata": {},
   "outputs": [],
   "source": [
    "# Define our jet clustering\n",
    "jet_radius = 0.4\n",
    "jet_def = fj.JetDefinition(fj.antikt_algorithm, jet_radius)"
   ]
  },
  {
   "cell_type": "markdown",
   "id": "c2c231e9-666f-422c-bcf3-c72e724bf2e5",
   "metadata": {},
   "source": [
    "As we are working within some topo-cluster $\\eta$ window cut, we only want to look at jets that are well within this window. The EM, LC and truth jets in our data will likely cover a larger $\\eta$ range so we will want to remove these jets outside our $\\eta$: Those outside the window can't be matched to our ML jets, and keeping them will make the jets' kinematic distributions look quite different.\n",
    "\n",
    "In fact, we also want to throw out any jets *near* our $\\eta$ window cut edge, as this cut might affect jet clustering of jets that are very close to the cut."
   ]
  },
  {
   "cell_type": "code",
   "execution_count": 36,
   "id": "a0ad443f-4d9a-4e09-83fc-8d404c7c78e5",
   "metadata": {},
   "outputs": [],
   "source": [
    "jet_max_eta = cluster_max_eta - jet_radius"
   ]
  },
  {
   "cell_type": "code",
   "execution_count": 37,
   "id": "0d60f352-98b4-4719-a139-2c0ae0201303",
   "metadata": {},
   "outputs": [
    {
     "name": "stdout",
     "output_type": "stream",
     "text": [
      "Clustering ML jets: |\u001b[32m█\u001b[0m\u001b[32m█\u001b[0m\u001b[32m█\u001b[0m\u001b[32m█\u001b[0m\u001b[32m█\u001b[0m\u001b[32m█\u001b[0m\u001b[32m█\u001b[0m\u001b[32m█\u001b[0m\u001b[32m█\u001b[0m\u001b[32m█\u001b[0m\u001b[32m█\u001b[0m\u001b[32m█\u001b[0m\u001b[32m█\u001b[0m\u001b[32m█\u001b[0m\u001b[32m█\u001b[0m\u001b[32m█\u001b[0m\u001b[32m█\u001b[0m\u001b[32m█\u001b[0m\u001b[32m█\u001b[0m\u001b[32m█\u001b[0m\u001b[32m█\u001b[0m\u001b[32m█\u001b[0m\u001b[32m█\u001b[0m\u001b[32m█\u001b[0m\u001b[32m█\u001b[0m\u001b[32m█\u001b[0m\u001b[32m█\u001b[0m\u001b[32m█\u001b[0m\u001b[32m█\u001b[0m\u001b[32m█\u001b[0m\u001b[32m█\u001b[0m\u001b[32m█\u001b[0m\u001b[32m█\u001b[0m\u001b[32m█\u001b[0m\u001b[32m█\u001b[0m\u001b[32m█\u001b[0m\u001b[32m█\u001b[0m\u001b[32m█\u001b[0m\u001b[32m█\u001b[0m\u001b[32m█\u001b[0m| 100.0% % Complete\n",
      "Created ML jets for 43.16% of events. Events without ML jets may not have had topo-clusters passing our cuts.\n"
     ]
    }
   ],
   "source": [
    "# Create variables for saving information on the jets we cluster.\n",
    "custom_jet_name = 'AntiKt4MLTopoJets'\n",
    "custom_jet_keys = [custom_jet_name + x for x in jet_component_names]\n",
    "custom_jet_info = {key:[] for key in custom_jet_keys}\n",
    "\n",
    "# # Debugging: Also recreate the EM jets, using the raw topo-cluster info\n",
    "# debug_jet_keys = ['AntiKt4EMTopoJets{}'.format(x) for x in ['Pt','Eta','Phi','E']]\n",
    "# debug_jet_info = {key:[] for key in debug_jet_keys}\n",
    "\n",
    "# Keep track of indices of events that have clusters passing cuts (some might not).\n",
    "selected_event_indices = np.arange(nevents)\n",
    "\n",
    "# Create a progress bar. We include some timing to prevent problems with\n",
    "# the progress bar update speed outstripping the JupyterLab update rate. (IOPub issues).\n",
    "prefix = 'Clustering ML jets:'\n",
    "suffix = '% Complete'\n",
    "length = 40\n",
    "qu.printProgressBarColor (0, nevents, prefix=prefix, suffix=suffix, length=length)\n",
    "prev_time = time.time()\n",
    "dt = 0.25\n",
    "\n",
    "# Event loop\n",
    "for i in range(nevents):\n",
    "    print_progress = False\n",
    "    if(i % 100 == 0):\n",
    "        if(time.time() - prev_time > dt): print_progress = True\n",
    "    elif(i == nevents-1): \n",
    "        time.sleep(dt)\n",
    "        print_progress = True\n",
    "        \n",
    "    # Determine which clusters from pdata belong to this event.\n",
    "    cluster_idx_start = cluster_event_info['clusterCount'][i]\n",
    "    nCluster = cluster_event_info['nCluster'][i]\n",
    "    cluster_idx_end = cluster_idx_start + nCluster # not included!\n",
    "    \n",
    "    cluster_indices = selected_frame_indices[cluster_idx_start:cluster_idx_end]\n",
    "    cluster_indices = cluster_indices[cluster_indices >= 0]  \n",
    "    \n",
    "    # Check if there are no clusters passing cuts in this event -- if so, we skip it.\n",
    "    if(len(cluster_indices) == 0):\n",
    "        selected_event_indices[i] = -1\n",
    "        if(print_progress): qu.printProgressBarColor (i+1, nevents, prefix=prefix, suffix=suffix, length=length)\n",
    "        continue\n",
    "    \n",
    "    # Gather the cluster components\n",
    "    clusterE = pdata[predicted_energy_key][cluster_indices].to_numpy()    \n",
    "    clusterE_old = pdata['clusterE'][cluster_indices].to_numpy()\n",
    "    clusterPt = pdata['clusterPt'][cluster_indices].to_numpy() * clusterE / clusterE_old # adjust the clusterPt using the new energy, to keep things physical\n",
    "    clusterEta = pdata['clusterEta'][cluster_indices].to_numpy()\n",
    "    clusterPhi = pdata['clusterPhi'][cluster_indices].to_numpy()\n",
    "        \n",
    "    # Convert to Cartesian, which we need for FastJet. Returns format (px, py, pz, E).\n",
    "    cartesian_vectors = ju.Polar2Cartesian(clusterPt, clusterEta, clusterPhi, clusterE)\n",
    "    \n",
    "    # Create PseudoJet objects.\n",
    "    pseudojets = [fj.PseudoJet(*x) for x in cartesian_vectors]\n",
    "    \n",
    "    # Cluster PseudoJets.\n",
    "    jets = jet_def(pseudojets)\n",
    "    njets = len(jets)\n",
    "    \n",
    "    # Extract the jet 4-vector components, and put them in custom_jet_info.\n",
    "    # FastJet gives phi in (0, 2π) whereas our reference jets use (-π,π), so we will shift things.\n",
    "    jet_vectors = np.array([[x.pt(), x.eta(), x.phi() - np.pi, x.e()] for x in jets])\n",
    "    \n",
    "    for j,key in enumerate(custom_jet_info.keys()):\n",
    "        custom_jet_info[key].append(jet_vectors[:,j])\n",
    "\n",
    "    if(print_progress): qu.printProgressBarColor (i+1, nevents, prefix=prefix, suffix=suffix, length=length)\n",
    "    \n",
    "# Now keep only indices of events where we had any jets to cluster.\n",
    "# (Some events may have only had topo-clusters outside of our eta window or below our minimum energy cut).\n",
    "selected_event_indices = selected_event_indices[selected_event_indices >= 0]\n",
    "print('Created ML jets for {:.2f}% of events. Events without ML jets may not have had topo-clusters passing our cuts.'.format(100. * len(selected_event_indices) / nevents))"
   ]
  },
  {
   "cell_type": "code",
   "execution_count": 38,
   "id": "3a31ea37-9023-476c-945b-c01f266c63a0",
   "metadata": {},
   "outputs": [],
   "source": [
    "# Adjust jet_info. Writing it this way to avoid wonkiness when re-running notebook cells.\n",
    "if(len(selected_event_indices) != len(jet_info)):\n",
    "    jet_info = jet_info[selected_event_indices]"
   ]
  },
  {
   "cell_type": "markdown",
   "id": "4250e1e2-c336-48ab-9071-67c586ebfd3d",
   "metadata": {},
   "source": [
    "Let's create our filtered jet info, with only jets well within our topo-cluster eta window."
   ]
  },
  {
   "cell_type": "code",
   "execution_count": 39,
   "id": "655228e0-dd52-42ca-a658-fe9e2f19a614",
   "metadata": {},
   "outputs": [
    {
     "name": "stdout",
     "output_type": "stream",
     "text": [
      "Filtering jets: |\u001b[32m█\u001b[0m\u001b[32m█\u001b[0m\u001b[32m█\u001b[0m\u001b[32m█\u001b[0m\u001b[32m█\u001b[0m\u001b[32m█\u001b[0m\u001b[32m█\u001b[0m\u001b[32m█\u001b[0m\u001b[32m█\u001b[0m\u001b[32m█\u001b[0m\u001b[32m█\u001b[0m\u001b[32m█\u001b[0m\u001b[32m█\u001b[0m\u001b[32m█\u001b[0m\u001b[32m█\u001b[0m\u001b[32m█\u001b[0m\u001b[32m█\u001b[0m\u001b[32m█\u001b[0m\u001b[32m█\u001b[0m\u001b[32m█\u001b[0m\u001b[32m█\u001b[0m\u001b[32m█\u001b[0m\u001b[32m█\u001b[0m\u001b[32m█\u001b[0m\u001b[32m█\u001b[0m\u001b[32m█\u001b[0m\u001b[32m█\u001b[0m\u001b[32m█\u001b[0m\u001b[32m█\u001b[0m\u001b[32m█\u001b[0m\u001b[32m█\u001b[0m\u001b[32m█\u001b[0m\u001b[32m█\u001b[0m\u001b[32m█\u001b[0m\u001b[32m█\u001b[0m\u001b[32m█\u001b[0m\u001b[32m█\u001b[0m\u001b[32m█\u001b[0m\u001b[32m█\u001b[0m\u001b[32m█\u001b[0m| 100.0% % Complete\n"
     ]
    }
   ],
   "source": [
    "filtered_jet_info = {}\n",
    "jet_names = reference_jet_names + [custom_jet_name]\n",
    "\n",
    "nevents = len(jet_info)\n",
    "prefix = 'Filtering jets:'\n",
    "suffix = '% Complete'\n",
    "length = 40\n",
    "qu.printProgressBarColor (0, 4 * nevents, prefix=prefix, suffix=suffix, length=length)\n",
    "\n",
    "for jname in jet_names:\n",
    "    for jcomp in jet_component_names:\n",
    "        key = jname + jcomp\n",
    "        filtered_jet_info[key] = []\n",
    "\n",
    "# First add our filtered \"reference\" jets (EM, LC, Truth)\n",
    "for i,jname in enumerate(reference_jet_names):\n",
    "    for j in range(nevents):\n",
    "        eta = jet_info[jname + 'Eta'][j].to_numpy()\n",
    "        sel = np.abs(eta) < jet_max_eta\n",
    "        \n",
    "        for jcomp in jet_component_names:\n",
    "            key = jname + jcomp\n",
    "            x = jet_info[key][j].to_numpy()[sel]\n",
    "            filtered_jet_info[key].append(x) \n",
    "        if(j%10==0 or j==nevents-1): qu.printProgressBarColor (i * nevents + j + 1, 4 * nevents, prefix=prefix, suffix=suffix, length=length)\n",
    "        \n",
    "# Now add our filtered ML jets.\n",
    "for i in range(nevents):\n",
    "    eta = custom_jet_info[custom_jet_name + 'Eta'][i]\n",
    "    sel = np.abs(eta) < jet_max_eta\n",
    "    \n",
    "    for jcomp in jet_component_names:\n",
    "        key = custom_jet_name + jcomp\n",
    "        x = custom_jet_info[key][i][sel]\n",
    "        filtered_jet_info[key].append(x)\n",
    "    if(i%10==0 or i==nevents-1): qu.printProgressBarColor (3 * nevents + i + 1, 4 * nevents, prefix=prefix, suffix=suffix, length=length)"
   ]
  },
  {
   "cell_type": "markdown",
   "id": "7eb0bef7-56a0-45c5-9baf-30f67090272d",
   "metadata": {},
   "source": [
    "Note that our reference jets (EM, LC, Truth) have their transverse momentum and energy stored in MeV, whereas our ML jets have these variables stored in GeV.\n",
    "\n",
    "To keep everything internally consistent, we will convert our reference jets to GeV."
   ]
  },
  {
   "cell_type": "code",
   "execution_count": 40,
   "id": "7af8c6e6-83ef-4c68-a2da-5ad4a80fcc8c",
   "metadata": {},
   "outputs": [],
   "source": [
    "for jname in reference_jet_names:\n",
    "    for comp_name in ['Pt','E']:\n",
    "        assert(comp_name in jet_component_names) # safety check in case someone changes component names\n",
    "        key = jname + comp_name\n",
    "        for i in range(len(filtered_jet_info[key])):\n",
    "            filtered_jet_info[key][i] /= 1000.    "
   ]
  },
  {
   "cell_type": "markdown",
   "id": "dd0c2ff5-d588-4bac-bad2-822e421e1e1c",
   "metadata": {},
   "source": [
    "## Some initial jet plotting\n",
    "\n",
    "At this point, we've created our ML jets. We still haven't performed any jet matching, but let's take a glance at some distributions."
   ]
  },
  {
   "cell_type": "code",
   "execution_count": 41,
   "id": "649f8654-c301-48bf-bae5-1c763b86ee97",
   "metadata": {},
   "outputs": [],
   "source": [
    "colors = [rt.kGreen, rt.kViolet-4, rt.kRed, ps.curve]"
   ]
  },
  {
   "cell_type": "code",
   "execution_count": 42,
   "id": "1964c559-33ad-4ab3-8a50-fa6318b1b691",
   "metadata": {},
   "outputs": [],
   "source": [
    "# Create a TPaveText with cuts.\n",
    "\n",
    "cut_text = [\n",
    "    '|#eta_{jet}|' + ' < {:.1f}'.format(jet_max_eta),\n",
    "    '|#eta_{cluster}|' + ' < {:.1f}'.format(cluster_max_eta)\n",
    "]\n",
    "\n",
    "cut_box = rt.TPaveText(0.7,0.5,0.9,0.75, 'NDC')\n",
    "cut_box.SetTextColor(ps.text)\n",
    "cut_box.SetBorderSize(1)\n",
    "cut_box.SetFillColorAlpha(ps.canv,0.5)\n",
    "cut_box.SetTextSize(3e-2)\n",
    "\n",
    "\n",
    "for text in cut_text:\n",
    "    cut_box.AddText(text)"
   ]
  },
  {
   "cell_type": "code",
   "execution_count": 43,
   "id": "1d46c851-2257-4650-a8e6-35487c2598f4",
   "metadata": {},
   "outputs": [
    {
     "name": "stderr",
     "output_type": "stream",
     "text": [
      "Info in <TCanvas::Print>: png file /local/home/jano/ml4pions/LCStudies/jets/Plots/jet_kin_split_emb_cnn_050.png has been created\n"
     ]
    },
    {
     "data": {
      "image/png": "[encoded data removed]",
      "text/plain": [
       "<IPython.core.display.Image object>"
      ]
     },
     "metadata": {},
     "output_type": "display_data"
    }
   ],
   "source": [
    "c = rt.TCanvas(qu.RN(),'',1600,1200)\n",
    "hists = []\n",
    "stacks = []\n",
    "c.Divide(2,2)\n",
    "\n",
    "c.cd(1)\n",
    "leg = rt.TLegend(0.7,0.75,0.9,0.9)\n",
    "leg.SetTextColor(ps.text)\n",
    "hstack = rt.THStack(qu.RN(),'Jet p_{T};p_{T} [GeV];Count')\n",
    "\n",
    "for i,jname in enumerate(jet_names):\n",
    "    \n",
    "    x = np.concatenate(filtered_jet_info[jname + 'Pt'])\n",
    "    h = rt.TH1F(qu.RN(),'',60,0.,120.)\n",
    "    for entry in x:\n",
    "        h.Fill(entry)\n",
    "    #h.Scale(1./h.Integral())\n",
    "    h.SetLineColor(colors[i])\n",
    "    hstack.Add(h)\n",
    "    hists.append(h)\n",
    "    leg.AddEntry(h,jname,'l')\n",
    "    \n",
    "hstack.Draw('NOSTACK HIST')\n",
    "leg.Draw()\n",
    "cut_box.Draw()\n",
    "rt.gPad.SetLogy()\n",
    "stacks.append(hstack)\n",
    "\n",
    "c.cd(2)\n",
    "hstack = rt.THStack(qu.RN(),'Jet Eta;#eta;Count')\n",
    "for i,jname in enumerate(jet_names):\n",
    "    \n",
    "    x = np.concatenate(filtered_jet_info[jname + 'Eta'])\n",
    "    h = rt.TH1F(qu.RN(),'',50,-1.,1.)\n",
    "    for entry in x:\n",
    "        h.Fill(entry)\n",
    "    #h.Scale(1./h.Integral())\n",
    "    h.SetLineColor(colors[i])\n",
    "    hstack.Add(h)\n",
    "    hists.append(h)\n",
    "    \n",
    "hstack.Draw('NOSTACK HIST')\n",
    "leg.Draw()\n",
    "cut_box.Draw()\n",
    "rt.gPad.SetLogy()\n",
    "stacks.append(hstack)\n",
    "\n",
    "c.cd(3)\n",
    "hstack = rt.THStack(qu.RN(),'Jet Phi;#phi;Count')\n",
    "for i,jname in enumerate(jet_names):\n",
    "    \n",
    "    x = np.concatenate(filtered_jet_info[jname + 'Phi'])\n",
    "    h = rt.TH1F(qu.RN(),'',50, -np.pi, np.pi)\n",
    "    for entry in x:\n",
    "        h.Fill(entry)\n",
    "    #h.Scale(1./h.Integral())\n",
    "    h.SetLineColor(colors[i])\n",
    "    hstack.Add(h)\n",
    "    hists.append(h)\n",
    "    \n",
    "hstack.Draw('NOSTACK HIST')\n",
    "leg.Draw()\n",
    "cut_box.Draw()\n",
    "rt.gPad.SetLogy()\n",
    "stacks.append(hstack)\n",
    "\n",
    "c.cd(4)\n",
    "hstack = rt.THStack(qu.RN(),'Jet E;Energy [GeV];Count')\n",
    "for i,jname in enumerate(jet_names):\n",
    "    \n",
    "    x = np.concatenate(filtered_jet_info[jname + 'E'])\n",
    "    h = rt.TH1F(qu.RN(),'',60,0.,120.)\n",
    "    for entry in x:\n",
    "        h.Fill(entry)\n",
    "    #h.Scale(1./h.Integral())\n",
    "    h.SetLineColor(colors[i])\n",
    "    hstack.Add(h)\n",
    "    hists.append(h)\n",
    "    \n",
    "hstack.Draw('NOSTACK HIST')\n",
    "leg.Draw()\n",
    "cut_box.Draw()\n",
    "rt.gPad.SetLogy()\n",
    "stacks.append(hstack)\n",
    "\n",
    "c.Draw()\n",
    "c.SaveAs(plotpath+'jet_kin_{}_{}.png'.format(regressor_modelname,score_cut_string))"
   ]
  },
  {
   "cell_type": "markdown",
   "id": "82a6da11-9732-423e-a4f4-97949c280937",
   "metadata": {},
   "source": [
    "Right off the bat, we see that there are way more ML jets than other varieties. That's not a problem, as we haven't applied *any* sort of cuts to our ML jets. We alternatively could have plotted fractional counts, but that could also be misleading -- here at least we know that the final distributions for ML jets will be something carved out of what we see here."
   ]
  },
  {
   "cell_type": "markdown",
   "id": "90983dc7-39dc-4e3b-b918-a39a9d0f3038",
   "metadata": {},
   "source": [
    "## Jet Matching\n",
    "\n",
    "Now, we have to perform jet matching, specifically:\n",
    "- Match `AntiKt4EMTopoJets` to `AntiKt4TruthJets`\n",
    "- Match `AntiKt4LCTopoJets` to `AntiKt4TruthJets`\n",
    "- Match `AntiKt4MLTopoJets` to `AntiKt4TruthJets`\n",
    "\n",
    "Once we have matched jets, we can compute the jet energy response.\n",
    "\n",
    "To perform matching, we will use some (slightly modified) code from the [GepJetMatching package](https://gitlab.cern.ch/jaofferm/gepjetmatching). This already implements the ATLAS jet matching algorithm so we don't have to re-invent the wheel. The only issue is that we will have to save our current jets to a ROOT file (with a somewhat particular format) and its output will also be a ROOT file."
   ]
  },
  {
   "cell_type": "code",
   "execution_count": 44,
   "id": "c3a4214b-c032-4a06-934d-5736421088b9",
   "metadata": {},
   "outputs": [],
   "source": [
    "# Saving our jets to a file.\n",
    "jet_file = 'jets_{}.root'.format(score_cut_string)\n",
    "tree_name = 'ntuple' # name must be \"ntuple\", this is used internally by GepJetMatching\n",
    "f = rt.TFile(jet_file,'RECREATE')\n",
    "t = rt.TTree(tree_name,tree_name) \n",
    "\n",
    "branches = {}\n",
    "buffers = {}\n",
    "for key in filtered_jet_info.keys():\n",
    "    buffers[key] = rt.std.vector('double')()\n",
    "    branches[key] = t.Branch(key,buffers[key])\n",
    "    \n",
    "nevents = len(jet_info) # redundant, just for safety\n",
    "for i in range(nevents):  \n",
    "    for buffer in buffers.values(): buffer.clear()\n",
    "    for key,vals in filtered_jet_info.items():\n",
    "        for val in vals[i]: buffers[key].push_back(val)      \n",
    "    t.Fill()\n",
    "t.Write()\n",
    "f.Close()"
   ]
  },
  {
   "cell_type": "code",
   "execution_count": 45,
   "id": "2444dafb-8809-49c4-9265-daeb8100b824",
   "metadata": {},
   "outputs": [],
   "source": [
    "# Now we want to match each reco jet (EM, LC, ML) to truth.\n",
    "match_settings = {\n",
    "    'pt_min':7.0, # here in GeV\n",
    "    'eta_max':4.5,\n",
    "    'requirePileupCheck':True, # TODO: turn on if we have pileup\n",
    "    'requireIsoReco':True,\n",
    "    'requireIsoTruth':True,\n",
    "    'dr':0.3,\n",
    "    'truth_iso_dr':0.3,\n",
    "    'reco_iso_dr':0.3\n",
    "}\n",
    "\n",
    "reco_jets = [x for x in jet_names if 'Truth' not in x]\n",
    "truth_jet = 'AntiKt4TruthJets'\n",
    "matches = ['{}->{}'.format(x,truth_jet) for x in reco_jets]\n",
    "matched_jet_files = {\n",
    "    key: '{}_{}_{}.root'.format(key,regressor_modelname, score_cut_string)\n",
    "    for key in reco_jets\n",
    "}"
   ]
  },
  {
   "cell_type": "code",
   "execution_count": 46,
   "id": "09a921d2-40be-4d9a-b317-ce16ca4724c8",
   "metadata": {},
   "outputs": [
    {
     "name": "stdout",
     "output_type": "stream",
     "text": [
      "Matching AntiKt4EMTopoJets->AntiKt4TruthJets.\n",
      "Matching AntiKt4LCTopoJets->AntiKt4TruthJets.\n",
      "Matching AntiKt4MLTopoJets->AntiKt4TruthJets.\n"
     ]
    }
   ],
   "source": [
    "executable_suffix = 'jet_util/' # relative location of JetMatching.C, our ROOT C++ macro for jet matching\n",
    "for i,reco_jet in enumerate(reco_jets):\n",
    "    print('Matching {}.'.format(matches[i]))\n",
    "    jm.MatchJets(matches[i], match_settings, [jet_file], matched_jet_files[reco_jet],executable_suffix)\n",
    "\n",
    "# Delete files created by our jet matching macro compilation\n",
    "jet_compilation_files = []\n",
    "for extension in ['d','pcm']:\n",
    "    jet_compilation_files += glob.glob(os.getcwd() + '/' + executable_suffix + '*.{}'.format(extension))\n",
    "for file in jet_compilation_files:\n",
    "    command = ['rm', file]\n",
    "    sub.check_call(command)"
   ]
  },
  {
   "cell_type": "markdown",
   "id": "c3f3d6ed-5126-4239-9046-3a4c63a111cc",
   "metadata": {},
   "source": [
    "Now that we have ROOT files containing matched jets, let's open them with `uproot`. With these, we can easily compute the energy response. We'll also plot the kinematics of our matched jets."
   ]
  },
  {
   "cell_type": "code",
   "execution_count": 47,
   "id": "ed18a019-4221-44a4-a7d2-1376f7924daf",
   "metadata": {},
   "outputs": [],
   "source": [
    "matched_jet_trees = {\n",
    "    key:ur.open(val)[tree_name]\n",
    "    for key,val in matched_jet_files.items()\n",
    "}"
   ]
  },
  {
   "cell_type": "code",
   "execution_count": 48,
   "id": "871a4ab1-fa20-45b0-b6be-26375e787752",
   "metadata": {},
   "outputs": [],
   "source": [
    "colors = [rt.kGreen, rt.kViolet-4, ps.curve]"
   ]
  },
  {
   "cell_type": "code",
   "execution_count": 49,
   "id": "e0370f0f-83d5-4de8-a9b6-e4e9dec7372d",
   "metadata": {},
   "outputs": [
    {
     "name": "stderr",
     "output_type": "stream",
     "text": [
      "Info in <TCanvas::Print>: png file /local/home/jano/ml4pions/LCStudies/jets/Plots/jet_kin_matched_split_emb_cnn_050.png has been created\n"
     ]
    },
    {
     "data": {
      "image/png": "[encoded data removed]",
      "text/plain": [
       "<IPython.core.display.Image object>"
      ]
     },
     "metadata": {},
     "output_type": "display_data"
    }
   ],
   "source": [
    "c = rt.TCanvas(qu.RN(),'',1600,1200)\n",
    "hists = []\n",
    "stacks = []\n",
    "c.Divide(2,2)\n",
    "\n",
    "c.cd(1)\n",
    "leg = rt.TLegend(0.7,0.75,0.9,0.9)\n",
    "leg.SetTextColor(ps.text)\n",
    "hstack = rt.THStack(qu.RN(),'Jet p_{T} (Matched Jets);p_{T} [GeV];Count')\n",
    "\n",
    "for i,reco_jet in enumerate(reco_jets):\n",
    "    x = ak.flatten(matched_jet_trees[reco_jet][reco_jet + 'Pt'].array()).to_numpy()\n",
    "    h = rt.TH1F(qu.RN(),'',60,0.,120.)\n",
    "    for entry in x:\n",
    "        h.Fill(entry)\n",
    "    #h.Scale(1./h.Integral())\n",
    "    h.SetLineColor(colors[i])\n",
    "    hstack.Add(h)\n",
    "    hists.append(h)\n",
    "    leg.AddEntry(h,reco_jet,'l')\n",
    "    \n",
    "hstack.Draw('NOSTACK HIST')\n",
    "leg.Draw()\n",
    "cut_box.Draw()\n",
    "rt.gPad.SetLogy()\n",
    "stacks.append(hstack)\n",
    "\n",
    "c.Draw()\n",
    "\n",
    "c.cd(2)\n",
    "hstack = rt.THStack(qu.RN(),'Jet Eta (Matched Jets);#eta;Count')\n",
    "for i,reco_jet in enumerate(reco_jets):\n",
    "    x = ak.flatten(matched_jet_trees[reco_jet][reco_jet + 'Eta'].array()).to_numpy()\n",
    "    h = rt.TH1F(qu.RN(),'',50,-1.,1.)\n",
    "    for entry in x:\n",
    "        h.Fill(entry)\n",
    "    #h.Scale(1./h.Integral())\n",
    "    h.SetLineColor(colors[i])\n",
    "    hstack.Add(h)\n",
    "    hists.append(h)\n",
    "    \n",
    "hstack.Draw('NOSTACK HIST')\n",
    "leg.Draw()\n",
    "cut_box.Draw()\n",
    "rt.gPad.SetLogy()\n",
    "stacks.append(hstack)\n",
    "\n",
    "c.cd(3)\n",
    "hstack = rt.THStack(qu.RN(),'Jet Phi (Matched Jets);#phi;Count')\n",
    "for i,reco_jet in enumerate(reco_jets):\n",
    "    x = ak.flatten(matched_jet_trees[reco_jet][reco_jet + 'Phi'].array()).to_numpy()\n",
    "    h = rt.TH1F(qu.RN(),'',50, -np.pi, np.pi)\n",
    "    for entry in x:\n",
    "        h.Fill(entry)\n",
    "    #h.Scale(1./h.Integral())\n",
    "    h.SetLineColor(colors[i])\n",
    "    hstack.Add(h)\n",
    "    hists.append(h)\n",
    "    \n",
    "hstack.Draw('NOSTACK HIST')\n",
    "leg.Draw()\n",
    "cut_box.Draw()\n",
    "rt.gPad.SetLogy()\n",
    "stacks.append(hstack)\n",
    "\n",
    "c.cd(4)\n",
    "hstack = rt.THStack(qu.RN(),'Jet E (Matched Jets);Energy [GeV];Count')\n",
    "for i,reco_jet in enumerate(reco_jets):\n",
    "    x = ak.flatten(matched_jet_trees[reco_jet][reco_jet + 'E'].array()).to_numpy()\n",
    "    h = rt.TH1F(qu.RN(),'',60,0.,120.)\n",
    "    for entry in x:\n",
    "        h.Fill(entry)\n",
    "    #h.Scale(1./h.Integral())\n",
    "    h.SetLineColor(colors[i])\n",
    "    hstack.Add(h)\n",
    "    hists.append(h)\n",
    "    \n",
    "hstack.Draw('NOSTACK HIST')\n",
    "leg.Draw()\n",
    "cut_box.Draw()\n",
    "rt.gPad.SetLogy()\n",
    "stacks.append(hstack)\n",
    "\n",
    "c.Draw()\n",
    "c.SaveAs(plotpath+'jet_kin_matched_{}_{}.png'.format(regressor_modelname, score_cut_string))"
   ]
  },
  {
   "cell_type": "markdown",
   "id": "1d8e5286-5ffd-4af0-9ff3-6e05bc0b5427",
   "metadata": {},
   "source": [
    "Let's get the energy response. To be specific, we are interested in the response in *transverse* energy, $E_T$."
   ]
  },
  {
   "cell_type": "code",
   "execution_count": 50,
   "id": "fd23ed18-e959-4c24-842a-e09f3aa7564b",
   "metadata": {},
   "outputs": [],
   "source": [
    "energy_response = {}"
   ]
  },
  {
   "cell_type": "code",
   "execution_count": 51,
   "id": "ee96efcb-259f-4376-a52b-6969858331d8",
   "metadata": {},
   "outputs": [
    {
     "name": "stdout",
     "output_type": "stream",
     "text": [
      "AntiKt4EMTopoJets 844\n",
      "AntiKt4LCTopoJets 604\n",
      "AntiKt4MLTopoJets 314\n"
     ]
    }
   ],
   "source": [
    "for reco_jet in reco_jets:\n",
    "    reco_energy = ak.flatten(matched_jet_trees[reco_jet][reco_jet + 'E'].array()).to_numpy()\n",
    "    truth_energy = ak.flatten(matched_jet_trees[reco_jet][truth_jet + 'E'].array()).to_numpy()\n",
    "    \n",
    "    reco_eta = ak.flatten(matched_jet_trees[reco_jet][reco_jet + 'Eta'].array()).to_numpy()\n",
    "    truth_eta = ak.flatten(matched_jet_trees[reco_jet][truth_jet + 'Eta'].array()).to_numpy()\n",
    "\n",
    "    reco_et = reco_energy / np.cosh(reco_eta)\n",
    "    reco_et = truth_energy / np.cosh(truth_eta)\n",
    "\n",
    "    energy_response[reco_jet] = reco_et / truth_et\n",
    "    print(reco_jet, len(reco_et))"
   ]
  },
  {
   "cell_type": "code",
   "execution_count": 52,
   "id": "e8e1fbb6-f861-4fd8-a0c4-93a18da89f79",
   "metadata": {},
   "outputs": [
    {
     "name": "stderr",
     "output_type": "stream",
     "text": [
      "Info in <TCanvas::Print>: png file /local/home/jano/ml4pions/LCStudies/jets/Plots/response_split_emb_cnn_050.png has been created\n"
     ]
    },
    {
     "data": {
      "image/png": "[encoded data removed]",
      "text/plain": [
       "<IPython.core.display.Image object>"
      ]
     },
     "metadata": {},
     "output_type": "display_data"
    }
   ],
   "source": [
    "c = rt.TCanvas(qu.RN(), 'c', 800, 600)\n",
    "hstack = rt.THStack(qu.RN(),'Energy Response;E_T^{reco} / E_T^{true};Fractional Count')\n",
    "binning = (50,0.,5.)\n",
    "for i,reco_jet in enumerate(reco_jets):\n",
    "    h = rt.TH1F(qu.RN(),'',*binning)\n",
    "    for entry in energy_response[reco_jet]: h.Fill(entry)\n",
    "    h.Scale(1./h.Integral())\n",
    "    h.SetLineColor(colors[i])\n",
    "    hists.append(h)\n",
    "    hstack.Add(h)\n",
    "hstack.Draw('NOSTACK HIST')\n",
    "leg.Draw()\n",
    "cut_box.Draw()\n",
    "c.Draw()\n",
    "c.SaveAs(plotpath+'response_{}_{}.png'.format(regressor_modelname,score_cut_string))"
   ]
  },
  {
   "cell_type": "markdown",
   "id": "a2c07d33-4dc3-400f-82ba-5a7792b9215a",
   "metadata": {},
   "source": [
    "Now let's look at the response of our ML jets as a function of their kinematics."
   ]
  },
  {
   "cell_type": "code",
   "execution_count": 56,
   "id": "835b12a4-9d30-4aee-90f7-f5a397fa98a4",
   "metadata": {},
   "outputs": [],
   "source": [
    "# First, some simple variables\n",
    "\n",
    "pt = ak.flatten(matched_jet_trees[custom_jet_name][custom_jet_name + 'Pt'].array()).to_numpy()\n",
    "eta = ak.flatten(matched_jet_trees[custom_jet_name][custom_jet_name + 'Eta'].array()).to_numpy()\n",
    "phi = ak.flatten(matched_jet_trees[custom_jet_name][custom_jet_name + 'Phi'].array()).to_numpy()\n",
    "e = ak.flatten(matched_jet_trees[custom_jet_name][custom_jet_name + 'E'].array()).to_numpy()"
   ]
  },
  {
   "cell_type": "code",
   "execution_count": 80,
   "id": "cf30adeb-87d8-439d-8272-9af6f9dfbda9",
   "metadata": {},
   "outputs": [],
   "source": [
    "# Let's calculate the dR between each ML jet and its matched truth jet\n",
    "from jet_util import calcs\n",
    "eta_truth = ak.flatten(matched_jet_trees[custom_jet_name][truth_jet + 'Eta'].array()).to_numpy()\n",
    "phi_truth = ak.flatten(matched_jet_trees[custom_jet_name][truth_jet + 'Phi'].array()).to_numpy()\n",
    "dr_truth = np.sqrt(np.array([calcs.DeltaR2(eta[i],phi[i],eta_truth[i],phi_truth[i]) for i in range(len(eta))]))"
   ]
  },
  {
   "cell_type": "code",
   "execution_count": null,
   "id": "02e1f728-948a-4d56-bda4-df61dccdab3f",
   "metadata": {},
   "outputs": [],
   "source": [
    "# Let's also calculate the dR between each ML jet and the nearest *other* ML jet"
   ]
  },
  {
   "cell_type": "code",
   "execution_count": null,
   "id": "7bea11fb-53f9-4aaf-9e62-4de90790ec5f",
   "metadata": {},
   "outputs": [],
   "source": []
  },
  {
   "cell_type": "code",
   "execution_count": 103,
   "id": "fdfcf675-3094-4ae7-b4ec-c71d48941194",
   "metadata": {},
   "outputs": [
    {
     "name": "stderr",
     "output_type": "stream",
     "text": [
      "Info in <TCanvas::Print>: png file /local/home/jano/ml4pions/LCStudies/jets/Plots/kin_vs_response_split_emb_cnn_050.png has been created\n"
     ]
    },
    {
     "data": {
      "image/png": "[encoded data removed]",
      "text/plain": [
       "<IPython.core.display.Image object>"
      ]
     },
     "metadata": {},
     "output_type": "display_data"
    }
   ],
   "source": [
    "draw_option = 'COLZ'\n",
    "\n",
    "c = rt.TCanvas(qu.RN(),'',1600,1200)\n",
    "c.Divide(2,3)\n",
    "\n",
    "binning_x = [50,0.,5.]\n",
    "\n",
    "binning = {\n",
    "    'Pt' :binning_x + [75,5.,80.],\n",
    "    'Eta':binning_x + [30,-0.3,0.3],\n",
    "    'Phi':binning_x + [30, -np.pi, np.pi],\n",
    "    'E'  :binning_x + [75,5.,80.],\n",
    "    'dr_truth': binning_x + [20,0.,0.4]\n",
    "}\n",
    "\n",
    "c.cd(1)\n",
    "key = 'Pt'\n",
    "h = rt.TH2F(qu.RN(),'Pt vs. Energy response (response-normalized);Response;Pt [GeV];Fractional Count', *binning[key])\n",
    "for i in range(len(pt)):\n",
    "    h.Fill(energy_response[custom_jet_name][i],pt[i])\n",
    "    \n",
    "# Normalize so that each response bin (x axis) integrates to 1\n",
    "for i in range(binning_x[0]):\n",
    "    total = 0.\n",
    "    for j in range(binning[key][3]):\n",
    "        total += h.GetBinContent(i+1,j+1) \n",
    "    if(total != 0.):\n",
    "        for j in range(binning[key][3]):\n",
    "            h.SetBinContent(i+1, j+1, h.GetBinContent(i+1,j+1) / total)\n",
    "\n",
    "h.Draw(draw_option)\n",
    "rt.gPad.SetRightMargin(0.2)\n",
    "rt.gPad.SetLogy()\n",
    "rt.gPad.SetGrid()\n",
    "hists.append(h)\n",
    "\n",
    "c.cd(2)\n",
    "key = 'Eta'\n",
    "h = rt.TH2F(qu.RN(),'Eta vs. Energy response (response-normalized);Response;#eta;Fractional Count', *binning[key])\n",
    "for i in range(len(pt)):\n",
    "    h.Fill(energy_response[custom_jet_name][i],eta[i])\n",
    "\n",
    "# Normalize so that each response bin (x axis) integrates to 1\n",
    "for i in range(binning_x[0]):\n",
    "    total = 0.\n",
    "    for j in range(binning[key][3]):\n",
    "        total += h.GetBinContent(i+1,j+1) \n",
    "    if(total != 0.):\n",
    "        for j in range(binning[key][3]):\n",
    "            h.SetBinContent(i+1, j+1, h.GetBinContent(i+1,j+1) / total)\n",
    "    \n",
    "h.Draw(draw_option)\n",
    "rt.gPad.SetRightMargin(0.2)\n",
    "rt.gPad.SetGrid()\n",
    "hists.append(h)\n",
    "\n",
    "c.cd(3)\n",
    "key = 'Phi'\n",
    "h = rt.TH2F(qu.RN(),'Phi vs. Energy response (response-normalized);Response;#phi;Fractional Count', *binning[key])\n",
    "for i in range(len(phi)):\n",
    "    h.Fill(energy_response[custom_jet_name][i],phi[i])\n",
    "\n",
    "    # Normalize so that each response bin (x axis) integrates to 1\n",
    "for i in range(binning_x[0]):\n",
    "    total = 0.\n",
    "    for j in range(binning[key][3]):\n",
    "        total += h.GetBinContent(i+1,j+1) \n",
    "    if(total != 0.):\n",
    "        for j in range(binning[key][3]):\n",
    "            h.SetBinContent(i+1, j+1, h.GetBinContent(i+1,j+1) / total)\n",
    "\n",
    "h.Draw(draw_option)\n",
    "rt.gPad.SetRightMargin(0.2)\n",
    "rt.gPad.SetGrid()\n",
    "hists.append(h)\n",
    "\n",
    "c.cd(4)\n",
    "key = 'E'\n",
    "h = rt.TH2F(qu.RN(),'E vs. Energy response (response-normalized);Response;E [GeV];Fractional Count', *binning[key])\n",
    "for i in range(len(e)):\n",
    "    h.Fill(energy_response[custom_jet_name][i],e[i])\n",
    "\n",
    "    # Normalize so that each response bin (x axis) integrates to 1\n",
    "for i in range(binning_x[0]):\n",
    "    total = 0.\n",
    "    for j in range(binning[key][3]):\n",
    "        total += h.GetBinContent(i+1,j+1) \n",
    "    if(total != 0.):\n",
    "        for j in range(binning[key][3]):\n",
    "            h.SetBinContent(i+1, j+1, h.GetBinContent(i+1,j+1) / total)\n",
    "\n",
    "h.Draw(draw_option)\n",
    "rt.gPad.SetRightMargin(0.2)\n",
    "rt.gPad.SetLogy()\n",
    "rt.gPad.SetGrid()\n",
    "hists.append(h)\n",
    "\n",
    "c.cd(5)\n",
    "key = 'dr_truth'\n",
    "h = rt.TH2F(qu.RN(),'E vs. Energy response (response-normalized);Response;E [GeV];Fractional Count', *binning[key])\n",
    "for i in range(len(e)):\n",
    "    h.Fill(energy_response[custom_jet_name][i],dr_truth[i])\n",
    "\n",
    "    # Normalize so that each response bin (x axis) integrates to 1\n",
    "for i in range(binning_x[0]):\n",
    "    total = 0.\n",
    "    for j in range(binning[key][3]):\n",
    "        total += h.GetBinContent(i+1,j+1) \n",
    "    if(total != 0.):\n",
    "        for j in range(binning[key][3]):\n",
    "            h.SetBinContent(i+1, j+1, h.GetBinContent(i+1,j+1) / total)\n",
    "\n",
    "h.Draw(draw_option)\n",
    "rt.gPad.SetRightMargin(0.2)\n",
    "rt.gPad.SetGrid()\n",
    "hists.append(h)\n",
    "\n",
    "c.Draw()\n",
    "c.SaveAs(plotpath+'kin_vs_response_{}_{}.png'.format(regressor_modelname,score_cut_string))"
   ]
  },
  {
   "cell_type": "code",
   "execution_count": null,
   "id": "4603a6dc-8bd0-4953-a4dc-56f0609dde03",
   "metadata": {},
   "outputs": [],
   "source": [
    "# if __name__ == '__main__':\n",
    "#     main(sys.argv)"
   ]
  }
 ],
 "metadata": {
  "kernelspec": {
   "display_name": "Python 3 (ipykernel)",
   "language": "python",
   "name": "python3"
  },
  "language_info": {
   "codemirror_mode": {
    "name": "ipython",
    "version": 3
   },
   "file_extension": ".py",
   "mimetype": "text/x-python",
   "name": "python",
   "nbconvert_exporter": "python",
   "pygments_lexer": "ipython3",
   "version": "3.8.10"
  }
 },
 "nbformat": 4,
 "nbformat_minor": 5
}
