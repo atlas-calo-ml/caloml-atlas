{
 "cells": [
  {
   "cell_type": "code",
   "execution_count": 1,
   "id": "6c121cb0-cb30-4474-b40d-5de1c188b755",
   "metadata": {},
   "outputs": [],
   "source": [
    "# # # For quickly testing when working on external libraries\n",
    "# %load_ext autoreload\n",
    "# %autoreload 2"
   ]
  },
  {
   "cell_type": "code",
   "execution_count": 2,
   "id": "afd47694-4bb6-41ad-b6e1-cf5d19ef5b0f",
   "metadata": {},
   "outputs": [
    {
     "name": "stdout",
     "output_type": "stream",
     "text": [
      "Welcome to JupyROOT 6.24/02\n"
     ]
    },
    {
     "name": "stderr",
     "output_type": "stream",
     "text": [
      "2021-08-05 07:04:26.390851: I tensorflow/stream_executor/platform/default/dso_loader.cc:53] Successfully opened dynamic library libcudart.so.11.0\n"
     ]
    }
   ],
   "source": [
    "# First, the generic imports.\n",
    "import sys, os, glob, time, pathlib\n",
    "import numpy as np\n",
    "import h5py as h5\n",
    "import pandas as pd\n",
    "import ROOT as rt # Mostly useful here for plotting\n",
    "import matplotlib.pyplot as plt # Alternative plotting option\n",
    "import uproot as ur\n",
    "import awkward as ak\n",
    "import subprocess as sub\n",
    "from numba import jit\n",
    "import argparse as ap # useful when converting to script\n",
    "\n",
    "# Next, import our utilities. We define our \"path_prefix\" from where we can find them.\n",
    "path_prefix = os.getcwd() + '/../'\n",
    "if(path_prefix not in sys.path): sys.path.append(path_prefix)\n",
    "\n",
    "from util import ml_util as mu # Data preparation and wrangling for our neural networks.\n",
    "from util import qol_util as qu # Quality-of-life stuff, like plot styles and progress bars.\n",
    "from util import jet_util as ju # Jet-specific utilities, e.g. wrapping for FastJet & introducing our ML outputs to jet clustering.\n",
    "from util import io_util as iu # Utilities for scaling regression input/output.\n",
    "\n",
    "# Classification-specific utilities (network setup).\n",
    "from util.classification import data_util as cdu\n",
    "from util.classification import training_util as ctu # besides training, can be used to load network from file\n",
    "import util.classification.models as classifier_models\n",
    "import util.classification.models_exp as classifier_models_exp\n",
    "\n",
    "# Regression-specific utilities (data-loading, network setup).\n",
    "from util.regression import data_util as rdu\n",
    "from util.regression import training_util as rtu # besides training, can be used to load network from file\n",
    "import util.regression.models as regressor_models\n",
    "\n",
    "# Jet-specific utilities (stuff to make this notebook simpler).\n",
    "if(os.getcwd() not in sys.path): sys.path.append(os.getcwd())\n",
    "from jet_util import jet_matching as jm\n",
    "from data_util import data_util as du"
   ]
  },
  {
   "cell_type": "markdown",
   "id": "30ba84a4-103e-40c7-bc95-b77409f8eace",
   "metadata": {},
   "source": [
    "# ML4P for Jet Clustering\n",
    "\n",
    "In this notebook, we'll use our topo-cluster classifiers and regressors to correct the energies of topo-clusters, and then cluster these topo-clusters into jets! The goal is to see how using these corrected energies (i.e. applying our ML stuff) affects the jet energy scale resolution."
   ]
  },
  {
   "cell_type": "markdown",
   "id": "3821fa6a-3184-4d7b-a52a-b6b7c05a077e",
   "metadata": {},
   "source": [
    "## Setup\n",
    "\n",
    "Let's start by defining some paths and model names for topo-cluster classification and regression -- we'll put these at the top so it's easy to switch things."
   ]
  },
  {
   "cell_type": "code",
   "execution_count": 3,
   "id": "e3cea70c-57be-4c3e-a9d0-ee1c23b11d74",
   "metadata": {},
   "outputs": [],
   "source": [
    "plotpath = os.getcwd() + '/Plots/'\n",
    "data_dir = path_prefix + 'data/jet'"
   ]
  },
  {
   "cell_type": "code",
   "execution_count": 4,
   "id": "cacf7450-7808-4697-9921-f5c4b0732734",
   "metadata": {},
   "outputs": [],
   "source": [
    "# Set up some plotting stuff.\n",
    "plot_style = 'dark'\n",
    "ps = qu.PlotStyle(plot_style)\n",
    "ps.SetStyle() # will automatically affect ROOT plots from here on out, it sets ROOT.gStyle.\n",
    "rt.gStyle.SetOptStat(0)"
   ]
  },
  {
   "cell_type": "code",
   "execution_count": 5,
   "id": "3019f74c-97ed-4295-ad87-5eb7f231673d",
   "metadata": {},
   "outputs": [],
   "source": [
    "# Set up some calorimeter metadata.\n",
    "# TODO: Get this from one of our libraries\n",
    "layers = [\"EMB1\", \"EMB2\", \"EMB3\", \"TileBar0\", \"TileBar1\", \"TileBar2\"]\n",
    "cell_size_phi = [0.098, 0.0245, 0.0245, 0.1, 0.1, 0.1]\n",
    "cell_size_eta = [0.0031, 0.025, 0.05, 0.1, 0.1, 0.2]\n",
    "len_phi = [4, 16, 16, 4, 4, 4]\n",
    "len_eta = [128, 16, 8, 4, 4, 2]\n",
    "cell_shapes = {layers[i]:(len_eta[i],len_phi[i]) for i in range(len(layers))}"
   ]
  },
  {
   "cell_type": "code",
   "execution_count": 6,
   "id": "2f175383-4730-40c8-9b71-131a01362c10",
   "metadata": {},
   "outputs": [
    {
     "name": "stdout",
     "output_type": "stream",
     "text": [
      "#--------------------------------------------------------------------------\n",
      "#                         FastJet release 3.4.0\n",
      "#                 M. Cacciari, G.P. Salam and G. Soyez                  \n",
      "#     A software package for jet finding and analysis at colliders      \n",
      "#                           http://fastjet.fr                           \n",
      "#\t                                                                      \n",
      "# Please cite EPJC72(2012)1896 [arXiv:1111.6097] if you use this package\n",
      "# for scientific work and optionally PLB641(2006)57 [hep-ph/0512210].   \n",
      "#                                                                       \n",
      "# FastJet is provided without warranty under the GNU GPL v2 or higher.  \n",
      "# It uses T. Chan's closest pair algorithm, S. Fortune's Voronoi code\n",
      "# and 3rd party plugin jet algorithms. See COPYING file for details.\n",
      "#--------------------------------------------------------------------------\n"
     ]
    }
   ],
   "source": [
    "# Perform fastjet setup. This function will download & build fastjet if it isn't found at the given location.\n",
    "fastjet_dir = path_prefix + 'fastjet'\n",
    "fastjet_dir =  ju.BuildFastjet(fastjet_dir, j=8)\n",
    "fastjet_dir = glob.glob('{}/**/site-packages'.format(fastjet_dir),recursive=True)[0]\n",
    "if(fastjet_dir not in sys.path): sys.path.append(fastjet_dir)\n",
    "import fastjet as fj\n",
    "fj.ClusterSequence.print_banner() # Get the Fastjet banner out of the way"
   ]
  },
  {
   "cell_type": "markdown",
   "id": "0fd199e2-b9d9-419e-9a6a-4a60d1998d1c",
   "metadata": {},
   "source": [
    "## Data preparation\n",
    "\n",
    "Let's also fetch our jet data. This is MC dijet data, so we have some light-quark jets to work with. The data contains information on topo-clusters for each event -- the same cell-level and cluster-level info we have with our network training data."
   ]
  },
  {
   "cell_type": "code",
   "execution_count": 7,
   "id": "4302c52a-347a-4f0c-a474-b5d992735aa4",
   "metadata": {},
   "outputs": [],
   "source": [
    "h5_name_suffix = 'jdata' # used for HDF5 files containing selected events\n",
    "\n",
    "# We package things as a dictionary for now, since that's what our `setupPionData` function expects.\n",
    "rootfiles = {'jet':glob.glob(data_dir + '/*.root')}\n",
    "branches = [\n",
    "            'clusterE', 'clusterECalib', \n",
    "            'clusterPt', 'clusterEta', 'clusterPhi', \n",
    "            #'cluster_nCells', 'cluster_sumCellE', \n",
    "            'cluster_ENG_CALIB_TOT'#, 'cluster_EM_PROBABILITY'\n",
    "] "
   ]
  },
  {
   "cell_type": "code",
   "execution_count": 8,
   "id": "4c73c1d8-31fb-4698-8929-ec5a1fe5c029",
   "metadata": {},
   "outputs": [
    {
     "name": "stdout",
     "output_type": "stream",
     "text": [
      "Loading pandas DataFrame and calo images from /local/home/jano/ml4pions/LCStudies/jets/../data/jet/jdata_frame.h5 and /local/home/jano/ml4pions/LCStudies/jets/../data/jet/jdata_images.h5.\n"
     ]
    }
   ],
   "source": [
    "# Prepare data\n",
    "h5_name = '/'.join((data_dir,h5_name_suffix))\n",
    "\n",
    "cluster_max_eta = 0.7\n",
    "cluster_min_eng_calib_tot = 1.0e-10 # not used for \"jdata\"\n",
    "\n",
    "pdata,pcells,sel_indices = mu.setupPionData(rootfiles,\n",
    "                                            branches=branches,\n",
    "                                            layers=layers,\n",
    "                                            balance_data=False,\n",
    "                                            verbose=True,\n",
    "                                            load=True,\n",
    "                                            save=True,\n",
    "                                            filename=h5_name,\n",
    "                                            cut_distributions=['cluster_ENG_CALIB_TOT','clusterEta'],\n",
    "                                            cut_values = [cluster_min_eng_calib_tot, (-cluster_max_eta,cluster_max_eta)],\n",
    "                                            cut_types=['lower','window'],\n",
    "                                            return_indices=True\n",
    "                                           )\n",
    "\n",
    "# Get rid of one layers of keys, which is redundant in this case.\n",
    "pdata = pdata['jet']\n",
    "pcells = pcells['jet']\n",
    "sel_indices = sel_indices['jet']"
   ]
  },
  {
   "cell_type": "markdown",
   "id": "90112a92-a39e-4063-b06f-6bdd9f8c3c54",
   "metadata": {},
   "source": [
    "We also want to fetch information on EM and LC jets. These are stored in trees called `EventTree` in our files."
   ]
  },
  {
   "cell_type": "code",
   "execution_count": 9,
   "id": "22b98e63-4158-4472-b707-de5bcab02b70",
   "metadata": {},
   "outputs": [],
   "source": [
    "reference_jet_names = ['AntiKt4EMTopoJets','AntiKt4LCTopoJets','AntiKt4TruthJets']\n",
    "jet_component_names = ['Pt','Eta','Phi','E']\n",
    "jet_branches = [x+y for x in reference_jet_names for y in jet_component_names]\n",
    "\n",
    "jet_info = ur.lazy([':'.join((x,'EventTree')) for x in rootfiles['jet']],filter_branch=lambda x: x.name in jet_branches)"
   ]
  },
  {
   "cell_type": "markdown",
   "id": "559f8e8a-60c3-4b21-8486-74115b5d1478",
   "metadata": {},
   "source": [
    "## Debugging\n",
    "\n",
    "Instead of using our classifier + regressors, we will just use the true energy for the clusters. In other words, we'll pretend that our networks are performing perfectly, to see what would actually happen."
   ]
  },
  {
   "cell_type": "markdown",
   "id": "365463e8-014b-480d-bf8e-40ca718b81dd",
   "metadata": {},
   "source": [
    "## Cluster kinematics\n",
    "\n",
    "Since in this debugging notebook we are directly substituting the true cluster energy `cluster_ENG_CALIB_TOT` for the cluster reco energy `clusterE`, let's plot these variables."
   ]
  },
  {
   "cell_type": "code",
   "execution_count": 10,
   "id": "5af3125c-ced4-4855-a552-d57494abedf6",
   "metadata": {},
   "outputs": [
    {
     "name": "stderr",
     "output_type": "stream",
     "text": [
      "Info in <TCanvas::Print>: png file /local/home/jano/ml4pions/LCStudies/jets/Plots/energy_vs_calib_hits.png has been created\n"
     ]
    },
    {
     "data": {
      "image/png": "[encoded data removed]",
      "text/plain": [
       "<IPython.core.display.Image object>"
      ]
     },
     "metadata": {},
     "output_type": "display_data"
    }
   ],
   "source": [
    "canvas = rt.TCanvas(qu.RN(),'c',800,600)\n",
    "binning = (100,0.,30.)\n",
    "\n",
    "h2d = rt.TH2F(qu.RN(), 'Reco energy vs. calibration hits;cluster E_{tot}^{calib} [GeV];cluster Energy [GeV];Fractional Count',\n",
    "              *binning, *binning\n",
    "             )\n",
    "\n",
    "for entry in pdata[['cluster_ENG_CALIB_TOT','clusterE']].to_numpy():\n",
    "    h2d.Fill(*entry)\n",
    "        \n",
    "# rescale our histograms\n",
    "h2d.Scale(1./h2d.Integral())\n",
    "h2d.Draw('COLZ')\n",
    "rt.gPad.SetRightMargin(0.2)\n",
    "rt.gPad.SetLogz()\n",
    "h2d.SetMinimum(1.0e-6)\n",
    "h2d.SetMaximum(5.0e-1)\n",
    "canvas.Draw()\n",
    "canvas.SaveAs(plotpath + 'energy_vs_calib_hits.png')"
   ]
  },
  {
   "cell_type": "markdown",
   "id": "7ebd04ed-1d6b-4d72-ab83-63f685ba1c59",
   "metadata": {},
   "source": [
    "## Jet clustering\n",
    "\n",
    "Now we want to cluster jets from our topo-clusters, using the predicted energies.\n",
    "\n",
    "Jet clustering is performed at the *event level*, whereas our DataFrame `pdata` contains *cluster level* information, i.e. it does not have information on which event a particular cluster belongs to. However, we can fetch this information from the `EventTree` in the ROOT files.\n",
    "\n",
    "Specifically, each `EventTree` has a branch called `clusterCount` that gives the index of the 1st cluster in the associated `ClusterTree` that belongs to that event -- which together with `nCluster` can be used to associate a set of clusters with a given event.\n",
    "\n",
    "The only issue is that we're opening *multiple* trees at once and chaining them together in the DataFrame (via `uproot.lazy`, which is a little like `ROOT.TChain`). The `clusterCount` variable starts at 0 for every tree, so it gives the index with respect to the current tree but not with respect to the full DataFraame. This is however relatively easy to fix.\n",
    "\n",
    "Furthermore, we have to consider that we have thrown out topo-clusters that didn't pass certain cuts -- so we have to be careful when converting from indices in the original ROOT files (that contain all topo-clusters) to indices in our DataFrame, that contains only filtered topo-clusters."
   ]
  },
  {
   "cell_type": "code",
   "execution_count": 11,
   "id": "7e7c3b96-0c37-4c6c-892f-8fa4f8346253",
   "metadata": {},
   "outputs": [],
   "source": [
    "def GetGlobalClusterCount(cluster_count):\n",
    "    n = len(cluster_count)\n",
    "    for i in range(1,n):\n",
    "        if(cluster_count[i] <= cluster_count[i-1]):\n",
    "            cluster_count[i:] += cluster_count[i-1]\n",
    "    return cluster_count\n",
    "\n",
    "@jit\n",
    "def SelectionsToFrameIndices(sel_indices):\n",
    "    new_indices = np.full(sel_indices.shape, -1, dtype=np.dtype('i8'))\n",
    "    counter = 0\n",
    "    for i,idx in enumerate(sel_indices):\n",
    "        if(idx):\n",
    "            new_indices[i] = counter\n",
    "            counter += 1\n",
    "    return new_indices"
   ]
  },
  {
   "cell_type": "code",
   "execution_count": 12,
   "id": "ee2721d6-d862-4888-9c42-eb25f8ec214a",
   "metadata": {},
   "outputs": [],
   "source": [
    "cluster_idx_branches = ['clusterCount','nCluster']\n",
    "\n",
    "\n",
    "cluster_event_info = ur.lazy([':'.join((x,'EventTree')) for x in rootfiles['jet']], \n",
    "                             filter_branch=lambda x: x.name in cluster_idx_branches\n",
    "                            )\n",
    "\n",
    "cluster_event_info = {key:cluster_event_info[key].to_numpy() for key in cluster_idx_branches}\n",
    "cluster_event_info['clusterCount'] = GetGlobalClusterCount(cluster_event_info['clusterCount'])\n",
    "nevents = cluster_event_info['clusterCount'].shape[0]\n",
    "\n",
    "selected_frame_indices = SelectionsToFrameIndices(sel_indices)"
   ]
  },
  {
   "cell_type": "code",
   "execution_count": 13,
   "id": "ed0ae2dd-485a-49c1-83b0-897fcd1038d6",
   "metadata": {},
   "outputs": [],
   "source": [
    "# Define our jet clustering\n",
    "jet_radius = 0.4\n",
    "jet_def = fj.JetDefinition(fj.antikt_algorithm, jet_radius)"
   ]
  },
  {
   "cell_type": "markdown",
   "id": "c2c231e9-666f-422c-bcf3-c72e724bf2e5",
   "metadata": {},
   "source": [
    "As we are working within some topo-cluster $\\eta$ window cut, we only want to look at jets that are well within this window. The EM, LC and truth jets in our data will likely cover a larger $\\eta$ range so we will want to remove these jets outside our $\\eta$: Those outside the window can't be matched to our ML jets, and keeping them will make the jets' kinematic distributions look quite different.\n",
    "\n",
    "In fact, we also want to throw out any jets *near* our $\\eta$ window cut edge, as this cut might affect jet clustering of jets that are very close to the cut."
   ]
  },
  {
   "cell_type": "code",
   "execution_count": 14,
   "id": "a0ad443f-4d9a-4e09-83fc-8d404c7c78e5",
   "metadata": {},
   "outputs": [],
   "source": [
    "jet_max_eta = cluster_max_eta - jet_radius"
   ]
  },
  {
   "cell_type": "code",
   "execution_count": 15,
   "id": "0d60f352-98b4-4719-a139-2c0ae0201303",
   "metadata": {},
   "outputs": [
    {
     "name": "stdout",
     "output_type": "stream",
     "text": [
      "Clustering Ref jets: |\u001b[32m█\u001b[0m\u001b[32m█\u001b[0m\u001b[32m█\u001b[0m\u001b[32m█\u001b[0m\u001b[32m█\u001b[0m\u001b[32m█\u001b[0m\u001b[32m█\u001b[0m\u001b[32m█\u001b[0m\u001b[32m█\u001b[0m\u001b[32m█\u001b[0m\u001b[32m█\u001b[0m\u001b[32m█\u001b[0m\u001b[32m█\u001b[0m\u001b[32m█\u001b[0m\u001b[32m█\u001b[0m\u001b[32m█\u001b[0m\u001b[32m█\u001b[0m\u001b[32m█\u001b[0m\u001b[32m█\u001b[0m\u001b[32m█\u001b[0m\u001b[32m█\u001b[0m\u001b[32m█\u001b[0m\u001b[32m█\u001b[0m\u001b[32m█\u001b[0m\u001b[32m█\u001b[0m\u001b[32m█\u001b[0m\u001b[32m█\u001b[0m\u001b[32m█\u001b[0m\u001b[32m█\u001b[0m\u001b[32m█\u001b[0m\u001b[32m█\u001b[0m\u001b[32m█\u001b[0m\u001b[32m█\u001b[0m\u001b[32m█\u001b[0m\u001b[32m█\u001b[0m\u001b[32m█\u001b[0m\u001b[32m█\u001b[0m\u001b[32m█\u001b[0m\u001b[32m█\u001b[0m\u001b[32m█\u001b[0m| 100.0% % Complete\n",
      "Created Ref jets for 43.16% of events. Events without ML jets may not have had topo-clusters passing our cuts.\n"
     ]
    }
   ],
   "source": [
    "# Create variables for saving information on the jets we cluster.\n",
    "custom_jet_name = 'AntiKt4RefTopoJets'\n",
    "custom_jet_keys = [custom_jet_name + x for x in jet_component_names]\n",
    "custom_jet_info = {key:[] for key in custom_jet_keys}\n",
    "\n",
    "# # Debugging: Also recreate the EM jets, using the raw topo-cluster info\n",
    "# debug_jet_keys = ['AntiKt4EMTopoJets{}'.format(x) for x in ['Pt','Eta','Phi','E']]\n",
    "# debug_jet_info = {key:[] for key in debug_jet_keys}\n",
    "\n",
    "# Keep track of indices of events that have clusters passing cuts (some might not).\n",
    "selected_event_indices = np.arange(nevents)\n",
    "\n",
    "# Create a progress bar. We include some timing to prevent problems with\n",
    "# the progress bar update speed outstripping the JupyterLab update rate. (IOPub issues).\n",
    "prefix = 'Clustering Ref jets:'\n",
    "suffix = '% Complete'\n",
    "length = 40\n",
    "qu.printProgressBarColor (0, nevents, prefix=prefix, suffix=suffix, length=length)\n",
    "prev_time = time.time()\n",
    "dt = 0.25\n",
    "\n",
    "# Event loop\n",
    "for i in range(nevents):\n",
    "    print_progress = False\n",
    "    if(i % 100 == 0):\n",
    "        if(time.time() - prev_time > dt): print_progress = True\n",
    "    elif(i == nevents-1): \n",
    "        time.sleep(dt)\n",
    "        print_progress = True\n",
    "        \n",
    "    # Determine which clusters from pdata belong to this event.\n",
    "    cluster_idx_start = cluster_event_info['clusterCount'][i]\n",
    "    nCluster = cluster_event_info['nCluster'][i]\n",
    "    cluster_idx_end = cluster_idx_start + nCluster # not included!\n",
    "    \n",
    "    cluster_indices = selected_frame_indices[cluster_idx_start:cluster_idx_end]\n",
    "    cluster_indices = cluster_indices[cluster_indices >= 0]  \n",
    "    \n",
    "    # Check if there are no clusters passing cuts in this event -- if so, we skip it.\n",
    "    if(len(cluster_indices) == 0):\n",
    "        selected_event_indices[i] = -1\n",
    "        if(print_progress): qu.printProgressBarColor (i+1, nevents, prefix=prefix, suffix=suffix, length=length)\n",
    "        continue\n",
    "    \n",
    "    # Gather the cluster components\n",
    "    clusterE = pdata['cluster_ENG_CALIB_TOT'][cluster_indices].to_numpy()\n",
    "    #clusterE = pdata[predicted_energy_key][cluster_indices].to_numpy()    \n",
    "    clusterE_old = pdata['clusterE'][cluster_indices].to_numpy()\n",
    "    clusterPt = pdata['clusterPt'][cluster_indices].to_numpy() * clusterE / clusterE_old # adjust the clusterPt using the new energy, to keep things physical\n",
    "    clusterEta = pdata['clusterEta'][cluster_indices].to_numpy()\n",
    "    clusterPhi = pdata['clusterPhi'][cluster_indices].to_numpy()\n",
    "        \n",
    "    # Convert to Cartesian, which we need for FastJet. Returns format (px, py, pz, E).\n",
    "    cartesian_vectors = ju.Polar2Cartesian(clusterPt, clusterEta, clusterPhi, clusterE)\n",
    "    \n",
    "    # Create PseudoJet objects.\n",
    "    pseudojets = [fj.PseudoJet(*x) for x in cartesian_vectors]\n",
    "    \n",
    "    # Cluster PseudoJets.\n",
    "    cs = fj.ClusterSequence(pseudojets, jet_def)\n",
    "    jets = cs.inclusive_jets()\n",
    "    njets = len(jets)\n",
    "    \n",
    "#     jets = jet_def(pseudojets) # this is equivalent, see the FastJet python examples (also is empirically the same)\n",
    "#     njets = len(jets)\n",
    "    \n",
    "    # Extract the jet 4-vector components, and put them in custom_jet_info.\n",
    "    # FastJet gives phi in (0, 2π) whereas our reference jets use (-π,π), so we will shift things.\n",
    "    jet_vectors = np.array([[x.pt(), x.eta(), x.phi() - np.pi, x.e()] for x in jets])\n",
    "    \n",
    "    for j,key in enumerate(custom_jet_info.keys()):\n",
    "        custom_jet_info[key].append(jet_vectors[:,j])\n",
    "\n",
    "    if(print_progress): qu.printProgressBarColor (i+1, nevents, prefix=prefix, suffix=suffix, length=length)\n",
    "    \n",
    "# Now keep only indices of events where we had any jets to cluster.\n",
    "# (Some events may have only had topo-clusters outside of our eta window or below our minimum energy cut).\n",
    "selected_event_indices = selected_event_indices[selected_event_indices >= 0]\n",
    "print('Created Ref jets for {:.2f}% of events. Events without ML jets may not have had topo-clusters passing our cuts.'.format(100. * len(selected_event_indices) / nevents))"
   ]
  },
  {
   "cell_type": "code",
   "execution_count": 16,
   "id": "3a31ea37-9023-476c-945b-c01f266c63a0",
   "metadata": {},
   "outputs": [],
   "source": [
    "# Adjust jet_info. Writing it this way to avoid wonkiness when re-running notebook cells.\n",
    "if(len(selected_event_indices) != len(jet_info)):\n",
    "    jet_info = jet_info[selected_event_indices]"
   ]
  },
  {
   "cell_type": "markdown",
   "id": "4250e1e2-c336-48ab-9071-67c586ebfd3d",
   "metadata": {},
   "source": [
    "Let's create our filtered jet info, with only jets well within our topo-cluster eta window."
   ]
  },
  {
   "cell_type": "code",
   "execution_count": 17,
   "id": "655228e0-dd52-42ca-a658-fe9e2f19a614",
   "metadata": {},
   "outputs": [
    {
     "name": "stdout",
     "output_type": "stream",
     "text": [
      "Filtering jets: |\u001b[32m█\u001b[0m\u001b[32m█\u001b[0m\u001b[32m█\u001b[0m\u001b[32m█\u001b[0m\u001b[32m█\u001b[0m\u001b[32m█\u001b[0m\u001b[32m█\u001b[0m\u001b[32m█\u001b[0m\u001b[32m█\u001b[0m\u001b[32m█\u001b[0m\u001b[32m█\u001b[0m\u001b[32m█\u001b[0m\u001b[32m█\u001b[0m\u001b[32m█\u001b[0m\u001b[32m█\u001b[0m\u001b[32m█\u001b[0m\u001b[32m█\u001b[0m\u001b[32m█\u001b[0m\u001b[32m█\u001b[0m\u001b[32m█\u001b[0m\u001b[32m█\u001b[0m\u001b[32m█\u001b[0m\u001b[32m█\u001b[0m\u001b[32m█\u001b[0m\u001b[32m█\u001b[0m\u001b[32m█\u001b[0m\u001b[32m█\u001b[0m\u001b[32m█\u001b[0m\u001b[32m█\u001b[0m\u001b[32m█\u001b[0m\u001b[32m█\u001b[0m\u001b[32m█\u001b[0m\u001b[32m█\u001b[0m\u001b[32m█\u001b[0m\u001b[32m█\u001b[0m\u001b[32m█\u001b[0m\u001b[32m█\u001b[0m\u001b[32m█\u001b[0m\u001b[32m█\u001b[0m\u001b[32m█\u001b[0m| 100.0% % Complete\n"
     ]
    }
   ],
   "source": [
    "filtered_jet_info = {}\n",
    "jet_names = reference_jet_names + [custom_jet_name]\n",
    "\n",
    "nevents = len(jet_info)\n",
    "prefix = 'Filtering jets:'\n",
    "suffix = '% Complete'\n",
    "length = 40\n",
    "qu.printProgressBarColor (0, 4 * nevents, prefix=prefix, suffix=suffix, length=length)\n",
    "\n",
    "for jname in jet_names:\n",
    "    for jcomp in jet_component_names:\n",
    "        key = jname + jcomp\n",
    "        filtered_jet_info[key] = []\n",
    "\n",
    "# First add our filtered \"reference\" jets (EM, LC, Truth)\n",
    "for i,jname in enumerate(reference_jet_names):\n",
    "    for j in range(nevents):\n",
    "        eta = jet_info[jname + 'Eta'][j].to_numpy()\n",
    "        sel = np.abs(eta) < jet_max_eta\n",
    "        \n",
    "        for jcomp in jet_component_names:\n",
    "            key = jname + jcomp\n",
    "            x = jet_info[key][j].to_numpy()[sel]\n",
    "            filtered_jet_info[key].append(x) \n",
    "        if(j%10==0 or j==nevents-1): qu.printProgressBarColor (i * nevents + j + 1, 4 * nevents, prefix=prefix, suffix=suffix, length=length)\n",
    "        \n",
    "# Now add our filtered ML jets.\n",
    "for i in range(nevents):\n",
    "    eta = custom_jet_info[custom_jet_name + 'Eta'][i]\n",
    "    sel = np.abs(eta) < jet_max_eta\n",
    "    \n",
    "    for jcomp in jet_component_names:\n",
    "        key = custom_jet_name + jcomp\n",
    "        x = custom_jet_info[key][i][sel]\n",
    "        filtered_jet_info[key].append(x)\n",
    "    if(i%10==0 or i==nevents-1): qu.printProgressBarColor (3 * nevents + i + 1, 4 * nevents, prefix=prefix, suffix=suffix, length=length)"
   ]
  },
  {
   "cell_type": "markdown",
   "id": "7eb0bef7-56a0-45c5-9baf-30f67090272d",
   "metadata": {},
   "source": [
    "Note that our reference jets (EM, LC, Truth) have their transverse momentum and energy stored in MeV, whereas our Ref jets have these variables stored in GeV (since the cluster-level info was in GeV and we didn't convert it to MeV before clustering).\n",
    "\n",
    "To keep everything internally consistent, we will convert our reference jets to GeV."
   ]
  },
  {
   "cell_type": "code",
   "execution_count": 18,
   "id": "7af8c6e6-83ef-4c68-a2da-5ad4a80fcc8c",
   "metadata": {},
   "outputs": [],
   "source": [
    "for jname in reference_jet_names:\n",
    "    for comp_name in ['Pt','E']:\n",
    "        assert(comp_name in jet_component_names) # safety check in case someone changes component names\n",
    "        key = jname + comp_name\n",
    "        for i in range(len(filtered_jet_info[key])):\n",
    "            filtered_jet_info[key][i] /= 1000.    "
   ]
  },
  {
   "cell_type": "markdown",
   "id": "dd0c2ff5-d588-4bac-bad2-822e421e1e1c",
   "metadata": {},
   "source": [
    "## Some initial jet plotting\n",
    "\n",
    "At this point, we've created our Ref jets. We still haven't performed any jet matching, but let's take a glance at some distributions."
   ]
  },
  {
   "cell_type": "code",
   "execution_count": 19,
   "id": "e9bd72aa-f1d3-43ca-ba41-64571380dae0",
   "metadata": {},
   "outputs": [],
   "source": [
    "colors = [rt.kGreen, rt.kViolet-4, rt.kRed, ps.curve]\n",
    "\n",
    "# some stuff from our normal workflow -- names not really relevant here\n",
    "regressor_modelname = 'reference'\n",
    "score_cut_string = ''"
   ]
  },
  {
   "cell_type": "code",
   "execution_count": 20,
   "id": "1964c559-33ad-4ab3-8a50-fa6318b1b691",
   "metadata": {},
   "outputs": [],
   "source": [
    "# Create a TPaveText with cuts.\n",
    "\n",
    "cut_text = [\n",
    "    '|#eta_{jet}|' + ' < {:.1f}'.format(jet_max_eta),\n",
    "    '|#eta_{cluster}|' + ' < {:.1f}'.format(cluster_max_eta)\n",
    "]\n",
    "\n",
    "cut_box = rt.TPaveText(0.7,0.5,0.9,0.75, 'NDC')\n",
    "cut_box.SetTextColor(ps.text)\n",
    "cut_box.SetBorderSize(1)\n",
    "cut_box.SetFillColorAlpha(ps.canv,0.5)\n",
    "cut_box.SetTextSize(3e-2)\n",
    "\n",
    "\n",
    "for text in cut_text:\n",
    "    cut_box.AddText(text)"
   ]
  },
  {
   "cell_type": "code",
   "execution_count": 21,
   "id": "1d46c851-2257-4650-a8e6-35487c2598f4",
   "metadata": {},
   "outputs": [
    {
     "name": "stderr",
     "output_type": "stream",
     "text": [
      "Info in <TCanvas::Print>: png file /local/home/jano/ml4pions/LCStudies/jets/Plots/jet_kin_reference_.png has been created\n"
     ]
    },
    {
     "data": {
      "image/png": "[encoded data removed]",
      "text/plain": [
       "<IPython.core.display.Image object>"
      ]
     },
     "metadata": {},
     "output_type": "display_data"
    }
   ],
   "source": [
    "c = rt.TCanvas(qu.RN(),'',1600,1200)\n",
    "hists = []\n",
    "stacks = []\n",
    "c.Divide(2,2)\n",
    "\n",
    "c.cd(1)\n",
    "leg = rt.TLegend(0.7,0.75,0.9,0.9)\n",
    "leg.SetTextColor(ps.text)\n",
    "hstack = rt.THStack(qu.RN(),'Jet p_{T};p_{T} [GeV];Count')\n",
    "\n",
    "for i,jname in enumerate(jet_names):\n",
    "    \n",
    "    x = np.concatenate(filtered_jet_info[jname + 'Pt'])\n",
    "    h = rt.TH1F(qu.RN(),'',60,0.,120.)\n",
    "    for entry in x:\n",
    "        h.Fill(entry)\n",
    "    #h.Scale(1./h.Integral())\n",
    "    h.SetLineColor(colors[i])\n",
    "    hstack.Add(h)\n",
    "    hists.append(h)\n",
    "    leg.AddEntry(h,jname,'l')\n",
    "    \n",
    "hstack.Draw('NOSTACK HIST')\n",
    "leg.Draw()\n",
    "cut_box.Draw()\n",
    "rt.gPad.SetLogy()\n",
    "stacks.append(hstack)\n",
    "\n",
    "c.cd(2)\n",
    "hstack = rt.THStack(qu.RN(),'Jet Eta;#eta;Count')\n",
    "for i,jname in enumerate(jet_names):\n",
    "    \n",
    "    x = np.concatenate(filtered_jet_info[jname + 'Eta'])\n",
    "    h = rt.TH1F(qu.RN(),'',50,-1.,1.)\n",
    "    for entry in x:\n",
    "        h.Fill(entry)\n",
    "    #h.Scale(1./h.Integral())\n",
    "    h.SetLineColor(colors[i])\n",
    "    hstack.Add(h)\n",
    "    hists.append(h)\n",
    "    \n",
    "hstack.Draw('NOSTACK HIST')\n",
    "leg.Draw()\n",
    "cut_box.Draw()\n",
    "rt.gPad.SetLogy()\n",
    "stacks.append(hstack)\n",
    "\n",
    "c.cd(3)\n",
    "hstack = rt.THStack(qu.RN(),'Jet Phi;#phi;Count')\n",
    "for i,jname in enumerate(jet_names):\n",
    "    \n",
    "    x = np.concatenate(filtered_jet_info[jname + 'Phi'])\n",
    "    h = rt.TH1F(qu.RN(),'',50, -np.pi, np.pi)\n",
    "    for entry in x:\n",
    "        h.Fill(entry)\n",
    "    #h.Scale(1./h.Integral())\n",
    "    h.SetLineColor(colors[i])\n",
    "    hstack.Add(h)\n",
    "    hists.append(h)\n",
    "    \n",
    "hstack.Draw('NOSTACK HIST')\n",
    "leg.Draw()\n",
    "cut_box.Draw()\n",
    "rt.gPad.SetLogy()\n",
    "stacks.append(hstack)\n",
    "\n",
    "c.cd(4)\n",
    "hstack = rt.THStack(qu.RN(),'Jet E;Energy [GeV];Count')\n",
    "for i,jname in enumerate(jet_names):\n",
    "    \n",
    "    x = np.concatenate(filtered_jet_info[jname + 'E'])\n",
    "    h = rt.TH1F(qu.RN(),'',60,0.,120.)\n",
    "    for entry in x:\n",
    "        h.Fill(entry)\n",
    "    #h.Scale(1./h.Integral())\n",
    "    h.SetLineColor(colors[i])\n",
    "    hstack.Add(h)\n",
    "    hists.append(h)\n",
    "    \n",
    "hstack.Draw('NOSTACK HIST')\n",
    "leg.Draw()\n",
    "cut_box.Draw()\n",
    "rt.gPad.SetLogy()\n",
    "stacks.append(hstack)\n",
    "\n",
    "c.Draw()\n",
    "c.SaveAs(plotpath+'jet_kin_{}_{}.png'.format(regressor_modelname,score_cut_string))"
   ]
  },
  {
   "cell_type": "markdown",
   "id": "82a6da11-9732-423e-a4f4-97949c280937",
   "metadata": {},
   "source": [
    "Interestingly, the energy distribution of our reference jets -- where we've used the true topo-cluster energies -- looks quite different than all the others."
   ]
  },
  {
   "cell_type": "markdown",
   "id": "90983dc7-39dc-4e3b-b918-a39a9d0f3038",
   "metadata": {},
   "source": [
    "## Jet Matching\n",
    "\n",
    "Now, we have to perform jet matching, specifically:\n",
    "- Match `AntiKt4EMTopoJets` to `AntiKt4TruthJets`\n",
    "- Match `AntiKt4LCTopoJets` to `AntiKt4TruthJets`\n",
    "- Match `AntiKt4RefTopoJets` to `AntiKt4TruthJets`\n",
    "\n",
    "Once we have matched jets, we can compute the jet energy response.\n",
    "\n",
    "To perform matching, we will use some (slightly modified) code from the [GepJetMatching package](https://gitlab.cern.ch/jaofferm/gepjetmatching). This already implements the ATLAS jet matching algorithm so we don't have to re-invent the wheel. The only issue is that we will have to save our current jets to a ROOT file (with a somewhat particular format) and its output will also be a ROOT file."
   ]
  },
  {
   "cell_type": "code",
   "execution_count": 22,
   "id": "c3a4214b-c032-4a06-934d-5736421088b9",
   "metadata": {},
   "outputs": [],
   "source": [
    "# Saving our jets to a file.\n",
    "jet_file = 'jets_{}.root'.format(score_cut_string)\n",
    "tree_name = 'ntuple' # name must be \"ntuple\", this is used internally by GepJetMatching\n",
    "f = rt.TFile(jet_file,'RECREATE')\n",
    "t = rt.TTree(tree_name,tree_name) \n",
    "\n",
    "branches = {}\n",
    "buffers = {}\n",
    "for key in filtered_jet_info.keys():\n",
    "    buffers[key] = rt.std.vector('double')()\n",
    "    branches[key] = t.Branch(key,buffers[key])\n",
    "    \n",
    "nevents = len(jet_info) # redundant, just for safety\n",
    "for i in range(nevents):  \n",
    "    for buffer in buffers.values(): buffer.clear()\n",
    "    for key,vals in filtered_jet_info.items():\n",
    "        for val in vals[i]: buffers[key].push_back(val)      \n",
    "    t.Fill()\n",
    "t.Write()\n",
    "f.Close()"
   ]
  },
  {
   "cell_type": "code",
   "execution_count": 23,
   "id": "2444dafb-8809-49c4-9265-daeb8100b824",
   "metadata": {},
   "outputs": [],
   "source": [
    "# Now we want to match each reco jet (EM, LC, ML) to truth.\n",
    "match_settings = {\n",
    "    'pt_min':5.0, # here in GeV 7.0\n",
    "    'eta_max':4.5,\n",
    "    'requirePileupCheck':True, # TODO: turn on if we have pileup\n",
    "    'requireIsoReco':True,\n",
    "    'requireIsoTruth':True,\n",
    "    'dr':0.3,\n",
    "    'truth_iso_dr':0.3,\n",
    "    'reco_iso_dr':0.3\n",
    "}\n",
    "\n",
    "reco_jets = [x for x in jet_names if 'Truth' not in x]\n",
    "truth_jet = 'AntiKt4TruthJets'\n",
    "matches = ['{}->{}'.format(x,truth_jet) for x in reco_jets]\n",
    "matched_jet_files = {\n",
    "    key: '{}_{}_{}.root'.format(key,regressor_modelname, score_cut_string)\n",
    "    for key in reco_jets\n",
    "}"
   ]
  },
  {
   "cell_type": "code",
   "execution_count": 24,
   "id": "09a921d2-40be-4d9a-b317-ce16ca4724c8",
   "metadata": {},
   "outputs": [
    {
     "name": "stdout",
     "output_type": "stream",
     "text": [
      "Matching AntiKt4EMTopoJets->AntiKt4TruthJets.\n",
      "Matching AntiKt4LCTopoJets->AntiKt4TruthJets.\n",
      "Matching AntiKt4RefTopoJets->AntiKt4TruthJets.\n"
     ]
    }
   ],
   "source": [
    "executable_suffix = 'jet_util/' # relative location of JetMatching.C, our ROOT C++ macro for jet matching\n",
    "for i,reco_jet in enumerate(reco_jets):\n",
    "    print('Matching {}.'.format(matches[i]))\n",
    "    jm.MatchJets(matches[i], match_settings, [jet_file], matched_jet_files[reco_jet],executable_suffix)\n",
    "\n",
    "# Delete files created by our jet matching macro compilation\n",
    "jet_compilation_files = []\n",
    "for extension in ['d','pcm']:\n",
    "    jet_compilation_files += glob.glob(os.getcwd() + '/' + executable_suffix + '*.{}'.format(extension))\n",
    "for file in jet_compilation_files:\n",
    "    command = ['rm', file]\n",
    "    sub.check_call(command)"
   ]
  },
  {
   "cell_type": "markdown",
   "id": "c3f3d6ed-5126-4239-9046-3a4c63a111cc",
   "metadata": {},
   "source": [
    "Now that we have ROOT files containing matched jets, let's open them with `uproot`. With these, we can easily compute the energy response. We'll also plot the kinematics of our matched jets."
   ]
  },
  {
   "cell_type": "code",
   "execution_count": 25,
   "id": "ed18a019-4221-44a4-a7d2-1376f7924daf",
   "metadata": {},
   "outputs": [],
   "source": [
    "matched_jet_trees = {\n",
    "    key:ur.open(val)[tree_name]\n",
    "    for key,val in matched_jet_files.items()\n",
    "}"
   ]
  },
  {
   "cell_type": "code",
   "execution_count": 26,
   "id": "871a4ab1-fa20-45b0-b6be-26375e787752",
   "metadata": {},
   "outputs": [],
   "source": [
    "colors = [rt.kGreen, rt.kViolet-4, ps.curve]"
   ]
  },
  {
   "cell_type": "code",
   "execution_count": 27,
   "id": "e0370f0f-83d5-4de8-a9b6-e4e9dec7372d",
   "metadata": {},
   "outputs": [
    {
     "name": "stderr",
     "output_type": "stream",
     "text": [
      "Info in <TCanvas::Print>: png file /local/home/jano/ml4pions/LCStudies/jets/Plots/jet_kin_matched_reference_.png has been created\n"
     ]
    },
    {
     "data": {
      "image/png": "[encoded data removed]",
      "text/plain": [
       "<IPython.core.display.Image object>"
      ]
     },
     "metadata": {},
     "output_type": "display_data"
    }
   ],
   "source": [
    "c = rt.TCanvas(qu.RN(),'',1600,1200)\n",
    "hists = []\n",
    "stacks = []\n",
    "c.Divide(2,2)\n",
    "\n",
    "c.cd(1)\n",
    "leg = rt.TLegend(0.7,0.75,0.9,0.9)\n",
    "leg.SetTextColor(ps.text)\n",
    "hstack = rt.THStack(qu.RN(),'Jet p_{T} (Matched Jets);p_{T} [GeV];Count')\n",
    "\n",
    "for i,reco_jet in enumerate(reco_jets):\n",
    "    x = ak.flatten(matched_jet_trees[reco_jet][reco_jet + 'Pt'].array()).to_numpy()\n",
    "    h = rt.TH1F(qu.RN(),'',60,0.,120.)\n",
    "    for entry in x:\n",
    "        h.Fill(entry)\n",
    "    #h.Scale(1./h.Integral())\n",
    "    h.SetLineColor(colors[i])\n",
    "    hstack.Add(h)\n",
    "    hists.append(h)\n",
    "    leg.AddEntry(h,reco_jet,'l')\n",
    "    \n",
    "hstack.Draw('NOSTACK HIST')\n",
    "leg.Draw()\n",
    "cut_box.Draw()\n",
    "rt.gPad.SetLogy()\n",
    "stacks.append(hstack)\n",
    "\n",
    "c.Draw()\n",
    "\n",
    "c.cd(2)\n",
    "hstack = rt.THStack(qu.RN(),'Jet Eta (Matched Jets);#eta;Count')\n",
    "for i,reco_jet in enumerate(reco_jets):\n",
    "    x = ak.flatten(matched_jet_trees[reco_jet][reco_jet + 'Eta'].array()).to_numpy()\n",
    "    h = rt.TH1F(qu.RN(),'',50,-1.,1.)\n",
    "    for entry in x:\n",
    "        h.Fill(entry)\n",
    "    #h.Scale(1./h.Integral())\n",
    "    h.SetLineColor(colors[i])\n",
    "    hstack.Add(h)\n",
    "    hists.append(h)\n",
    "    \n",
    "hstack.Draw('NOSTACK HIST')\n",
    "leg.Draw()\n",
    "cut_box.Draw()\n",
    "rt.gPad.SetLogy()\n",
    "stacks.append(hstack)\n",
    "\n",
    "c.cd(3)\n",
    "hstack = rt.THStack(qu.RN(),'Jet Phi (Matched Jets);#phi;Count')\n",
    "for i,reco_jet in enumerate(reco_jets):\n",
    "    x = ak.flatten(matched_jet_trees[reco_jet][reco_jet + 'Phi'].array()).to_numpy()\n",
    "    h = rt.TH1F(qu.RN(),'',50, -np.pi, np.pi)\n",
    "    for entry in x:\n",
    "        h.Fill(entry)\n",
    "    #h.Scale(1./h.Integral())\n",
    "    h.SetLineColor(colors[i])\n",
    "    hstack.Add(h)\n",
    "    hists.append(h)\n",
    "    \n",
    "hstack.Draw('NOSTACK HIST')\n",
    "leg.Draw()\n",
    "cut_box.Draw()\n",
    "rt.gPad.SetLogy()\n",
    "stacks.append(hstack)\n",
    "\n",
    "c.cd(4)\n",
    "hstack = rt.THStack(qu.RN(),'Jet E (Matched Jets);Energy [GeV];Count')\n",
    "for i,reco_jet in enumerate(reco_jets):\n",
    "    x = ak.flatten(matched_jet_trees[reco_jet][reco_jet + 'E'].array()).to_numpy()\n",
    "    h = rt.TH1F(qu.RN(),'',60,0.,120.)\n",
    "    for entry in x:\n",
    "        h.Fill(entry)\n",
    "    #h.Scale(1./h.Integral())\n",
    "    h.SetLineColor(colors[i])\n",
    "    hstack.Add(h)\n",
    "    hists.append(h)\n",
    "    \n",
    "hstack.Draw('NOSTACK HIST')\n",
    "leg.Draw()\n",
    "cut_box.Draw()\n",
    "rt.gPad.SetLogy()\n",
    "stacks.append(hstack)\n",
    "\n",
    "c.Draw()\n",
    "c.SaveAs(plotpath+'jet_kin_matched_{}_{}.png'.format(regressor_modelname, score_cut_string))"
   ]
  },
  {
   "cell_type": "markdown",
   "id": "1d8e5286-5ffd-4af0-9ff3-6e05bc0b5427",
   "metadata": {},
   "source": [
    "Let's get the energy response. To be specific, we are interested in the response in *transverse* energy, $E_T$."
   ]
  },
  {
   "cell_type": "code",
   "execution_count": 28,
   "id": "fd23ed18-e959-4c24-842a-e09f3aa7564b",
   "metadata": {},
   "outputs": [],
   "source": [
    "energy_response = {}"
   ]
  },
  {
   "cell_type": "code",
   "execution_count": 29,
   "id": "ee96efcb-259f-4376-a52b-6969858331d8",
   "metadata": {},
   "outputs": [
    {
     "name": "stdout",
     "output_type": "stream",
     "text": [
      "AntiKt4EMTopoJets 929\n",
      "AntiKt4LCTopoJets 628\n",
      "AntiKt4RefTopoJets 30\n"
     ]
    }
   ],
   "source": [
    "for reco_jet in reco_jets:\n",
    "    reco_energy = ak.flatten(matched_jet_trees[reco_jet][reco_jet + 'E'].array()).to_numpy()\n",
    "    truth_energy = ak.flatten(matched_jet_trees[reco_jet][truth_jet + 'E'].array()).to_numpy()\n",
    "    \n",
    "    reco_eta = ak.flatten(matched_jet_trees[reco_jet][reco_jet + 'Eta'].array()).to_numpy()\n",
    "    truth_eta = ak.flatten(matched_jet_trees[reco_jet][truth_jet + 'Eta'].array()).to_numpy()\n",
    "\n",
    "    reco_et = reco_energy / np.cosh(reco_eta)\n",
    "    truth_et = truth_energy / np.cosh(truth_eta)\n",
    "\n",
    "    energy_response[reco_jet] = reco_et / truth_et\n",
    "    print(reco_jet, len(reco_et))"
   ]
  },
  {
   "cell_type": "code",
   "execution_count": 30,
   "id": "e8e1fbb6-f861-4fd8-a0c4-93a18da89f79",
   "metadata": {},
   "outputs": [
    {
     "name": "stderr",
     "output_type": "stream",
     "text": [
      "Info in <TCanvas::Print>: png file /local/home/jano/ml4pions/LCStudies/jets/Plots/response_reference_.png has been created\n"
     ]
    },
    {
     "data": {
      "image/png": "[encoded data removed]",
      "text/plain": [
       "<IPython.core.display.Image object>"
      ]
     },
     "metadata": {},
     "output_type": "display_data"
    }
   ],
   "source": [
    "c = rt.TCanvas(qu.RN(), 'c', 800, 600)\n",
    "hstack = rt.THStack(qu.RN(),'Energy Response;E_T^{reco} / E_T^{true};Fractional Count')\n",
    "binning = (50,0.,5.)\n",
    "for i,reco_jet in enumerate(reco_jets):\n",
    "    h = rt.TH1F(qu.RN(),'',*binning)\n",
    "    for entry in energy_response[reco_jet]: h.Fill(entry)\n",
    "    h.Scale(1./h.Integral())\n",
    "    h.SetLineColor(colors[i])\n",
    "    hists.append(h)\n",
    "    hstack.Add(h)\n",
    "hstack.Draw('NOSTACK HIST')\n",
    "leg.Draw()\n",
    "cut_box.Draw()\n",
    "c.Draw()\n",
    "c.SaveAs(plotpath+'response_{}_{}.png'.format(regressor_modelname,score_cut_string))"
   ]
  },
  {
   "cell_type": "markdown",
   "id": "4091d9ec-a27f-43ef-bfab-1c981a2759be",
   "metadata": {},
   "source": [
    "Two things stand out -- we have almost none of our reference jets (i.e. assigning the true energies to the topo-clusters seems to have prevented most jets from passing cuts), and the response, if it's even meaningful for such a small number of jets, is kind of all over the place."
   ]
  },
  {
   "cell_type": "markdown",
   "id": "a2c07d33-4dc3-400f-82ba-5a7792b9215a",
   "metadata": {},
   "source": [
    "Now let's look at the response of our Ref jets as a function of their kinematics."
   ]
  },
  {
   "cell_type": "code",
   "execution_count": 31,
   "id": "835b12a4-9d30-4aee-90f7-f5a397fa98a4",
   "metadata": {},
   "outputs": [],
   "source": [
    "# First, some simple variables\n",
    "\n",
    "pt = ak.flatten(matched_jet_trees[custom_jet_name][custom_jet_name + 'Pt'].array()).to_numpy()\n",
    "eta = ak.flatten(matched_jet_trees[custom_jet_name][custom_jet_name + 'Eta'].array()).to_numpy()\n",
    "phi = ak.flatten(matched_jet_trees[custom_jet_name][custom_jet_name + 'Phi'].array()).to_numpy()\n",
    "e = ak.flatten(matched_jet_trees[custom_jet_name][custom_jet_name + 'E'].array()).to_numpy()"
   ]
  },
  {
   "cell_type": "code",
   "execution_count": 32,
   "id": "cf30adeb-87d8-439d-8272-9af6f9dfbda9",
   "metadata": {},
   "outputs": [],
   "source": [
    "# Let's calculate the dR between each ML jet and its matched truth jet\n",
    "from jet_util import calcs\n",
    "eta_truth = ak.flatten(matched_jet_trees[custom_jet_name][truth_jet + 'Eta'].array()).to_numpy()\n",
    "phi_truth = ak.flatten(matched_jet_trees[custom_jet_name][truth_jet + 'Phi'].array()).to_numpy()\n",
    "dr_truth = np.sqrt(np.array([calcs.DeltaR2(eta[i],phi[i],eta_truth[i],phi_truth[i]) for i in range(len(eta))]))"
   ]
  },
  {
   "cell_type": "code",
   "execution_count": 33,
   "id": "02e1f728-948a-4d56-bda4-df61dccdab3f",
   "metadata": {},
   "outputs": [],
   "source": [
    "# Let's also calculate the dR between each ML jet and the nearest *other* ML jet\n",
    "# TODO"
   ]
  },
  {
   "cell_type": "code",
   "execution_count": 34,
   "id": "fdfcf675-3094-4ae7-b4ec-c71d48941194",
   "metadata": {},
   "outputs": [
    {
     "name": "stderr",
     "output_type": "stream",
     "text": [
      "Info in <TCanvas::Print>: png file /local/home/jano/ml4pions/LCStudies/jets/Plots/kin_vs_response_reference_.png has been created\n"
     ]
    },
    {
     "data": {
      "image/png": "[encoded data removed]",
      "text/plain": [
       "<IPython.core.display.Image object>"
      ]
     },
     "metadata": {},
     "output_type": "display_data"
    }
   ],
   "source": [
    "draw_option = 'COLZ'\n",
    "\n",
    "c = rt.TCanvas(qu.RN(),'',1600,1200)\n",
    "c.Divide(2,3)\n",
    "\n",
    "binning_x = [50,0.,5.]\n",
    "\n",
    "binning = {\n",
    "    'Pt' :binning_x + [75,5.,80.],\n",
    "    'Eta':binning_x + [30,-0.3,0.3],\n",
    "    'Phi':binning_x + [30, -np.pi, np.pi],\n",
    "    'E'  :binning_x + [75,5.,80.],\n",
    "    'dr_truth': binning_x + [20,0.,0.4]\n",
    "}\n",
    "\n",
    "c.cd(1)\n",
    "key = 'Pt'\n",
    "h = rt.TH2F(qu.RN(),'Pt vs. Energy response (response-normalized);Response;Pt [GeV];Fractional Count', *binning[key])\n",
    "for i in range(len(pt)):\n",
    "    h.Fill(energy_response[custom_jet_name][i],pt[i])\n",
    "    \n",
    "# Normalize so that each response bin (x axis) integrates to 1\n",
    "for i in range(binning_x[0]):\n",
    "    total = 0.\n",
    "    for j in range(binning[key][3]):\n",
    "        total += h.GetBinContent(i+1,j+1) \n",
    "    if(total != 0.):\n",
    "        for j in range(binning[key][3]):\n",
    "            h.SetBinContent(i+1, j+1, h.GetBinContent(i+1,j+1) / total)\n",
    "\n",
    "h.Draw(draw_option)\n",
    "rt.gPad.SetRightMargin(0.2)\n",
    "rt.gPad.SetLogy()\n",
    "rt.gPad.SetGrid()\n",
    "hists.append(h)\n",
    "\n",
    "c.cd(2)\n",
    "key = 'Eta'\n",
    "h = rt.TH2F(qu.RN(),'Eta vs. Energy response (response-normalized);Response;#eta;Fractional Count', *binning[key])\n",
    "for i in range(len(pt)):\n",
    "    h.Fill(energy_response[custom_jet_name][i],eta[i])\n",
    "\n",
    "# Normalize so that each response bin (x axis) integrates to 1\n",
    "for i in range(binning_x[0]):\n",
    "    total = 0.\n",
    "    for j in range(binning[key][3]):\n",
    "        total += h.GetBinContent(i+1,j+1) \n",
    "    if(total != 0.):\n",
    "        for j in range(binning[key][3]):\n",
    "            h.SetBinContent(i+1, j+1, h.GetBinContent(i+1,j+1) / total)\n",
    "    \n",
    "h.Draw(draw_option)\n",
    "rt.gPad.SetRightMargin(0.2)\n",
    "rt.gPad.SetGrid()\n",
    "hists.append(h)\n",
    "\n",
    "c.cd(3)\n",
    "key = 'Phi'\n",
    "h = rt.TH2F(qu.RN(),'Phi vs. Energy response (response-normalized);Response;#phi;Fractional Count', *binning[key])\n",
    "for i in range(len(phi)):\n",
    "    h.Fill(energy_response[custom_jet_name][i],phi[i])\n",
    "\n",
    "    # Normalize so that each response bin (x axis) integrates to 1\n",
    "for i in range(binning_x[0]):\n",
    "    total = 0.\n",
    "    for j in range(binning[key][3]):\n",
    "        total += h.GetBinContent(i+1,j+1) \n",
    "    if(total != 0.):\n",
    "        for j in range(binning[key][3]):\n",
    "            h.SetBinContent(i+1, j+1, h.GetBinContent(i+1,j+1) / total)\n",
    "\n",
    "h.Draw(draw_option)\n",
    "rt.gPad.SetRightMargin(0.2)\n",
    "rt.gPad.SetGrid()\n",
    "hists.append(h)\n",
    "\n",
    "c.cd(4)\n",
    "key = 'E'\n",
    "h = rt.TH2F(qu.RN(),'E vs. Energy response (response-normalized);Response;E [GeV];Fractional Count', *binning[key])\n",
    "for i in range(len(e)):\n",
    "    h.Fill(energy_response[custom_jet_name][i],e[i])\n",
    "\n",
    "    # Normalize so that each response bin (x axis) integrates to 1\n",
    "for i in range(binning_x[0]):\n",
    "    total = 0.\n",
    "    for j in range(binning[key][3]):\n",
    "        total += h.GetBinContent(i+1,j+1) \n",
    "    if(total != 0.):\n",
    "        for j in range(binning[key][3]):\n",
    "            h.SetBinContent(i+1, j+1, h.GetBinContent(i+1,j+1) / total)\n",
    "\n",
    "h.Draw(draw_option)\n",
    "rt.gPad.SetRightMargin(0.2)\n",
    "rt.gPad.SetLogy()\n",
    "rt.gPad.SetGrid()\n",
    "hists.append(h)\n",
    "\n",
    "c.cd(5)\n",
    "key = 'dr_truth'\n",
    "h = rt.TH2F(qu.RN(),'E vs. Energy response (response-normalized);Response;E [GeV];Fractional Count', *binning[key])\n",
    "for i in range(len(e)):\n",
    "    h.Fill(energy_response[custom_jet_name][i],dr_truth[i])\n",
    "\n",
    "    # Normalize so that each response bin (x axis) integrates to 1\n",
    "for i in range(binning_x[0]):\n",
    "    total = 0.\n",
    "    for j in range(binning[key][3]):\n",
    "        total += h.GetBinContent(i+1,j+1) \n",
    "    if(total != 0.):\n",
    "        for j in range(binning[key][3]):\n",
    "            h.SetBinContent(i+1, j+1, h.GetBinContent(i+1,j+1) / total)\n",
    "\n",
    "h.Draw(draw_option)\n",
    "rt.gPad.SetRightMargin(0.2)\n",
    "rt.gPad.SetGrid()\n",
    "hists.append(h)\n",
    "\n",
    "c.Draw()\n",
    "c.SaveAs(plotpath+'kin_vs_response_{}_{}.png'.format(regressor_modelname,score_cut_string))"
   ]
  },
  {
   "cell_type": "code",
   "execution_count": 35,
   "id": "4603a6dc-8bd0-4953-a4dc-56f0609dde03",
   "metadata": {},
   "outputs": [],
   "source": [
    "# if __name__ == '__main__':\n",
    "#     main(sys.argv)"
   ]
  }
 ],
 "metadata": {
  "kernelspec": {
   "display_name": "Python 3 (ipykernel)",
   "language": "python",
   "name": "python3"
  },
  "language_info": {
   "codemirror_mode": {
    "name": "ipython",
    "version": 3
   },
   "file_extension": ".py",
   "mimetype": "text/x-python",
   "name": "python",
   "nbconvert_exporter": "python",
   "pygments_lexer": "ipython3",
   "version": "3.8.10"
  }
 },
 "nbformat": 4,
 "nbformat_minor": 5
}
