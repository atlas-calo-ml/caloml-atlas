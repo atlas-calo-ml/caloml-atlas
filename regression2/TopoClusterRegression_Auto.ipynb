{
 "cells": [
  {
   "cell_type": "markdown",
   "metadata": {},
   "source": [
    "# TopoCluster Regression (AutoKeras Edition)"
   ]
  },
  {
   "cell_type": "markdown",
   "metadata": {},
   "source": [
    "This is a slightly different take on regression than what we've commonly being doing. Instead of making a network that will output the predicted topo-cluster energy, we will make one that will output the predicted *ratio* between true and reco energies.\n",
    "\n",
    "What's the difference? It might sound like a trivial change, but the ratio is a unitless quantity. So this might help with the problem of having to cover many orders of magnitude in outputs. Now, our \"classic\" regression networks were dealing with this by performing some scaling of inputs:\n",
    "\n",
    "$$\n",
    "\\begin{align}\n",
    "E_\\text{reco}  &\\rightarrow \\ln{ \\left (E_\\text{reco} \\right)} \\;, \\\\\n",
    "E_\\text{truth}  &\\rightarrow \\ln{ \\left (E_\\text{truth} \\right)} \\;\\; \\text{(target)},\n",
    "\\end{align}\n",
    "$$\n",
    "\n",
    "The output of the network, $x$, is then converted to the predicted energy $E_\\text{pred}$ via the inverse transformation:\n",
    "\n",
    "$$\n",
    "x \\rightarrow e^{x} = E_\\text{pred}\n",
    "$$\n",
    "\n",
    "Thus if there's some small error in $x$, $x \\rightarrow x + \\delta x$, this may result in a large error in $E_\\text{pred}$:\n",
    "\n",
    "$$\n",
    "e^{x + \\delta x} = e^{\\delta x} E_\\text{pred} \\; .\n",
    "$$\n",
    "\n",
    "For example, if we're trying to get an energy of $100 \\, \\text{[GeV]}$ for a particular cluster, but our network ouput ($x$) is $10\\%$ too large, this will lead to a $\\sim +50\\%$ error in $E_\\text{pred}$. (If $x$ is $10\\%$ too small, we will have an error of $\\sim -40\\%$ in $E_\\text{pred}$).\n",
    "\n",
    "-----\n",
    "\n",
    "In this version of the notebook, we will be using `AutoKeras`. Note that this will require your environment to be set up accordingly (`tensorflow` version of 2.3 or higher). An appropriate environment `ml4p2` is provided in the `\\setup\\conda` directory."
   ]
  },
  {
   "cell_type": "markdown",
   "metadata": {},
   "source": [
    "#### 1) Initial setup"
   ]
  },
  {
   "cell_type": "code",
   "execution_count": 1,
   "metadata": {},
   "outputs": [],
   "source": [
    "# ML fitting/loading/saving settings\n",
    "overwriteModel = False # If true, force training. If false, load the specified model if it already exists.\n",
    "\n",
    "finishTraining = False"
   ]
  },
  {
   "cell_type": "markdown",
   "metadata": {},
   "source": [
    "Now let's choose our training data (and associated strategy)."
   ]
  },
  {
   "cell_type": "code",
   "execution_count": 2,
   "metadata": {},
   "outputs": [],
   "source": [
    "# training data choice\n",
    "# options are jet, pion, pion_reweighted\n",
    "\n",
    "# options are:\n",
    "#   - pion_legacy\n",
    "#   - pion\n",
    "#   - pion_reweighted\n",
    "\n",
    "source = 'pion'\n",
    "subdir = 'pion1a' # name for subdir holding models/plots"
   ]
  },
  {
   "cell_type": "code",
   "execution_count": 3,
   "metadata": {},
   "outputs": [
    {
     "name": "stdout",
     "output_type": "stream",
     "text": [
      "Welcome to JupyROOT 6.24/00\n"
     ]
    }
   ],
   "source": [
    "# Import some basic libraries.\n",
    "import sys, os, uuid, glob, pickle, pathlib\n",
    "import numpy as np\n",
    "import pandas as pd # we will use some uproot/pandas interplay here.\n",
    "import matplotlib.pyplot as plt\n",
    "import uproot as ur\n",
    "import ROOT as rt # used for plotting\n",
    "#import joblib as jl # for saving scalers\n",
    "from numba import jit\n",
    "\n",
    "# Import our resolution utilities\n",
    "path_prefix = os.getcwd() + '/../'\n",
    "if(path_prefix not in sys.path): sys.path.append(path_prefix)\n",
    "from util import resolution_util as ru\n",
    "from util import plot_util       as pu\n",
    "from util import ml_util         as mu\n",
    "from util import qol_util        as qu\n",
    "from util import io_util         as iu\n",
    "\n",
    "# Custom tensorflow.keras callbacks\n",
    "from util.keras.callbacks import GetCallbacks\n",
    "\n",
    "# Regression-specific utils\n",
    "from util.regression import data_util as rdu\n",
    "from util.regression import plot_util as rpu\n",
    "from util.regression import training_util as rtu\n",
    "\n",
    "rt.gStyle.SetOptStat(0)\n",
    "# use our custom dark style for plots\n",
    "plotstyle = qu.PlotStyle('dark')\n",
    "plotstyle.SetStyle() # still need to manually adjust legends, paves\n",
    "\n",
    "plotpath = path_prefix + 'regression2/Plots/{}/'.format(subdir)\n",
    "modelpath = path_prefix + 'regression2/Models/{}/'.format(subdir)\n",
    "paths = [plotpath, modelpath]\n",
    "for path in [plotpath, modelpath]:\n",
    "    try: os.makedirs(path)\n",
    "    except: pass\n",
    "\n",
    "# metadata\n",
    "layers = [\"EMB1\", \"EMB2\", \"EMB3\", \"TileBar0\", \"TileBar1\", \"TileBar2\"]\n",
    "cell_size_phi = [0.098, 0.0245, 0.0245, 0.1, 0.1, 0.1]\n",
    "cell_size_eta = [0.0031, 0.025, 0.05, 0.1, 0.1, 0.2]\n",
    "len_phi = [4, 16, 16, 4, 4, 4]\n",
    "len_eta = [128, 16, 8, 4, 4, 2]\n",
    "cell_shapes = {layers[i]:(len_eta[i],len_phi[i]) for i in range(len(layers))}"
   ]
  },
  {
   "cell_type": "code",
   "execution_count": 4,
   "metadata": {},
   "outputs": [],
   "source": [
    "# fancy display names for each pion type\n",
    "pi_latex = {\n",
    "    'p0': '\\(\\pi^{0}\\)',\n",
    "    'pp': '\\(\\pi^{\\pm}\\)',\n",
    "}\n",
    "pi_text = {\n",
    "    'p0': 'pi0',\n",
    "    'pp': 'pi+/-'\n",
    "}\n",
    "\n",
    "# Plotting settings\n",
    "# xkcd -- turn this on for fun-looking (but marginally less useful) plots\n",
    "use_xkcd = False\n",
    "if(use_xkcd):\n",
    "    mode = 'light'\n",
    "    plt.xkcd(scale=.75,length=100,randomness=1)\n",
    "    \n",
    "# plotting style -- manages our color palette and object colors\n",
    "mode = 'dark' # for publications, use \"light\"\n",
    "plotstyle = qu.PlotStyle(mode)\n",
    "    \n",
    "# some matplotlib-specific stuff\n",
    "params = {'legend.fontsize': 13,\n",
    "          'axes.labelsize': 18}\n",
    "plt.rcParams.update(params)"
   ]
  },
  {
   "cell_type": "markdown",
   "metadata": {},
   "source": [
    "#### 2) Get the data."
   ]
  },
  {
   "cell_type": "markdown",
   "metadata": {},
   "source": [
    "Let me lay out some definitions, so it's clear as to what the data is.\n",
    "\n",
    "We have a number of different \"strategies\" (the `source` variable at the top). These correspond to different choices of training, validation and testing datasets.\n",
    "\n",
    "1. `pion`: We train and validate the network using our single pion data.\n",
    "\n",
    "2. `pion_legacy`: We train and validate using our old, noise-free single pion data.\n",
    "\n",
    "3. `pion_reweighted`: This is the same as `pion`, except that our training data is reweighted using a jet dataset (via their reco topo-cluster $p_T$ distributions), that corresponds with QCD dijet events.\n",
    "\n",
    "The validation performed for these networks is effectively being done on some \"holdout\" dataset from training -- it will by definition have similar kinematics, being drawn from the same set of events. The more interesting test -- how our energy regression performs in tandem with classification on our *unlabeled* jet dataset, will be handled in a separate notebook."
   ]
  },
  {
   "cell_type": "code",
   "execution_count": 5,
   "metadata": {},
   "outputs": [],
   "source": [
    "if(source == 'pion_legacy'):\n",
    "    inputpath = path_prefix+'data/pion_legacy/'\n",
    "    rootfiles = {\n",
    "        'p0':inputpath + 'pi0.root',\n",
    "        'pp':inputpath + 'pi[pm]*.root'\n",
    "    }\n",
    "    \n",
    "    branches = ['clusterE', 'clusterPt', 'clusterEta', 'cluster_ENG_CALIB_TOT']\n",
    "\n",
    "elif(source == 'pion' or source == 'pion_reweighted'):\n",
    "    inputpath=path_prefix+'data/pion/'\n",
    "    rootfiles = {        \n",
    "        'p0':inputpath + 'user.mswiatlo.900246.PG_singlepi0_logE0p2to2000.recon.ESD.e8312_e7400_s3170_r12383.images_v01.1_OutputStream/*.root',\n",
    "        'pp':inputpath + 'user.mswiatlo.900247.PG_singlepion_logE0p2to2000.recon.ESD.e8312_e7400_s3170_r12383.images_v01.1_OutputStream/*.root'\n",
    "    }\n",
    "    \n",
    "    branches = ['cluster_E', 'cluster_Pt', 'cluster_Eta', 'cluster_ENG_CALIB_TOT']\n",
    "\n",
    "else: assert(False)"
   ]
  },
  {
   "cell_type": "code",
   "execution_count": 6,
   "metadata": {},
   "outputs": [
    {
     "name": "stdout",
     "output_type": "stream",
     "text": [
      "Loading pandas DataFrame and calo images from /local/home/jano/ml4pions/LCStudies/regression2/../data/pion/tdata_frame.h5 and /local/home/jano/ml4pions/LCStudies/regression2/../data/pion/tdata_images.h5.\n",
      "Number of pi0     events:     300000\t(50.0%)\n",
      "Number of pi+/-   events:     300000\t(50.0%)\n",
      "Total: 600000\n",
      "Loading indices for key p0 from /local/home/jano/ml4pions/LCStudies/regression2/../data/pion/tdata_indices.h5.\n",
      "Loading indices for key pp from /local/home/jano/ml4pions/LCStudies/regression2/../data/pion/tdata_indices.h5.\n"
     ]
    }
   ],
   "source": [
    "# Prepare data\n",
    "h5_name_suffix = 'tdata'\n",
    "h5_name = inputpath + h5_name_suffix\n",
    "\n",
    "pdata,pcells = mu.setupPionData(\n",
    "    rootfiles, \n",
    "    branches=branches, \n",
    "    layers=layers, \n",
    "    balance_data=True, \n",
    "    n_max = 300000,\n",
    "    verbose=True,\n",
    "    load=True,\n",
    "    save=True,\n",
    "    filename=h5_name,\n",
    "    match_distribution='cluster_ENG_CALIB_TOT',\n",
    "    match_binning = (20000,0.,2000.),\n",
    "    cut_distributions=['cluster_ENG_CALIB_TOT','clusterEta'],\n",
    "    cut_values = [.2, (-0.7,0.7)],\n",
    "    cut_types=['lower','window']\n",
    ")\n",
    "\n",
    "total = np.sum([len(x) for x in pdata.values()],dtype=int)\n",
    "for key,frame in pdata.items():\n",
    "    n = len(frame)\n",
    "    print(\"Number of {a:<7} events: {b:>10}\\t({c:.1f}%)\".format(a=pi_text[key], b = n, c = 100. * n / total))\n",
    "print(\"Total: {}\".format(total))\n",
    "\n",
    "# Create/get training/validation/testing indices.\n",
    "pdata = rdu.DataPrep(pdata,\n",
    "                     trainfrac=0.7,\n",
    "                     filename=h5_name\n",
    "                    )"
   ]
  },
  {
   "cell_type": "markdown",
   "metadata": {},
   "source": [
    "### Defining regression variables\n",
    "\n",
    "Beyond the information already present in the data, we may want to pre-compute some extra regression inputs.\n",
    "\n",
    "The difference between computing them here, on the whole dataset, versus doing it in batch as part of the network itself, is that we can also define some `scalers` based on these variables. This will allow us to scale them across the dataset, for example to get them into the interval of \\[0,1\\]."
   ]
  },
  {
   "cell_type": "code",
   "execution_count": 7,
   "metadata": {},
   "outputs": [],
   "source": [
    "m = 1.\n",
    "b = 1.\n",
    "EnergyMapping = iu.LinLogMapping(b=b,m=m)"
   ]
  },
  {
   "cell_type": "markdown",
   "metadata": {},
   "source": [
    "It looks like our `LinLogMapping` is pretty numerically stable as long as $b \\gg m$. I think this is the expected behaviour, given the instabilities with logarithms that we've seen before."
   ]
  },
  {
   "cell_type": "code",
   "execution_count": 8,
   "metadata": {},
   "outputs": [],
   "source": [
    "# Some regression vars.\n",
    "# Note that the mapping functions can probably be sped up with numba, but might throw errors during plotting above. Need to look into this.\n",
    "for key,frame in pdata.items():\n",
    "    frame['logE'] = EnergyMapping.Forward(frame['clusterE'].to_numpy()) # log of reco energy, possible network input\n",
    "    frame['clusterEtaAbs'] = np.abs(frame['clusterEta'].to_numpy()) # absolute value of eta, possible network input\n",
    "    #frame['logECalib'] = EnergyMapping.Forward(frame['cluster_ENG_CALIB_TOT'].to_numpy()) # No longer our regression target\n",
    "\n",
    "    # Now get the ratio of \"truth\" to reco energy. Be mindful of zeros in denominator\n",
    "    x = frame['clusterE'].to_numpy()\n",
    "    x[x==0] = 1.\n",
    "    frame['ratioE'] = frame['cluster_ENG_CALIB_TOT'].to_numpy() / x"
   ]
  },
  {
   "cell_type": "code",
   "execution_count": 9,
   "metadata": {},
   "outputs": [
    {
     "name": "stdout",
     "output_type": "stream",
     "text": [
      "Loading scalers from /local/home/jano/ml4pions/LCStudies/regression2/../regression2/Models/pion1a/scalers.save.\n"
     ]
    }
   ],
   "source": [
    "scaler_file = modelpath + 'scalers.save'\n",
    "scaler_branches = ['logE', 'clusterEtaAbs']\n",
    "scalers = mu.setupScalers(pdata, scaler_branches, scaler_file)"
   ]
  },
  {
   "cell_type": "markdown",
   "metadata": {},
   "source": [
    "Let's make plots of any vars that are rescaled using our StandardScalers, to see what the rescaling has done. (We won't put axis labels since the units are kind of funny anyway...)"
   ]
  },
  {
   "cell_type": "code",
   "execution_count": 10,
   "metadata": {},
   "outputs": [
    {
     "data": {
      "image/png": "[encoded data removed]",
      "text/plain": [
       "<Figure size 1080x360 with 2 Axes>"
      ]
     },
     "metadata": {
      "needs_background": "dark"
     },
     "output_type": "display_data"
    }
   ],
   "source": [
    "# Let's make a histogram of the regression vars, before and after scaling.\n",
    "rvars = ['logE', 's_logE']\n",
    "ranges = {\n",
    "    'logE':(120,-2.,10.),\n",
    "    's_logE':(100,-2.,2.)\n",
    "}\n",
    "fig, ax = plt.subplots(1,len(rvars),figsize=(7.5 * len(rvars),5))\n",
    "if(type(ax) != np.ndarray): ax = [ax]\n",
    "\n",
    "for i,rvar in enumerate(rvars):\n",
    "    vals = {}\n",
    "    for key,frame in pdata.items():\n",
    "        vals[key] = frame[rvar].to_numpy()\n",
    "    pu.histogramOverlay(ax[i], vals.values(), list(vals.keys()), rvar, 'Fractional count',\n",
    "                        x_min = ranges[rvar][1], x_max = ranges[rvar][2], xbins = ranges[rvar][0],\n",
    "                        normed = True, y_log = True,\n",
    "                        ps = plotstyle\n",
    "                       )\n",
    "plt.show()"
   ]
  },
  {
   "cell_type": "markdown",
   "metadata": {},
   "source": [
    "Let's also make a plot of our regression target, to see what the distribution looks like."
   ]
  },
  {
   "cell_type": "code",
   "execution_count": 11,
   "metadata": {},
   "outputs": [
    {
     "data": {
      "image/png": "[encoded data removed]",
      "text/plain": [
       "<Figure size 540x360 with 1 Axes>"
      ]
     },
     "metadata": {
      "needs_background": "dark"
     },
     "output_type": "display_data"
    }
   ],
   "source": [
    "# Let's make a histogram of the regression vars, before and after scaling.\n",
    "rvars = ['ratioE']\n",
    "ranges = {\n",
    "    'ratioE':(200,0.,20.),\n",
    "}\n",
    "\n",
    "fig, ax = plt.subplots(1,len(rvars),figsize=(7.5 * len(rvars),5))\n",
    "if(type(ax) != np.ndarray): ax = [ax]\n",
    "\n",
    "for i,rvar in enumerate(rvars):\n",
    "    vals = {}\n",
    "    for key,frame in pdata.items():\n",
    "        vals[key] = frame[rvar].to_numpy()\n",
    "    pu.histogramOverlay(ax[i], vals.values(), list(vals.keys()), rvar, 'Fractional count',\n",
    "                        x_min = ranges[rvar][1], x_max = ranges[rvar][2], xbins = ranges[rvar][0],\n",
    "                        normed = True, y_log = True,\n",
    "                        ps = plotstyle\n",
    "                       )\n",
    "plt.show()"
   ]
  },
  {
   "cell_type": "markdown",
   "metadata": {},
   "source": [
    "As we might have suspected, there is more spread for $\\pi^\\pm$ than for $\\pi^0$. In other words, the charged pion response is worse, and so it will make for a harder regression target. This is consistent with what we've seen elsewhere."
   ]
  },
  {
   "cell_type": "markdown",
   "metadata": {},
   "source": [
    "We may optionally perform some re-weighting of our training events. If using the `pion_reweighted` strategy, we will re-weight our single-pion training data to match the topo-cluster $p_T$ spectrum of our jet data."
   ]
  },
  {
   "cell_type": "code",
   "execution_count": 12,
   "metadata": {},
   "outputs": [],
   "source": [
    "# TODO: consider re-adding some sample weighting schemes\n",
    "sample_weights = {\n",
    "    key: np.full(np.sum(frame['train'].to_numpy()),1.)\n",
    "    for key,frame in pdata.items()\n",
    "}"
   ]
  },
  {
   "cell_type": "markdown",
   "metadata": {},
   "source": [
    "## Tensorflow/AutoKeras Prep"
   ]
  },
  {
   "cell_type": "code",
   "execution_count": 13,
   "metadata": {},
   "outputs": [
    {
     "name": "stdout",
     "output_type": "stream",
     "text": [
      "INFO:tensorflow:Using MirroredStrategy with devices ('/job:localhost/replica:0/task:0/device:GPU:0',)\n",
      "Number of devices: 1\n"
     ]
    },
    {
     "name": "stderr",
     "output_type": "stream",
     "text": [
      "2021-06-19 13:20:58.993260: I tensorflow/stream_executor/platform/default/dso_loader.cc:48] Successfully opened dynamic library libcuda.so.1\n",
      "2021-06-19 13:20:59.050020: I tensorflow/core/common_runtime/gpu/gpu_device.cc:1716] Found device 0 with properties: \n",
      "pciBusID: 0000:18:00.0 name: Quadro P5000 computeCapability: 6.1\n",
      "coreClock: 1.7335GHz coreCount: 20 deviceMemorySize: 15.90GiB deviceMemoryBandwidth: 269.00GiB/s\n",
      "2021-06-19 13:20:59.050106: I tensorflow/stream_executor/platform/default/dso_loader.cc:48] Successfully opened dynamic library libcudart.so.10.1\n",
      "2021-06-19 13:20:59.052483: I tensorflow/stream_executor/platform/default/dso_loader.cc:48] Successfully opened dynamic library libcublas.so.10\n",
      "2021-06-19 13:20:59.054304: I tensorflow/stream_executor/platform/default/dso_loader.cc:48] Successfully opened dynamic library libcufft.so.10\n",
      "2021-06-19 13:20:59.054681: I tensorflow/stream_executor/platform/default/dso_loader.cc:48] Successfully opened dynamic library libcurand.so.10\n",
      "2021-06-19 13:20:59.056371: I tensorflow/stream_executor/platform/default/dso_loader.cc:48] Successfully opened dynamic library libcusolver.so.10\n",
      "2021-06-19 13:20:59.057286: I tensorflow/stream_executor/platform/default/dso_loader.cc:48] Successfully opened dynamic library libcusparse.so.10\n",
      "2021-06-19 13:20:59.061037: I tensorflow/stream_executor/platform/default/dso_loader.cc:48] Successfully opened dynamic library libcudnn.so.7\n",
      "2021-06-19 13:20:59.062563: I tensorflow/core/common_runtime/gpu/gpu_device.cc:1858] Adding visible gpu devices: 0\n",
      "2021-06-19 13:20:59.064564: I tensorflow/core/platform/cpu_feature_guard.cc:142] This TensorFlow binary is optimized with oneAPI Deep Neural Network Library (oneDNN)to use the following CPU instructions in performance-critical operations:  AVX2 AVX512F FMA\n",
      "To enable them in other operations, rebuild TensorFlow with the appropriate compiler flags.\n",
      "2021-06-19 13:20:59.075318: I tensorflow/core/platform/profile_utils/cpu_utils.cc:104] CPU Frequency: 2100000000 Hz\n",
      "2021-06-19 13:20:59.078892: I tensorflow/compiler/xla/service/service.cc:168] XLA service 0x561e760d02d0 initialized for platform Host (this does not guarantee that XLA will be used). Devices:\n",
      "2021-06-19 13:20:59.078938: I tensorflow/compiler/xla/service/service.cc:176]   StreamExecutor device (0): Host, Default Version\n",
      "2021-06-19 13:20:59.081159: I tensorflow/core/common_runtime/gpu/gpu_device.cc:1716] Found device 0 with properties: \n",
      "pciBusID: 0000:18:00.0 name: Quadro P5000 computeCapability: 6.1\n",
      "coreClock: 1.7335GHz coreCount: 20 deviceMemorySize: 15.90GiB deviceMemoryBandwidth: 269.00GiB/s\n",
      "2021-06-19 13:20:59.081248: I tensorflow/stream_executor/platform/default/dso_loader.cc:48] Successfully opened dynamic library libcudart.so.10.1\n",
      "2021-06-19 13:20:59.081296: I tensorflow/stream_executor/platform/default/dso_loader.cc:48] Successfully opened dynamic library libcublas.so.10\n",
      "2021-06-19 13:20:59.081337: I tensorflow/stream_executor/platform/default/dso_loader.cc:48] Successfully opened dynamic library libcufft.so.10\n",
      "2021-06-19 13:20:59.081376: I tensorflow/stream_executor/platform/default/dso_loader.cc:48] Successfully opened dynamic library libcurand.so.10\n",
      "2021-06-19 13:20:59.081415: I tensorflow/stream_executor/platform/default/dso_loader.cc:48] Successfully opened dynamic library libcusolver.so.10\n",
      "2021-06-19 13:20:59.081454: I tensorflow/stream_executor/platform/default/dso_loader.cc:48] Successfully opened dynamic library libcusparse.so.10\n",
      "2021-06-19 13:20:59.081495: I tensorflow/stream_executor/platform/default/dso_loader.cc:48] Successfully opened dynamic library libcudnn.so.7\n",
      "2021-06-19 13:20:59.085228: I tensorflow/core/common_runtime/gpu/gpu_device.cc:1858] Adding visible gpu devices: 0\n",
      "2021-06-19 13:20:59.085311: I tensorflow/stream_executor/platform/default/dso_loader.cc:48] Successfully opened dynamic library libcudart.so.10.1\n",
      "2021-06-19 13:20:59.622702: I tensorflow/core/common_runtime/gpu/gpu_device.cc:1257] Device interconnect StreamExecutor with strength 1 edge matrix:\n",
      "2021-06-19 13:20:59.622736: I tensorflow/core/common_runtime/gpu/gpu_device.cc:1263]      0 \n",
      "2021-06-19 13:20:59.622741: I tensorflow/core/common_runtime/gpu/gpu_device.cc:1276] 0:   N \n",
      "2021-06-19 13:20:59.624484: I tensorflow/core/common_runtime/gpu/gpu_device.cc:1402] Created TensorFlow device (/job:localhost/replica:0/task:0/device:GPU:0 with 15095 MB memory) -> physical GPU (device: 0, name: Quadro P5000, pci bus id: 0000:18:00.0, compute capability: 6.1)\n",
      "2021-06-19 13:20:59.626889: I tensorflow/compiler/xla/service/service.cc:168] XLA service 0x561e8b236800 initialized for platform CUDA (this does not guarantee that XLA will be used). Devices:\n",
      "2021-06-19 13:20:59.626904: I tensorflow/compiler/xla/service/service.cc:176]   StreamExecutor device (0): Quadro P5000, Compute Capability 6.1\n"
     ]
    }
   ],
   "source": [
    "models = {} # keep track of the models\n",
    "regressors = {} # KerasRegressor wrappers for our models\n",
    "outputs = {} # keep track of network outputs\n",
    "energy_ratio_names = {} # keep track of the names of regressed variables\n",
    "\n",
    "model_filename_suffixes = {\n",
    "    'pp':'_charged',\n",
    "    'p0':'_neutral'\n",
    "}\n",
    "\n",
    "# desparately trying to get TensorFlow to stop printing useless info -- not sure which lines work, seems to depend on TF version\n",
    "import logging\n",
    "os.environ['TF_CPP_MIN_LOG_LEVEL'] = '3' # attempt 1\n",
    "logging.getLogger('tensorflow').setLevel(logging.FATAL) # attempt 2\n",
    "\n",
    "import tensorflow as tf\n",
    "import autokeras as atk\n",
    "from tensorflow.keras.wrappers.scikit_learn import KerasRegressor\n",
    "\n",
    "tf.get_logger().setLevel('INFO')\n",
    "\n",
    "strategy = tf.distribute.MirroredStrategy(devices=[\"/gpu:0\"])\n",
    "ngpu = strategy.num_replicas_in_sync\n",
    "print ('Number of devices: {}'.format(ngpu))"
   ]
  },
  {
   "cell_type": "markdown",
   "metadata": {},
   "source": [
    "Here's some additional input preparation that we will need for some of our networks.\n",
    "\n",
    "AutoKeras currently has [issues with accepting multiple image inputs](https://github.com/keras-team/autokeras/issues/1553), so we'll have to stack things into a single multi-channel image (which sort of limits our options and half the reason for using AutoKeras in the first place...)."
   ]
  },
  {
   "cell_type": "code",
   "execution_count": 14,
   "metadata": {},
   "outputs": [],
   "source": [
    "from util.keras.layers import ImageScaleBlock\n",
    "\n",
    "# input specifically for autokeras\n",
    "def ResnetInputAuto(pdata, pcells, layers, dims = (16,16), branch_map={'s_logE':'energy', 's_clusterEtaAbs':'eta'}):\n",
    "    All_input = rdu.ResnetInput(pdata, pcells, layers = layers, branch_map = branch_map, use_layer_names = True)\n",
    "    Split_input = rdu.DictionarySplit(All_input, pdata, include_no_split=True)\n",
    "    \n",
    "    All_input = {\n",
    "        key:{} for key in Split_input.keys()\n",
    "    }\n",
    "                                        \n",
    "    for key in All_input.keys():\n",
    "        \n",
    "        data_dict = Split_input[key]\n",
    "        for dkey,data in data_dict.items():\n",
    "            All_input[key][dkey] = []\n",
    "\n",
    "            # We need to rescale & concatenate all the images\n",
    "            ims = [np.expand_dims(data[layer],axis=-1) for layer in layers]\n",
    "            ims = ImageScaleBlock(new_shape=dims,normalization=True)(ims).numpy()\n",
    "            All_input[key][dkey].append(ims)\n",
    "            \n",
    "            for vkey in data.keys():\n",
    "                if(vkey not in layers): \n",
    "                    \n",
    "                    # We will be using AutoKeras's \"structured input\", for which the data must be 2D.\n",
    "                    # Thus we will reshape our scalar inputs by adding an extra (trivial) dimension.\n",
    "                    # (This is all because autokeras.Input() does not seem to work with AutoModel, it is not well-supported!).\n",
    "                    All_input[key][dkey].append(data[vkey].reshape(-1,1)) \n",
    "    return All_input"
   ]
  },
  {
   "cell_type": "code",
   "execution_count": 15,
   "metadata": {},
   "outputs": [],
   "source": [
    "# Some extra prep, to turn our input into a TensorFlow.data.Dataset object.\n",
    "layers = ['EMB1', 'EMB2','EMB3'] # only use EMB since we have to upscale\n",
    "All_input = ResnetInputAuto(pdata,pcells, layers = layers)\n",
    "train_input, valid_input, test_input, All_input = All_input['train'], All_input['val'], All_input['test'], All_input['all']"
   ]
  },
  {
   "cell_type": "markdown",
   "metadata": {},
   "source": [
    "The cell below is for training. Note that re-running it will possibly overwrite existing networks!"
   ]
  },
  {
   "cell_type": "code",
   "execution_count": null,
   "metadata": {},
   "outputs": [],
   "source": [
    "max_trials=12\n",
    "nepochs=100\n",
    "gamma = 0.1\n",
    "min_delta = 0.0005\n",
    "patience = 10\n",
    "overwrite = False # if True, start from scratch, otherwise continue from a pre-existing run\n",
    "\n",
    "for key in train_input.keys():\n",
    "    \n",
    "    model_filename = '{}model_{}.h5'.format(modelpath,key)\n",
    "    \n",
    "    print('Running AutoModel for {}.'.format(key))\n",
    "    \n",
    "    tidx = pdata[key]['train']\n",
    "    vidx = pdata[key]['val']\n",
    "    \n",
    "    reg = atk.AutoModel(inputs= 1 * [atk.ImageInput()] + 2 * [atk.StructuredDataInput()],\n",
    "                        outputs= atk.RegressionHead(),\n",
    "                        project_name = 'auto_model_{}'.format(key),\n",
    "                        max_trials=max_trials,\n",
    "                        directory=modelpath,\n",
    "                        overwrite=overwrite\n",
    "    )\n",
    "\n",
    "    x_train = train_input[key]\n",
    "    y_train = pdata[key]['ratioE'][tidx].to_numpy()\n",
    "    x_valid = valid_input[key]\n",
    "    y_valid = pdata[key]['ratioE'][vidx].to_numpy()\n",
    "\n",
    "    reg.fit(\n",
    "        x = x_train,\n",
    "        y = y_train,\n",
    "        validation_data = [x_valid,y_valid],\n",
    "        epochs=nepochs,\n",
    "        callbacks = GetCallbacks(model_filename, append=True, use_decay=True, gamma=gamma, min_delta=min_delta, patience=patience), \n",
    "    )\n",
    "    \n",
    "    models[key] = reg.export_model()\n",
    "    models[key].save(model_filename)"
   ]
  },
  {
   "cell_type": "code",
   "execution_count": 16,
   "metadata": {},
   "outputs": [
    {
     "name": "stdout",
     "output_type": "stream",
     "text": [
      "Loading model for p0.\n",
      "1500/1500 [==============================] - 27s 18ms/step\n",
      "Loading model for pp.\n",
      "1500/1500 [==============================] - 28s 19ms/step\n"
     ]
    },
    {
     "name": "stderr",
     "output_type": "stream",
     "text": [
      "2021-06-19 13:21:29.277821: I tensorflow/stream_executor/platform/default/dso_loader.cc:48] Successfully opened dynamic library libcublas.so.10\n",
      "2021-06-19 13:21:29.440594: I tensorflow/stream_executor/platform/default/dso_loader.cc:48] Successfully opened dynamic library libcudnn.so.7\n"
     ]
    }
   ],
   "source": [
    "# load the networks -- put them in KerasRegressor wrappers, to match our regression code elsewhere.\n",
    "\n",
    "for key in train_input.keys():\n",
    "    model_filename = '{}model_{}.h5'.format(modelpath,key)\n",
    "    print('Loading model for {}.'.format(key))\n",
    "    models[key] = tf.keras.models.load_model(model_filename, custom_objects=atk.CUSTOM_OBJECTS)\n",
    "    regressors[key] = KerasRegressor(\n",
    "        build_fn = models[key],\n",
    "        batch_size = 200,\n",
    "        epochs = 100, # doesn't matter \n",
    "        verbose = 1 #\n",
    "    )\n",
    "    regressors[key].model = models[key]\n",
    "    \n",
    "    \n",
    "    # Now get predictions and save them\n",
    "    outputs[key] = rtu.GetPredictions(regressor = regressors[key],\n",
    "                                      model_input = All_input[key],\n",
    "                                      indices = {k:pdata[key][k].to_numpy() for k in ['train','val','test']},\n",
    "                                      truth = pdata[key]['cluster_ENG_CALIB_TOT'].to_numpy(),\n",
    "                                      reco = pdata[key]['clusterE'].to_numpy(),\n",
    "                                      scaler = None,\n",
    "                                      mapping = None,\n",
    "                                      filename = model_filename.replace('.h5','_output.h5')\n",
    "                                     )"
   ]
  },
  {
   "cell_type": "code",
   "execution_count": null,
   "metadata": {},
   "outputs": [],
   "source": [
    "#     pdata[key][energy_ratio_names[model_key]] = rtu.GetPredictions(regressor=regressors[model_key][key],\n",
    "#                                                                    model_input = All_input[key],\n",
    "#                                                                    indices = {k:pdata[key][k].to_numpy() for k in ['train','val','test']},\n",
    "#                                                                    truth = pdata[key]['cluster_ENG_CALIB_TOT'].to_numpy(),\n",
    "#                                                                    reco = pdata[key]['clusterE'].to_numpy(),\n",
    "#                                                                    scaler = scalers[key]['logECalib'],\n",
    "#                                                                    mapping = EnergyMapping,\n",
    "#                                                                    filename = model_filename.replace('.h5','_output.h5')\n",
    "#                                                                   )"
   ]
  },
  {
   "cell_type": "code",
   "execution_count": null,
   "metadata": {},
   "outputs": [],
   "source": []
  }
 ],
 "metadata": {
  "file_extension": ".py",
  "kernelspec": {
   "display_name": "Python 3",
   "language": "python",
   "name": "python3"
  },
  "language_info": {
   "codemirror_mode": {
    "name": "ipython",
    "version": 3
   },
   "file_extension": ".py",
   "mimetype": "text/x-python",
   "name": "python",
   "nbconvert_exporter": "python",
   "pygments_lexer": "ipython3",
   "version": "3.8.10"
  },
  "mimetype": "text/x-python",
  "name": "python",
  "npconvert_exporter": "python",
  "pygments_lexer": "ipython3",
  "version": 3
 },
 "nbformat": 4,
 "nbformat_minor": 4
}
