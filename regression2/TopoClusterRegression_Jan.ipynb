{
 "cells": [
  {
   "cell_type": "code",
   "execution_count": 1,
   "metadata": {},
   "outputs": [],
   "source": [
    "# # # For quickly testing when working on external libraries\n",
    "# %load_ext autoreload\n",
    "# %autoreload 2"
   ]
  },
  {
   "cell_type": "markdown",
   "metadata": {},
   "source": [
    "# TopoCluster Regression"
   ]
  },
  {
   "cell_type": "markdown",
   "metadata": {},
   "source": [
    "This is a slightly different take on regression than what we've commonly being doing. Instead of making a network that will output the predicted topo-cluster energy, we will make one that will output the predicted *ratio* between true and reco energies.\n",
    "\n",
    "What's the difference? It might sound like a trivial change, but the ratio is a unitless quantity. So this might help with the problem of having to cover many orders of magnitude in outputs. Now, our \"classic\" regression networks were dealing with this by performing some scaling of inputs:\n",
    "\n",
    "$$\n",
    "\\begin{align}\n",
    "E_\\text{reco}  &\\rightarrow \\ln{ \\left (E_\\text{reco} \\right)} \\;, \\\\\n",
    "E_\\text{truth}  &\\rightarrow \\ln{ \\left (E_\\text{truth} \\right)} \\;\\; \\text{(target)},\n",
    "\\end{align}\n",
    "$$\n",
    "\n",
    "The output of the network, $x$, is then converted to the predicted energy $E_\\text{pred}$ via the inverse transformation:\n",
    "\n",
    "$$\n",
    "x \\rightarrow e^{x} = E_\\text{pred}\n",
    "$$\n",
    "\n",
    "Thus if there's some small error in $x$, $x \\rightarrow x + \\delta x$, this may result in a large error in $E_\\text{pred}$:\n",
    "\n",
    "$$\n",
    "e^{x + \\delta x} = e^{\\delta x} E_\\text{pred} \\; .\n",
    "$$\n",
    "\n",
    "For example, if we're trying to get an energy of $100 \\, \\text{[GeV]}$ for a particular cluster, but our network ouput ($x$) is $10\\%$ too large, this will lead to a $\\sim 50\\%$ error in $E_\\text{pred}$."
   ]
  },
  {
   "cell_type": "markdown",
   "metadata": {},
   "source": [
    "#### 1) Initial setup"
   ]
  },
  {
   "cell_type": "code",
   "execution_count": 2,
   "metadata": {},
   "outputs": [],
   "source": [
    "# ML fitting/loading/saving settings\n",
    "overwriteModel = False # If true, force training. If false, load the specified model if it already exists.\n",
    "\n",
    "finishTraining = False"
   ]
  },
  {
   "cell_type": "markdown",
   "metadata": {},
   "source": [
    "Now let's choose our training data (and associated strategy)."
   ]
  },
  {
   "cell_type": "code",
   "execution_count": 3,
   "metadata": {},
   "outputs": [],
   "source": [
    "source = 'pion'\n",
    "subdir = 'pion3' # name for subdir holding models/plots\n",
    "h5_name_suffix = 'tdata_60GeV' # name for HDF5 files containing selected training/validation/testing data."
   ]
  },
  {
   "cell_type": "markdown",
   "metadata": {},
   "source": [
    "For convenience, we can define some training settings here for our different models. Note that we'll need to expand this if we add new models to the list.\n",
    "\n",
    "Also note that some model-specific settings are only adjusted further down in the code, where each model is defined."
   ]
  },
  {
   "cell_type": "code",
   "execution_count": 4,
   "metadata": {},
   "outputs": [],
   "source": [
    "training_settings = {\n",
    "    'all':{'lr':1.0e-5, 'epochs':200, 'patience':40, 'batch_size':200, 'skip':False},\n",
    "    'simple':{'lr':5.0e-5, 'epochs':200, 'patience':40, 'batch_size':200, 'skip':False},\n",
    "    'simple_cnn':{'lr':1.0e-4, 'epochs':200, 'patience':40, 'batch_size':200, 'skip':False},\n",
    "    'split_emb_cnn':{'lr':1.0e-4, 'epochs':200, 'patience':40, 'batch_size':200, 'skip':False},\n",
    "    'resnet':{'lr':1.0e-5, 'epochs':200, 'patience':40, 'batch_size':200, 'skip':True}\n",
    "}"
   ]
  },
  {
   "cell_type": "code",
   "execution_count": 5,
   "metadata": {},
   "outputs": [
    {
     "name": "stdout",
     "output_type": "stream",
     "text": [
      "Welcome to JupyROOT 6.24/02\n"
     ]
    },
    {
     "name": "stderr",
     "output_type": "stream",
     "text": [
      "2021-07-28 11:10:00.067672: I tensorflow/stream_executor/platform/default/dso_loader.cc:53] Successfully opened dynamic library libcudart.so.11.0\n"
     ]
    }
   ],
   "source": [
    "# Import some basic libraries.\n",
    "import sys, os, glob, pathlib\n",
    "import numpy as np\n",
    "import matplotlib.pyplot as plt\n",
    "import uproot as ur\n",
    "#import ROOT as rt # optionally used for plotting\n",
    "#import joblib as jl # for saving scalers\n",
    "\n",
    "# Import our resolution utilities\n",
    "path_prefix = os.getcwd() + '/../'\n",
    "if(path_prefix not in sys.path): sys.path.append(path_prefix)\n",
    "from util import resolution_util as ru\n",
    "from util import plot_util       as pu\n",
    "from util import ml_util         as mu\n",
    "from util import qol_util        as qu\n",
    "from util import io_util         as iu\n",
    "\n",
    "# Custom tensorflow.keras callbacks\n",
    "from util.keras.callbacks import GetCallbacks\n",
    "\n",
    "# Regression-specific utils\n",
    "from util.regression import data_util as rdu\n",
    "from util.regression import plot_util as rpu\n",
    "from util.regression import training_util as rtu\n",
    "\n",
    "#rt.gStyle.SetOptStat(0)\n",
    "# use our custom dark style for plots\n",
    "plotstyle = qu.PlotStyle('dark')\n",
    "plotstyle.SetStyle() # still need to manually adjust legends, paves\n",
    "\n",
    "plotpath = path_prefix + 'regression2/Plots/{}/'.format(subdir)\n",
    "modelpath = path_prefix + 'regression2/Models/{}/'.format(subdir)\n",
    "paths = [plotpath, modelpath]\n",
    "for path in [plotpath, modelpath]:\n",
    "    try: os.makedirs(path)\n",
    "    except: pass\n",
    "\n",
    "# metadata\n",
    "layers = [\"EMB1\", \"EMB2\", \"EMB3\", \"TileBar0\", \"TileBar1\", \"TileBar2\"]\n",
    "cell_size_phi = [0.098, 0.0245, 0.0245, 0.1, 0.1, 0.1]\n",
    "cell_size_eta = [0.0031, 0.025, 0.05, 0.1, 0.1, 0.2]\n",
    "len_phi = [4, 16, 16, 4, 4, 4]\n",
    "len_eta = [128, 16, 8, 4, 4, 2]\n",
    "cell_shapes = {layers[i]:(len_eta[i],len_phi[i]) for i in range(len(layers))}"
   ]
  },
  {
   "cell_type": "code",
   "execution_count": 6,
   "metadata": {},
   "outputs": [],
   "source": [
    "# fancy display names for each pion type\n",
    "pi_latex = {\n",
    "    'p0': '\\(\\pi^{0}\\)',\n",
    "    'pp': '\\(\\pi^{\\pm}\\)',\n",
    "}\n",
    "pi_text = {\n",
    "    'p0': 'pi0',\n",
    "    'pp': 'pi+/-'\n",
    "}\n",
    "\n",
    "# Plotting settings\n",
    "# xkcd -- turn this on for fun-looking (but marginally less useful) plots\n",
    "use_xkcd = False\n",
    "if(use_xkcd):\n",
    "    mode = 'light'\n",
    "    plt.xkcd(scale=.75,length=100,randomness=1)\n",
    "    \n",
    "# plotting style -- manages our color palette and object colors\n",
    "mode = 'dark' # for publications, use \"light\"\n",
    "plotstyle = qu.PlotStyle(mode)\n",
    "    \n",
    "# some matplotlib-specific stuff\n",
    "params = {'legend.fontsize': 13,\n",
    "          'axes.labelsize': 18}\n",
    "plt.rcParams.update(params)"
   ]
  },
  {
   "cell_type": "markdown",
   "metadata": {},
   "source": [
    "#### 2) Get the data."
   ]
  },
  {
   "cell_type": "markdown",
   "metadata": {},
   "source": [
    "Let me lay out some definitions, so it's clear as to what the data is.\n",
    "\n",
    "We have a number of different \"strategies\" (the `source` variable at the top). These correspond to different choices of training, validation and testing datasets.\n",
    "\n",
    "1. `pion`: We train and validate the network using our single pion data.\n",
    "\n",
    "2. `pion_legacy`: We train and validate using our old, noise-free single pion data.\n",
    "\n",
    "3. `pion_reweighted`: This is the same as `pion`, except that our training data is reweighted using a jet dataset (via their reco topo-cluster $p_T$ distributions), that corresponds with QCD dijet events.\n",
    "\n",
    "The validation performed for these networks is effectively being done on some \"holdout\" dataset from training -- it will by definition have similar kinematics, being drawn from the same set of events. The more interesting test -- how our energy regression performs in tandem with classification on our *unlabeled* jet dataset, will be handled in a separate notebook."
   ]
  },
  {
   "cell_type": "code",
   "execution_count": 7,
   "metadata": {},
   "outputs": [],
   "source": [
    "if(source == 'pion_legacy'):\n",
    "    inputpath = path_prefix+'data/pion_legacy/'\n",
    "    rootfiles = {\n",
    "        'p0':inputpath + 'pi0.root',\n",
    "        'pp':inputpath + 'pi[pm]*.root'\n",
    "    }\n",
    "    \n",
    "    branches = ['clusterE', 'clusterPt', 'clusterEta', 'cluster_ENG_CALIB_TOT']\n",
    "\n",
    "elif(source == 'pion' or source == 'pion_reweighted'):\n",
    "    inputpath=path_prefix+'data/pion/'\n",
    "    rootfiles = {        \n",
    "        'p0':inputpath + 'user.mswiatlo.900246.PG_singlepi0_logE0p2to2000.recon.ESD.e8312_e7400_s3170_r12383.images_v01.1_OutputStream/*.root',\n",
    "        'pp':inputpath + 'user.mswiatlo.900247.PG_singlepion_logE0p2to2000.recon.ESD.e8312_e7400_s3170_r12383.images_v01.1_OutputStream/*.root'\n",
    "    }\n",
    "    \n",
    "    branches = ['clusterE', 'clusterPt', 'clusterEta', 'cluster_ENG_CALIB_TOT']\n",
    "\n",
    "else: assert(False)"
   ]
  },
  {
   "cell_type": "code",
   "execution_count": 8,
   "metadata": {},
   "outputs": [
    {
     "name": "stdout",
     "output_type": "stream",
     "text": [
      "Loading pandas DataFrame and calo images from /local/home/jano/ml4pions/LCStudies/regression2/../data/pion/tdata_60GeV_frame.h5 and /local/home/jano/ml4pions/LCStudies/regression2/../data/pion/tdata_60GeV_images.h5.\n",
      "Number of pi0     events:     600000\t(50.0%)\n",
      "Number of pi+/-   events:     600000\t(50.0%)\n",
      "Total: 1200000\n",
      "Loading indices for key p0 from /local/home/jano/ml4pions/LCStudies/regression2/../data/pion/tdata_60GeV_indices.h5.\n",
      "Loading indices for key pp from /local/home/jano/ml4pions/LCStudies/regression2/../data/pion/tdata_60GeV_indices.h5.\n"
     ]
    }
   ],
   "source": [
    "# Prepare data\n",
    "h5_name = inputpath + h5_name_suffix\n",
    "\n",
    "pdata,pcells = mu.setupPionData(\n",
    "    rootfiles, \n",
    "    branches=branches, \n",
    "    layers=layers, \n",
    "    balance_data=True, \n",
    "    n_max = 600000, # we usually use 300k\n",
    "    verbose=True,\n",
    "    load=True,\n",
    "    save=True,\n",
    "    filename=h5_name,\n",
    "    match_distribution='cluster_ENG_CALIB_TOT',\n",
    "    match_binning = (20000,0.,2000.),\n",
    "    cut_distributions=['cluster_ENG_CALIB_TOT','clusterEta'],\n",
    "    cut_values = [(.2,60.), (-0.7,0.7)],\n",
    "    cut_types=['window','window'] # use only lower cut for \"standard\" training data\n",
    ")\n",
    "\n",
    "total = np.sum([len(x) for x in pdata.values()],dtype=int)\n",
    "for key,frame in pdata.items():\n",
    "    n = len(frame)\n",
    "    print(\"Number of {a:<7} events: {b:>10}\\t({c:.1f}%)\".format(a=pi_text[key], b = n, c = 100. * n / total))\n",
    "print(\"Total: {}\".format(total))\n",
    "\n",
    "# Create/get training/validation/testing indices.\n",
    "pdata = rdu.DataPrep(pdata,\n",
    "                     trainfrac=0.7,\n",
    "                     filename=h5_name\n",
    "                    )"
   ]
  },
  {
   "cell_type": "markdown",
   "metadata": {},
   "source": [
    "### Defining regression variables\n",
    "\n",
    "Beyond the information already present in the data, we may want to pre-compute some extra regression inputs.\n",
    "\n",
    "The difference between computing them here, on the whole dataset, versus doing it in batch as part of the network itself, is that we can also define some `scalers` based on these variables. This will allow us to scale them across the dataset, for example to get them into the interval of \\[0,1\\]."
   ]
  },
  {
   "cell_type": "code",
   "execution_count": 9,
   "metadata": {},
   "outputs": [],
   "source": [
    "m = 1.\n",
    "b = 1.\n",
    "EnergyMapping = iu.LinLogMapping(b=b,m=m)"
   ]
  },
  {
   "cell_type": "markdown",
   "metadata": {},
   "source": [
    "It looks like our `LinLogMapping` is pretty numerically stable as long as $b \\gg m$. I think this is the expected behaviour, given the instabilities with logarithms that we've seen before."
   ]
  },
  {
   "cell_type": "code",
   "execution_count": 10,
   "metadata": {},
   "outputs": [],
   "source": [
    "# Some regression vars.\n",
    "# Note that the mapping functions can probably be sped up with numba, but might throw errors during plotting above. Need to look into this.\n",
    "for key,frame in pdata.items():\n",
    "    frame['logE'] = EnergyMapping.Forward(frame['clusterE'].to_numpy()) # log of reco energy, possible network input\n",
    "    frame['clusterEtaAbs'] = np.abs(frame['clusterEta'].to_numpy()) # absolute value of eta, possible network input\n",
    "    #frame['logECalib'] = EnergyMapping.Forward(frame['cluster_ENG_CALIB_TOT'].to_numpy()) # No longer our regression target\n",
    "\n",
    "    # Now get the ratio of \"truth\" to reco energy. Be mindful of zeros in denominator\n",
    "    x = frame['clusterE'].to_numpy()\n",
    "    x[x==0] = 1.\n",
    "    frame['ratioE'] = frame['cluster_ENG_CALIB_TOT'].to_numpy() / x"
   ]
  },
  {
   "cell_type": "code",
   "execution_count": 11,
   "metadata": {},
   "outputs": [],
   "source": [
    "scaler_file = modelpath + 'scalers.save'\n",
    "scaler_branches = ['logE', 'clusterEtaAbs']\n",
    "scalers = mu.setupScalers(pdata, scaler_branches, scaler_file)"
   ]
  },
  {
   "cell_type": "markdown",
   "metadata": {},
   "source": [
    "Let's make plots of any vars that are rescaled using our StandardScalers, to see what the rescaling has done. (We won't put axis labels since the units are kind of funny anyway...)"
   ]
  },
  {
   "cell_type": "code",
   "execution_count": 12,
   "metadata": {},
   "outputs": [
    {
     "data": {
      "image/png": "[encoded data removed]",
      "text/plain": [
       "<Figure size 1080x360 with 2 Axes>"
      ]
     },
     "metadata": {
      "needs_background": "dark"
     },
     "output_type": "display_data"
    }
   ],
   "source": [
    "# Let's make a histogram of the regression vars, before and after scaling.\n",
    "rvars = ['logE', 's_logE']\n",
    "ranges = {\n",
    "    'logE':(120,-2.,10.),\n",
    "    's_logE':(100,-2.,2.)\n",
    "}\n",
    "fig, ax = plt.subplots(1,len(rvars),figsize=(7.5 * len(rvars),5))\n",
    "if(type(ax) != np.ndarray): ax = [ax]\n",
    "\n",
    "for i,rvar in enumerate(rvars):\n",
    "    vals = {}\n",
    "    for key,frame in pdata.items():\n",
    "        vals[key] = frame[rvar].to_numpy()\n",
    "    pu.histogramOverlay(ax[i], vals.values(), list(vals.keys()), rvar, 'Fractional count',\n",
    "                        x_min = ranges[rvar][1], x_max = ranges[rvar][2], xbins = ranges[rvar][0],\n",
    "                        normed = True, y_log = True,\n",
    "                        ps = plotstyle\n",
    "                       )\n",
    "plt.show()"
   ]
  },
  {
   "cell_type": "markdown",
   "metadata": {},
   "source": [
    "Let's also make a plot of our regression target, to see what the distribution looks like."
   ]
  },
  {
   "cell_type": "code",
   "execution_count": 13,
   "metadata": {},
   "outputs": [
    {
     "data": {
      "image/png": "[encoded data removed]",
      "text/plain": [
       "<Figure size 540x360 with 1 Axes>"
      ]
     },
     "metadata": {
      "needs_background": "dark"
     },
     "output_type": "display_data"
    }
   ],
   "source": [
    "# Let's make a histogram of the regression vars, before and after scaling.\n",
    "rvars = ['ratioE']\n",
    "ranges = {\n",
    "    'ratioE':(200,0.,20.),\n",
    "}\n",
    "\n",
    "fig, ax = plt.subplots(1,len(rvars),figsize=(7.5 * len(rvars),5))\n",
    "if(type(ax) != np.ndarray): ax = [ax]\n",
    "\n",
    "for i,rvar in enumerate(rvars):\n",
    "    vals = {}\n",
    "    for key,frame in pdata.items():\n",
    "        vals[key] = frame[rvar].to_numpy()\n",
    "    pu.histogramOverlay(ax[i], vals.values(), list(vals.keys()), rvar, 'Fractional count',\n",
    "                        x_min = ranges[rvar][1], x_max = ranges[rvar][2], xbins = ranges[rvar][0],\n",
    "                        normed = True, y_log = True,\n",
    "                        ps = plotstyle\n",
    "                       )\n",
    "plt.show()"
   ]
  },
  {
   "cell_type": "markdown",
   "metadata": {},
   "source": [
    "As we might have suspected, there is more spread for $\\pi^\\pm$ than for $\\pi^0$. In other words, the charged pion response is worse, and so it will make for a harder regression target. This is consistent with what we've seen elsewhere."
   ]
  },
  {
   "cell_type": "markdown",
   "metadata": {},
   "source": [
    "We may optionally perform some re-weighting of our training events. If using the `pion_reweighted` strategy, we will re-weight our single-pion training data to match the topo-cluster $p_T$ spectrum of our jet data."
   ]
  },
  {
   "cell_type": "code",
   "execution_count": 14,
   "metadata": {},
   "outputs": [],
   "source": [
    "# TODO: consider re-adding some sample weighting schemes\n",
    "sample_weights = {\n",
    "    key: np.full(np.sum(frame['train'].to_numpy()),1.)\n",
    "    for key,frame in pdata.items()\n",
    "}"
   ]
  },
  {
   "cell_type": "markdown",
   "metadata": {},
   "source": [
    "## Tensorflow/Keras Prep\n",
    "\n",
    "In this workflow we have the ability to train a number of models -- some will require additional data setup. Here, we have some basic setup they will all use."
   ]
  },
  {
   "cell_type": "code",
   "execution_count": 15,
   "metadata": {},
   "outputs": [
    {
     "name": "stdout",
     "output_type": "stream",
     "text": [
      "WARNING:tensorflow:Collective ops is not configured at program startup. Some performance features may not be enabled.\n",
      "INFO:tensorflow:Using MirroredStrategy with devices ('/job:localhost/replica:0/task:0/device:GPU:0',)\n",
      "Number of devices: 1\n"
     ]
    },
    {
     "name": "stderr",
     "output_type": "stream",
     "text": [
      "2021-07-28 11:11:26.912130: I tensorflow/stream_executor/platform/default/dso_loader.cc:53] Successfully opened dynamic library libcuda.so.1\n",
      "2021-07-28 11:11:26.972886: I tensorflow/core/common_runtime/gpu/gpu_device.cc:1733] Found device 0 with properties: \n",
      "pciBusID: 0000:18:00.0 name: Quadro P5000 computeCapability: 6.1\n",
      "coreClock: 1.7335GHz coreCount: 20 deviceMemorySize: 15.90GiB deviceMemoryBandwidth: 269.00GiB/s\n",
      "2021-07-28 11:11:26.972961: I tensorflow/stream_executor/platform/default/dso_loader.cc:53] Successfully opened dynamic library libcudart.so.11.0\n",
      "2021-07-28 11:11:26.977495: I tensorflow/stream_executor/platform/default/dso_loader.cc:53] Successfully opened dynamic library libcublas.so.11\n",
      "2021-07-28 11:11:26.977630: I tensorflow/stream_executor/platform/default/dso_loader.cc:53] Successfully opened dynamic library libcublasLt.so.11\n",
      "2021-07-28 11:11:26.978844: I tensorflow/stream_executor/platform/default/dso_loader.cc:53] Successfully opened dynamic library libcufft.so.10\n",
      "2021-07-28 11:11:26.979284: I tensorflow/stream_executor/platform/default/dso_loader.cc:53] Successfully opened dynamic library libcurand.so.10\n",
      "2021-07-28 11:11:26.981322: I tensorflow/stream_executor/platform/default/dso_loader.cc:53] Successfully opened dynamic library libcusolver.so.11\n",
      "2021-07-28 11:11:26.982235: I tensorflow/stream_executor/platform/default/dso_loader.cc:53] Successfully opened dynamic library libcusparse.so.11\n",
      "2021-07-28 11:11:26.982495: I tensorflow/stream_executor/platform/default/dso_loader.cc:53] Successfully opened dynamic library libcudnn.so.8\n",
      "2021-07-28 11:11:26.984451: I tensorflow/core/common_runtime/gpu/gpu_device.cc:1871] Adding visible gpu devices: 0\n",
      "2021-07-28 11:11:26.985830: I tensorflow/core/platform/cpu_feature_guard.cc:142] This TensorFlow binary is optimized with oneAPI Deep Neural Network Library (oneDNN) to use the following CPU instructions in performance-critical operations:  AVX2 AVX512F FMA\n",
      "To enable them in other operations, rebuild TensorFlow with the appropriate compiler flags.\n",
      "2021-07-28 11:11:26.991932: I tensorflow/core/common_runtime/gpu/gpu_device.cc:1733] Found device 0 with properties: \n",
      "pciBusID: 0000:18:00.0 name: Quadro P5000 computeCapability: 6.1\n",
      "coreClock: 1.7335GHz coreCount: 20 deviceMemorySize: 15.90GiB deviceMemoryBandwidth: 269.00GiB/s\n",
      "2021-07-28 11:11:26.996169: I tensorflow/core/common_runtime/gpu/gpu_device.cc:1871] Adding visible gpu devices: 0\n",
      "2021-07-28 11:11:26.996316: I tensorflow/stream_executor/platform/default/dso_loader.cc:53] Successfully opened dynamic library libcudart.so.11.0\n",
      "2021-07-28 11:11:27.678906: I tensorflow/core/common_runtime/gpu/gpu_device.cc:1258] Device interconnect StreamExecutor with strength 1 edge matrix:\n",
      "2021-07-28 11:11:27.678942: I tensorflow/core/common_runtime/gpu/gpu_device.cc:1264]      0 \n",
      "2021-07-28 11:11:27.678948: I tensorflow/core/common_runtime/gpu/gpu_device.cc:1277] 0:   N \n",
      "2021-07-28 11:11:27.680677: I tensorflow/core/common_runtime/gpu/gpu_device.cc:1418] Created TensorFlow device (/job:localhost/replica:0/task:0/device:GPU:0 with 15549 MB memory) -> physical GPU (device: 0, name: Quadro P5000, pci bus id: 0000:18:00.0, compute capability: 6.1)\n"
     ]
    }
   ],
   "source": [
    "models = {} # keep track of the models -- note that we train multiple instances of each model\n",
    "histories = {} # keep track of histories of the models we train\n",
    "regressors = {} # keep track of the trained models (will be KerasRegressor objects)\n",
    "energy_ratio_names = {} # keep track of the names of regressed variables\n",
    "\n",
    "model_filename_suffixes = {\n",
    "    'pp':'_charged',\n",
    "    'p0':'_neutral'\n",
    "}\n",
    "\n",
    "energy_name_prefix = 'ratio_pred_'\n",
    "\n",
    "#from keras.wrappers.scikit_learn import KerasRegressor # scikit_learn wrapper -- why do we use this, vs. native tf.keras approach like in classification notebook?\n",
    "#from tensorflow.keras.models import load_model\n",
    "\n",
    "os.environ['TF_CPP_MIN_LOG_LEVEL'] = '3' # disable some of the tensorflow info printouts, only display errors\n",
    "import tensorflow as tf\n",
    "#strategy = tf.distribute.MirroredStrategy(devices=[\"/gpu:0\"])\n",
    "#ngpu = strategy.num_replicas_in_sync\n",
    "#print ('Number of devices: {}'.format(ngpu))\n",
    "ngpu = 1\n",
    "\n",
    "#from util.regression.models import baseline_nn_All_model, simple_dnn, resnet, resnet_wide\n",
    "from util.regression.models import baseline_nn_model, depth_network, simple_cnn, split_emb_cnn, resnet"
   ]
  },
  {
   "cell_type": "markdown",
   "metadata": {},
   "source": [
    "## Training \"all\" model\n",
    "\n",
    "Here we train a simple, fully-connected neural network that uses the calorimeter cells as input, along with reco energy and $\\eta$."
   ]
  },
  {
   "cell_type": "code",
   "execution_count": 17,
   "metadata": {},
   "outputs": [
    {
     "name": "stdout",
     "output_type": "stream",
     "text": [
      "Starting baseline model.\n",
      "Preparing combined input:  |\u001b[32m█\u001b[0m\u001b[32m█\u001b[0m\u001b[32m█\u001b[0m\u001b[32m█\u001b[0m\u001b[32m█\u001b[0m\u001b[32m█\u001b[0m\u001b[32m█\u001b[0m\u001b[32m█\u001b[0m\u001b[32m█\u001b[0m\u001b[32m█\u001b[0m\u001b[32m█\u001b[0m\u001b[32m█\u001b[0m\u001b[32m█\u001b[0m\u001b[32m█\u001b[0m\u001b[32m█\u001b[0m\u001b[32m█\u001b[0m\u001b[32m█\u001b[0m\u001b[32m█\u001b[0m\u001b[32m█\u001b[0m\u001b[32m█\u001b[0m\u001b[32m█\u001b[0m\u001b[32m█\u001b[0m\u001b[32m█\u001b[0m\u001b[32m█\u001b[0m\u001b[32m█\u001b[0m\u001b[32m█\u001b[0m\u001b[32m█\u001b[0m\u001b[32m█\u001b[0m\u001b[32m█\u001b[0m\u001b[32m█\u001b[0m\u001b[32m█\u001b[0m\u001b[32m█\u001b[0m\u001b[32m█\u001b[0m\u001b[32m█\u001b[0m\u001b[32m█\u001b[0m\u001b[32m█\u001b[0m\u001b[32m█\u001b[0m\u001b[32m█\u001b[0m\u001b[32m█\u001b[0m\u001b[32m█\u001b[0m\u001b[32m█\u001b[0m\u001b[32m█\u001b[0m\u001b[32m█\u001b[0m\u001b[32m█\u001b[0m\u001b[32m█\u001b[0m\u001b[32m█\u001b[0m\u001b[32m█\u001b[0m\u001b[32m█\u001b[0m\u001b[32m█\u001b[0m\u001b[32m█\u001b[0m| 100.0% Complete\n",
      "all: pi0\n",
      "Epoch 1/2\n",
      "2100/2100 [==============================] - 11s 5ms/step - loss: 0.0883 - mae: 0.1264 - mse: 0.0883 - val_loss: 0.1178 - val_mae: 0.1029 - val_mse: 0.1178\n",
      "Epoch 2/2\n",
      "2100/2100 [==============================] - 10s 5ms/step - loss: 0.0691 - mae: 0.1072 - mse: 0.0691 - val_loss: 0.0884 - val_mae: 0.1057 - val_mse: 0.0884\n",
      "3000/3000 [==============================] - 5s 2ms/step\n",
      "all: pi+/-\n",
      "Epoch 1/2\n",
      "2100/2100 [==============================] - 10s 5ms/step - loss: 0.5879 - mae: 0.2936 - mse: 0.5879 - val_loss: 20.7918 - val_mae: 0.2684 - val_mse: 20.7918\n",
      "Epoch 2/2\n",
      "2100/2100 [==============================] - 9s 5ms/step - loss: 2.8749 - mae: 0.2493 - mse: 2.8749 - val_loss: 6.9903 - val_mae: 0.2810 - val_mse: 6.9903\n",
      "3000/3000 [==============================] - 5s 2ms/step\n"
     ]
    },
    {
     "name": "stderr",
     "output_type": "stream",
     "text": [
      "2021-07-28 11:14:41.646991: I tensorflow/compiler/mlir/mlir_graph_optimization_pass.cc:176] None of the MLIR Optimization Passes are enabled (registered 2)\n",
      "2021-07-28 11:14:41.666172: I tensorflow/core/platform/profile_utils/cpu_utils.cc:114] CPU Frequency: 2100000000 Hz\n",
      "2021-07-28 11:14:42.064468: I tensorflow/stream_executor/platform/default/dso_loader.cc:53] Successfully opened dynamic library libcublas.so.11\n",
      "2021-07-28 11:14:42.386448: I tensorflow/stream_executor/platform/default/dso_loader.cc:53] Successfully opened dynamic library libcublasLt.so.11\n"
     ]
    }
   ],
   "source": [
    "# Baseline model\n",
    "model_key = 'all'\n",
    "skip = training_settings[model_key]['skip']\n",
    "if(not skip):\n",
    "    print('Starting baseline model.')\n",
    "    \n",
    "    # Data preparation\n",
    "    All_input = rdu.CombinedInput(pdata,\n",
    "                                  pcells,\n",
    "                                  branches = ['s_logE','s_clusterEtaAbs']\n",
    "                                 )\n",
    "    # ----------------------------------------------------------------\n",
    "\n",
    "    energy_ratio_names[model_key] = energy_name_prefix + model_key\n",
    "    lr = training_settings[model_key]['lr']\n",
    "    decay = 0. # lr decay *within* each epoch\n",
    "    dropout = -1. # < 0 -> no dropout\n",
    "    models[model_key] = baseline_nn_model(lr=lr, decay=decay, dropout=dropout)\n",
    "\n",
    "    # Set our training hyper-parameters.\n",
    "    batch_size = training_settings[model_key]['batch_size']\n",
    "    epochs = training_settings[model_key]['epochs']\n",
    "    gamma = .1 # lr decay between epochs (via scheduler)\n",
    "    patience = training_settings[model_key]['patience']\n",
    "    min_delta = 0.0005\n",
    "    verbose = 1\n",
    "    regressors[model_key] = {}\n",
    "    histories[model_key] = {}\n",
    "\n",
    "    # Load/train the models, and evaluate them on all the data.\n",
    "    for key in All_input.keys():\n",
    "        print('{}: {}'.format(model_key, pi_text[key]))\n",
    "\n",
    "        tidx = pdata[key]['train']\n",
    "        vidx = pdata[key]['val'] \n",
    "\n",
    "        model_dir = ''.join([modelpath, model_key])\n",
    "        model_filename = '{}/{}{}.h5'.format(model_dir,model_key,model_filename_suffixes[key])\n",
    "\n",
    "        regressors[model_key][key], histories[model_key][key] = rtu.TrainNetwork(\n",
    "            model=models[model_key],\n",
    "            modelfile = model_filename,\n",
    "            x_train = All_input[key][tidx],\n",
    "            y_train = pdata[key]['ratioE'][tidx],\n",
    "            x_valid = All_input[key][vidx],\n",
    "            y_valid = pdata[key]['ratioE'][vidx],\n",
    "            sample_weight=sample_weights[key],\n",
    "            callbacks = GetCallbacks(model_filename, append=True, use_decay=True, gamma=gamma, min_delta=min_delta, patience=patience), \n",
    "            epochs=epochs,\n",
    "            batch_size=batch_size,\n",
    "            verbose=verbose,\n",
    "            overwriteModel=overwriteModel,\n",
    "            finishTraining=finishTraining\n",
    "        )\n",
    "\n",
    "        # Get predictions for all the data.\n",
    "        pdata[key][energy_ratio_names[model_key]] = rtu.GetPredictions(regressor=regressors[model_key][key],\n",
    "                                                                       model_input = All_input[key],\n",
    "                                                                       indices = {k:pdata[key][k].to_numpy() for k in ['train','val','test']},\n",
    "                                                                       truth = pdata[key]['cluster_ENG_CALIB_TOT'].to_numpy(),\n",
    "                                                                       reco = pdata[key]['clusterE'].to_numpy(),\n",
    "                                                                       scaler = None,\n",
    "                                                                       mapping = None,\n",
    "                                                                       filename = model_filename.replace('.h5','_output.h5')\n",
    "                                                                      )"
   ]
  },
  {
   "cell_type": "markdown",
   "metadata": {},
   "source": [
    "## Training \"simple\" (depth-based) model\n",
    "\n",
    "Here we train another simple, fully-connected neural network that uses reco energy and $\\eta$ as input, along with depth information (vector of integrals of calorimeter images)."
   ]
  },
  {
   "cell_type": "code",
   "execution_count": 18,
   "metadata": {},
   "outputs": [
    {
     "name": "stdout",
     "output_type": "stream",
     "text": [
      "Starting simple (depth-based) model.\n",
      "simple: pi0\n"
     ]
    },
    {
     "ename": "KeyboardInterrupt",
     "evalue": "",
     "output_type": "error",
     "traceback": [
      "\u001b[0;31m---------------------------------------------------------------------------\u001b[0m",
      "\u001b[0;31mKeyboardInterrupt\u001b[0m                         Traceback (most recent call last)",
      "\u001b[0;32m/tmp/ipykernel_8725/28916787.py\u001b[0m in \u001b[0;36m<module>\u001b[0;34m\u001b[0m\n\u001b[1;32m     46\u001b[0m         \u001b[0mmodel_filename\u001b[0m \u001b[0;34m=\u001b[0m \u001b[0;34m'{}/{}{}.h5'\u001b[0m\u001b[0;34m.\u001b[0m\u001b[0mformat\u001b[0m\u001b[0;34m(\u001b[0m\u001b[0mmodel_dir\u001b[0m\u001b[0;34m,\u001b[0m\u001b[0mmodel_key\u001b[0m\u001b[0;34m,\u001b[0m\u001b[0mmodel_filename_suffixes\u001b[0m\u001b[0;34m[\u001b[0m\u001b[0mkey\u001b[0m\u001b[0;34m]\u001b[0m\u001b[0;34m)\u001b[0m\u001b[0;34m\u001b[0m\u001b[0;34m\u001b[0m\u001b[0m\n\u001b[1;32m     47\u001b[0m \u001b[0;34m\u001b[0m\u001b[0m\n\u001b[0;32m---> 48\u001b[0;31m         regressors[model_key][key], histories[model_key][key] = rtu.TrainNetwork(\n\u001b[0m\u001b[1;32m     49\u001b[0m             \u001b[0mmodel\u001b[0m\u001b[0;34m=\u001b[0m\u001b[0mmodels\u001b[0m\u001b[0;34m[\u001b[0m\u001b[0mmodel_key\u001b[0m\u001b[0;34m]\u001b[0m\u001b[0;34m,\u001b[0m\u001b[0;34m\u001b[0m\u001b[0;34m\u001b[0m\u001b[0m\n\u001b[1;32m     50\u001b[0m             \u001b[0mmodelfile\u001b[0m \u001b[0;34m=\u001b[0m \u001b[0mmodel_filename\u001b[0m\u001b[0;34m,\u001b[0m\u001b[0;34m\u001b[0m\u001b[0;34m\u001b[0m\u001b[0m\n",
      "\u001b[0;32m~/ml4pions/LCStudies/regression2/../util/regression/training_util.py\u001b[0m in \u001b[0;36mTrainNetwork\u001b[0;34m(model, modelfile, x_train, y_train, x_valid, y_valid, sample_weight, callbacks, epochs, batch_size, verbose, overwriteModel, finishTraining)\u001b[0m\n\u001b[1;32m     60\u001b[0m     \u001b[0;31m# and the final model didn't reach the specified last epoch.\u001b[0m\u001b[0;34m\u001b[0m\u001b[0;34m\u001b[0m\u001b[0;34m\u001b[0m\u001b[0m\n\u001b[1;32m     61\u001b[0m     \u001b[0;32mif\u001b[0m\u001b[0;34m(\u001b[0m\u001b[0mfinishTraining\u001b[0m \u001b[0;32mor\u001b[0m \u001b[0;32mnot\u001b[0m \u001b[0mpathlib\u001b[0m\u001b[0;34m.\u001b[0m\u001b[0mPath\u001b[0m\u001b[0;34m(\u001b[0m\u001b[0mmodelfile\u001b[0m\u001b[0;34m)\u001b[0m\u001b[0;34m.\u001b[0m\u001b[0mexists\u001b[0m\u001b[0;34m(\u001b[0m\u001b[0;34m)\u001b[0m\u001b[0;34m)\u001b[0m\u001b[0;34m:\u001b[0m\u001b[0;34m\u001b[0m\u001b[0;34m\u001b[0m\u001b[0m\n\u001b[0;32m---> 62\u001b[0;31m         history = regressor.fit(\n\u001b[0m\u001b[1;32m     63\u001b[0m             \u001b[0mx\u001b[0m\u001b[0;34m=\u001b[0m\u001b[0mx_train\u001b[0m\u001b[0;34m,\u001b[0m\u001b[0;34m\u001b[0m\u001b[0;34m\u001b[0m\u001b[0m\n\u001b[1;32m     64\u001b[0m             \u001b[0my\u001b[0m\u001b[0;34m=\u001b[0m\u001b[0my_train\u001b[0m\u001b[0;34m,\u001b[0m\u001b[0;34m\u001b[0m\u001b[0;34m\u001b[0m\u001b[0m\n",
      "\u001b[0;32m~/miniconda3/envs/ml4p/lib/python3.8/site-packages/tensorflow/python/keras/wrappers/scikit_learn.py\u001b[0m in \u001b[0;36mfit\u001b[0;34m(self, x, y, **kwargs)\u001b[0m\n\u001b[1;32m    161\u001b[0m     \u001b[0mfit_args\u001b[0m\u001b[0;34m.\u001b[0m\u001b[0mupdate\u001b[0m\u001b[0;34m(\u001b[0m\u001b[0mkwargs\u001b[0m\u001b[0;34m)\u001b[0m\u001b[0;34m\u001b[0m\u001b[0;34m\u001b[0m\u001b[0m\n\u001b[1;32m    162\u001b[0m \u001b[0;34m\u001b[0m\u001b[0m\n\u001b[0;32m--> 163\u001b[0;31m     \u001b[0mhistory\u001b[0m \u001b[0;34m=\u001b[0m \u001b[0mself\u001b[0m\u001b[0;34m.\u001b[0m\u001b[0mmodel\u001b[0m\u001b[0;34m.\u001b[0m\u001b[0mfit\u001b[0m\u001b[0;34m(\u001b[0m\u001b[0mx\u001b[0m\u001b[0;34m,\u001b[0m \u001b[0my\u001b[0m\u001b[0;34m,\u001b[0m \u001b[0;34m**\u001b[0m\u001b[0mfit_args\u001b[0m\u001b[0;34m)\u001b[0m\u001b[0;34m\u001b[0m\u001b[0;34m\u001b[0m\u001b[0m\n\u001b[0m\u001b[1;32m    164\u001b[0m \u001b[0;34m\u001b[0m\u001b[0m\n\u001b[1;32m    165\u001b[0m     \u001b[0;32mreturn\u001b[0m \u001b[0mhistory\u001b[0m\u001b[0;34m\u001b[0m\u001b[0;34m\u001b[0m\u001b[0m\n",
      "\u001b[0;32m~/miniconda3/envs/ml4p/lib/python3.8/site-packages/tensorflow/python/keras/engine/training.py\u001b[0m in \u001b[0;36mfit\u001b[0;34m(self, x, y, batch_size, epochs, verbose, callbacks, validation_split, validation_data, shuffle, class_weight, sample_weight, initial_epoch, steps_per_epoch, validation_steps, validation_batch_size, validation_freq, max_queue_size, workers, use_multiprocessing)\u001b[0m\n\u001b[1;32m   1131\u001b[0m          \u001b[0mtraining_utils\u001b[0m\u001b[0;34m.\u001b[0m\u001b[0mRespectCompiledTrainableState\u001b[0m\u001b[0;34m(\u001b[0m\u001b[0mself\u001b[0m\u001b[0;34m)\u001b[0m\u001b[0;34m:\u001b[0m\u001b[0;34m\u001b[0m\u001b[0;34m\u001b[0m\u001b[0m\n\u001b[1;32m   1132\u001b[0m       \u001b[0;31m# Creates a `tf.data.Dataset` and handles batch and epoch iteration.\u001b[0m\u001b[0;34m\u001b[0m\u001b[0;34m\u001b[0m\u001b[0;34m\u001b[0m\u001b[0m\n\u001b[0;32m-> 1133\u001b[0;31m       data_handler = data_adapter.get_data_handler(\n\u001b[0m\u001b[1;32m   1134\u001b[0m           \u001b[0mx\u001b[0m\u001b[0;34m=\u001b[0m\u001b[0mx\u001b[0m\u001b[0;34m,\u001b[0m\u001b[0;34m\u001b[0m\u001b[0;34m\u001b[0m\u001b[0m\n\u001b[1;32m   1135\u001b[0m           \u001b[0my\u001b[0m\u001b[0;34m=\u001b[0m\u001b[0my\u001b[0m\u001b[0;34m,\u001b[0m\u001b[0;34m\u001b[0m\u001b[0;34m\u001b[0m\u001b[0m\n",
      "\u001b[0;32m~/miniconda3/envs/ml4p/lib/python3.8/site-packages/tensorflow/python/keras/engine/data_adapter.py\u001b[0m in \u001b[0;36mget_data_handler\u001b[0;34m(*args, **kwargs)\u001b[0m\n\u001b[1;32m   1362\u001b[0m   \u001b[0;32mif\u001b[0m \u001b[0mgetattr\u001b[0m\u001b[0;34m(\u001b[0m\u001b[0mkwargs\u001b[0m\u001b[0;34m[\u001b[0m\u001b[0;34m\"model\"\u001b[0m\u001b[0;34m]\u001b[0m\u001b[0;34m,\u001b[0m \u001b[0;34m\"_cluster_coordinator\"\u001b[0m\u001b[0;34m,\u001b[0m \u001b[0;32mNone\u001b[0m\u001b[0;34m)\u001b[0m\u001b[0;34m:\u001b[0m\u001b[0;34m\u001b[0m\u001b[0;34m\u001b[0m\u001b[0m\n\u001b[1;32m   1363\u001b[0m     \u001b[0;32mreturn\u001b[0m \u001b[0m_ClusterCoordinatorDataHandler\u001b[0m\u001b[0;34m(\u001b[0m\u001b[0;34m*\u001b[0m\u001b[0margs\u001b[0m\u001b[0;34m,\u001b[0m \u001b[0;34m**\u001b[0m\u001b[0mkwargs\u001b[0m\u001b[0;34m)\u001b[0m\u001b[0;34m\u001b[0m\u001b[0;34m\u001b[0m\u001b[0m\n\u001b[0;32m-> 1364\u001b[0;31m   \u001b[0;32mreturn\u001b[0m \u001b[0mDataHandler\u001b[0m\u001b[0;34m(\u001b[0m\u001b[0;34m*\u001b[0m\u001b[0margs\u001b[0m\u001b[0;34m,\u001b[0m \u001b[0;34m**\u001b[0m\u001b[0mkwargs\u001b[0m\u001b[0;34m)\u001b[0m\u001b[0;34m\u001b[0m\u001b[0;34m\u001b[0m\u001b[0m\n\u001b[0m\u001b[1;32m   1365\u001b[0m \u001b[0;34m\u001b[0m\u001b[0m\n\u001b[1;32m   1366\u001b[0m \u001b[0;34m\u001b[0m\u001b[0m\n",
      "\u001b[0;32m~/miniconda3/envs/ml4p/lib/python3.8/site-packages/tensorflow/python/keras/engine/data_adapter.py\u001b[0m in \u001b[0;36m__init__\u001b[0;34m(self, x, y, sample_weight, batch_size, steps_per_epoch, initial_epoch, epochs, shuffle, class_weight, max_queue_size, workers, use_multiprocessing, model, steps_per_execution, distribute)\u001b[0m\n\u001b[1;32m   1152\u001b[0m     \u001b[0madapter_cls\u001b[0m \u001b[0;34m=\u001b[0m \u001b[0mselect_data_adapter\u001b[0m\u001b[0;34m(\u001b[0m\u001b[0mx\u001b[0m\u001b[0;34m,\u001b[0m \u001b[0my\u001b[0m\u001b[0;34m)\u001b[0m\u001b[0;34m\u001b[0m\u001b[0;34m\u001b[0m\u001b[0m\n\u001b[1;32m   1153\u001b[0m     \u001b[0mself\u001b[0m\u001b[0;34m.\u001b[0m\u001b[0m_verify_data_adapter_compatibility\u001b[0m\u001b[0;34m(\u001b[0m\u001b[0madapter_cls\u001b[0m\u001b[0;34m)\u001b[0m\u001b[0;34m\u001b[0m\u001b[0;34m\u001b[0m\u001b[0m\n\u001b[0;32m-> 1154\u001b[0;31m     self._adapter = adapter_cls(\n\u001b[0m\u001b[1;32m   1155\u001b[0m         \u001b[0mx\u001b[0m\u001b[0;34m,\u001b[0m\u001b[0;34m\u001b[0m\u001b[0;34m\u001b[0m\u001b[0m\n\u001b[1;32m   1156\u001b[0m         \u001b[0my\u001b[0m\u001b[0;34m,\u001b[0m\u001b[0;34m\u001b[0m\u001b[0;34m\u001b[0m\u001b[0m\n",
      "\u001b[0;32m~/miniconda3/envs/ml4p/lib/python3.8/site-packages/tensorflow/python/keras/engine/data_adapter.py\u001b[0m in \u001b[0;36m__init__\u001b[0;34m(self, x, y, sample_weights, sample_weight_modes, batch_size, epochs, steps, shuffle, **kwargs)\u001b[0m\n\u001b[1;32m    250\u001b[0m \u001b[0;34m\u001b[0m\u001b[0m\n\u001b[1;32m    251\u001b[0m     \u001b[0;31m# If sample_weights are not specified for an output use 1.0 as weights.\u001b[0m\u001b[0;34m\u001b[0m\u001b[0;34m\u001b[0m\u001b[0;34m\u001b[0m\u001b[0m\n\u001b[0;32m--> 252\u001b[0;31m     (sample_weights, _, _) = training_utils.handle_partial_sample_weights(\n\u001b[0m\u001b[1;32m    253\u001b[0m         y, sample_weights, sample_weight_modes, check_all_flat=True)\n\u001b[1;32m    254\u001b[0m \u001b[0;34m\u001b[0m\u001b[0m\n",
      "\u001b[0;32m~/miniconda3/envs/ml4p/lib/python3.8/site-packages/tensorflow/python/keras/engine/training_utils.py\u001b[0m in \u001b[0;36mhandle_partial_sample_weights\u001b[0;34m(outputs, sample_weights, sample_weight_modes, check_all_flat)\u001b[0m\n\u001b[1;32m     77\u001b[0m   any_sample_weight = sample_weights is not None and any(\n\u001b[1;32m     78\u001b[0m       w is not None for w in sample_weights)\n\u001b[0;32m---> 79\u001b[0;31m   partial_sample_weight = any_sample_weight and any(\n\u001b[0m\u001b[1;32m     80\u001b[0m       w is None for w in sample_weights)\n\u001b[1;32m     81\u001b[0m \u001b[0;34m\u001b[0m\u001b[0m\n",
      "\u001b[0;32m~/miniconda3/envs/ml4p/lib/python3.8/site-packages/tensorflow/python/keras/engine/training_utils.py\u001b[0m in \u001b[0;36m<genexpr>\u001b[0;34m(.0)\u001b[0m\n\u001b[1;32m     77\u001b[0m   any_sample_weight = sample_weights is not None and any(\n\u001b[1;32m     78\u001b[0m       w is not None for w in sample_weights)\n\u001b[0;32m---> 79\u001b[0;31m   partial_sample_weight = any_sample_weight and any(\n\u001b[0m\u001b[1;32m     80\u001b[0m       w is None for w in sample_weights)\n\u001b[1;32m     81\u001b[0m \u001b[0;34m\u001b[0m\u001b[0m\n",
      "\u001b[0;32m~/miniconda3/envs/ml4p/lib/python3.8/site-packages/tensorflow/python/framework/ops.py\u001b[0m in \u001b[0;36m__next__\u001b[0;34m(self)\u001b[0m\n\u001b[1;32m   7008\u001b[0m     \u001b[0;32mif\u001b[0m \u001b[0mself\u001b[0m\u001b[0;34m.\u001b[0m\u001b[0m_index\u001b[0m \u001b[0;34m==\u001b[0m \u001b[0mself\u001b[0m\u001b[0;34m.\u001b[0m\u001b[0m_limit\u001b[0m\u001b[0;34m:\u001b[0m\u001b[0;34m\u001b[0m\u001b[0;34m\u001b[0m\u001b[0m\n\u001b[1;32m   7009\u001b[0m       \u001b[0;32mraise\u001b[0m \u001b[0mStopIteration\u001b[0m\u001b[0;34m\u001b[0m\u001b[0;34m\u001b[0m\u001b[0m\n\u001b[0;32m-> 7010\u001b[0;31m     \u001b[0mresult\u001b[0m \u001b[0;34m=\u001b[0m \u001b[0mself\u001b[0m\u001b[0;34m.\u001b[0m\u001b[0m_tensor\u001b[0m\u001b[0;34m[\u001b[0m\u001b[0mself\u001b[0m\u001b[0;34m.\u001b[0m\u001b[0m_index\u001b[0m\u001b[0;34m]\u001b[0m\u001b[0;34m\u001b[0m\u001b[0;34m\u001b[0m\u001b[0m\n\u001b[0m\u001b[1;32m   7011\u001b[0m     \u001b[0mself\u001b[0m\u001b[0;34m.\u001b[0m\u001b[0m_index\u001b[0m \u001b[0;34m+=\u001b[0m \u001b[0;36m1\u001b[0m\u001b[0;34m\u001b[0m\u001b[0;34m\u001b[0m\u001b[0m\n\u001b[1;32m   7012\u001b[0m     \u001b[0;32mreturn\u001b[0m \u001b[0mresult\u001b[0m\u001b[0;34m\u001b[0m\u001b[0;34m\u001b[0m\u001b[0m\n",
      "\u001b[0;32m~/miniconda3/envs/ml4p/lib/python3.8/site-packages/tensorflow/python/util/dispatch.py\u001b[0m in \u001b[0;36mwrapper\u001b[0;34m(*args, **kwargs)\u001b[0m\n\u001b[1;32m    204\u001b[0m     \u001b[0;34m\"\"\"Call target, and fall back on dispatchers if there is a TypeError.\"\"\"\u001b[0m\u001b[0;34m\u001b[0m\u001b[0;34m\u001b[0m\u001b[0m\n\u001b[1;32m    205\u001b[0m     \u001b[0;32mtry\u001b[0m\u001b[0;34m:\u001b[0m\u001b[0;34m\u001b[0m\u001b[0;34m\u001b[0m\u001b[0m\n\u001b[0;32m--> 206\u001b[0;31m       \u001b[0;32mreturn\u001b[0m \u001b[0mtarget\u001b[0m\u001b[0;34m(\u001b[0m\u001b[0;34m*\u001b[0m\u001b[0margs\u001b[0m\u001b[0;34m,\u001b[0m \u001b[0;34m**\u001b[0m\u001b[0mkwargs\u001b[0m\u001b[0;34m)\u001b[0m\u001b[0;34m\u001b[0m\u001b[0;34m\u001b[0m\u001b[0m\n\u001b[0m\u001b[1;32m    207\u001b[0m     \u001b[0;32mexcept\u001b[0m \u001b[0;34m(\u001b[0m\u001b[0mTypeError\u001b[0m\u001b[0;34m,\u001b[0m \u001b[0mValueError\u001b[0m\u001b[0;34m)\u001b[0m\u001b[0;34m:\u001b[0m\u001b[0;34m\u001b[0m\u001b[0;34m\u001b[0m\u001b[0m\n\u001b[1;32m    208\u001b[0m       \u001b[0;31m# Note: convert_to_eager_tensor currently raises a ValueError, not a\u001b[0m\u001b[0;34m\u001b[0m\u001b[0;34m\u001b[0m\u001b[0;34m\u001b[0m\u001b[0m\n",
      "\u001b[0;32m~/miniconda3/envs/ml4p/lib/python3.8/site-packages/tensorflow/python/ops/array_ops.py\u001b[0m in \u001b[0;36m_slice_helper\u001b[0;34m(tensor, slice_spec, var)\u001b[0m\n\u001b[1;32m   1013\u001b[0m       \u001b[0m_check_index\u001b[0m\u001b[0;34m(\u001b[0m\u001b[0ms\u001b[0m\u001b[0;34m)\u001b[0m\u001b[0;34m\u001b[0m\u001b[0;34m\u001b[0m\u001b[0m\n\u001b[1;32m   1014\u001b[0m       \u001b[0mbegin\u001b[0m\u001b[0;34m.\u001b[0m\u001b[0mappend\u001b[0m\u001b[0;34m(\u001b[0m\u001b[0ms\u001b[0m\u001b[0;34m)\u001b[0m\u001b[0;34m\u001b[0m\u001b[0;34m\u001b[0m\u001b[0m\n\u001b[0;32m-> 1015\u001b[0;31m       \u001b[0mend\u001b[0m\u001b[0;34m.\u001b[0m\u001b[0mappend\u001b[0m\u001b[0;34m(\u001b[0m\u001b[0ms\u001b[0m \u001b[0;34m+\u001b[0m \u001b[0;36m1\u001b[0m\u001b[0;34m)\u001b[0m\u001b[0;34m\u001b[0m\u001b[0;34m\u001b[0m\u001b[0m\n\u001b[0m\u001b[1;32m   1016\u001b[0m       \u001b[0mstrides\u001b[0m\u001b[0;34m.\u001b[0m\u001b[0mappend\u001b[0m\u001b[0;34m(\u001b[0m\u001b[0;36m1\u001b[0m\u001b[0;34m)\u001b[0m\u001b[0;34m\u001b[0m\u001b[0;34m\u001b[0m\u001b[0m\n\u001b[1;32m   1017\u001b[0m       \u001b[0mshrink_axis_mask\u001b[0m \u001b[0;34m|=\u001b[0m \u001b[0;34m(\u001b[0m\u001b[0;36m1\u001b[0m \u001b[0;34m<<\u001b[0m \u001b[0mindex\u001b[0m\u001b[0;34m)\u001b[0m\u001b[0;34m\u001b[0m\u001b[0;34m\u001b[0m\u001b[0m\n",
      "\u001b[0;31mKeyboardInterrupt\u001b[0m: "
     ]
    }
   ],
   "source": [
    "# Simple model\n",
    "model_key = 'simple'\n",
    "skip = training_settings[model_key]['skip']\n",
    "\n",
    "if(not skip):\n",
    "\n",
    "    print('Starting simple (depth-based) model.')\n",
    "    \n",
    "    # Data preparation.\n",
    "    All_input = rdu.DepthInput(pdata,\n",
    "                               pcells,\n",
    "                               branch_map = {\n",
    "                                   's_logE':'energy',\n",
    "                                   's_clusterEtaAbs':'eta'\n",
    "                               }\n",
    "                              )\n",
    "    Split_input = rdu.DictionarySplit(All_input, pdata)\n",
    "    train_input, valid_input = Split_input['train'], Split_input['val']\n",
    "    # ----------------------------------------------------------------\n",
    "    \n",
    "    energy_ratio_names[model_key] = energy_name_prefix + model_key\n",
    "    lr = training_settings[model_key]['lr']\n",
    "    units = 32\n",
    "    depth = 8\n",
    "    decay = 0. # lr decay *within* each epoch\n",
    "    dropout = 0.05 # < 0 -> no dropout\n",
    "    models[model_key] = depth_network(lr=lr, decay=decay, dropout=dropout, units=units, depth=depth)\n",
    "\n",
    "    # Set our training hyper-parameters.\n",
    "    batch_size = training_settings[model_key]['batch_size']\n",
    "    epochs = training_settings[model_key]['epochs']\n",
    "    gamma = .1 # lr decay between epochs (via scheduler)\n",
    "    patience = training_settings[model_key]['patience']\n",
    "    min_delta = 0.0005\n",
    "    verbose = 1\n",
    "    regressors[model_key] = {}\n",
    "    histories[model_key] = {}\n",
    "\n",
    "    # Load/train the models, and evaluate them on all the data.\n",
    "    for key in All_input.keys():\n",
    "        print('{}: {}'.format(model_key, pi_text[key]))\n",
    "        tidx = pdata[key]['train']\n",
    "        vidx = pdata[key]['val']  \n",
    "\n",
    "        model_dir = ''.join([modelpath, model_key])\n",
    "        model_filename = '{}/{}{}.h5'.format(model_dir,model_key,model_filename_suffixes[key])\n",
    "\n",
    "        regressors[model_key][key], histories[model_key][key] = rtu.TrainNetwork(\n",
    "            model=models[model_key],\n",
    "            modelfile = model_filename,\n",
    "            x_train = train_input[key],\n",
    "            y_train = pdata[key]['ratioE'][tidx],\n",
    "            x_valid = valid_input[key],\n",
    "            y_valid = pdata[key]['ratioE'][vidx],\n",
    "            sample_weight=sample_weights[key],\n",
    "            callbacks = GetCallbacks(model_filename, append=True, use_decay=True, gamma=gamma, min_delta=min_delta, patience=patience), \n",
    "            epochs=epochs,\n",
    "            batch_size=batch_size,\n",
    "            verbose=verbose,\n",
    "            overwriteModel=overwriteModel,\n",
    "            finishTraining=finishTraining\n",
    "        )\n",
    "\n",
    "        # Get predictions for all the data.\n",
    "        pdata[key][energy_ratio_names[model_key]] = rtu.GetPredictions(regressor=regressors[model_key][key],\n",
    "                                                                       model_input = All_input[key],\n",
    "                                                                       indices = {k:pdata[key][k].to_numpy() for k in ['train','val','test']},\n",
    "                                                                       truth = pdata[key]['cluster_ENG_CALIB_TOT'].to_numpy(),\n",
    "                                                                       reco = pdata[key]['clusterE'].to_numpy(),\n",
    "                                                                       scaler = None,\n",
    "                                                                       mapping = None,\n",
    "                                                                       filename = model_filename.replace('.h5','_output.h5')\n",
    "                                                                      )"
   ]
  },
  {
   "cell_type": "markdown",
   "metadata": {},
   "source": [
    "## Simple CNN\n",
    "\n",
    "This network uses some convolutions of the EMB layers, together with energy, eta and depth information (the depth info is computed internally)."
   ]
  },
  {
   "cell_type": "code",
   "execution_count": null,
   "metadata": {},
   "outputs": [],
   "source": [
    "# simple CNN\n",
    "model_key = 'simple_cnn'\n",
    "skip = training_settings[model_key]['skip']\n",
    "\n",
    "if(not skip):\n",
    "    print('Starting simple CNN model.')\n",
    "    # Data preparation.\n",
    "    All_input = rdu.ResnetInput(pdata,\n",
    "                                pcells,\n",
    "                                branch_map = {\n",
    "                                    's_logE':'energy',\n",
    "                                    's_clusterEtaAbs':'eta'\n",
    "                                }\n",
    "    )\n",
    "    Split_input = rdu.DictionarySplit(All_input, pdata)\n",
    "    train_input, valid_input = Split_input['train'], Split_input['val']\n",
    "    # ----------------------------------------------------------------\n",
    "\n",
    "    energy_ratio_names[model_key] = energy_name_prefix + model_key\n",
    "    lr = training_settings[model_key]['lr']\n",
    "    decay = 0. # lr decay *within* each epoch\n",
    "    dropout = 0.2\n",
    "    augmentation = True # whether or not to augment data during training, by flipping in eta & phi\n",
    "    models[model_key] = simple_cnn(lr=lr, decay=decay, dropout=dropout, augmentation=augmentation)\n",
    "\n",
    "    # Set our training hyper-parameters.\n",
    "    batch_size = training_settings[model_key]['batch_size']\n",
    "    epochs = training_settings[model_key]['epochs']\n",
    "    gamma = .1 # lr decay between epochs (via scheduler)\n",
    "    patience = training_settings[model_key]['patience']\n",
    "    min_delta = 0.0005\n",
    "    verbose = 1\n",
    "    regressors[model_key] = {}\n",
    "    histories[model_key] = {}\n",
    "\n",
    "    # Load/train the models, and evaluate them on all the data.\n",
    "    for key in All_input.keys():\n",
    "        print('{}: {}'.format(model_key, pi_text[key]))\n",
    "        tidx = pdata[key]['train']\n",
    "        vidx = pdata[key]['val']  \n",
    "\n",
    "        model_dir = ''.join([modelpath, model_key])\n",
    "        model_filename = '{}/{}{}.h5'.format(model_dir,model_key,model_filename_suffixes[key])\n",
    "\n",
    "        regressors[model_key][key], histories[model_key][key] = rtu.TrainNetwork(\n",
    "            model=models[model_key],\n",
    "            modelfile = model_filename,\n",
    "            x_train = train_input[key],\n",
    "            y_train = pdata[key]['ratioE'][tidx],\n",
    "            x_valid = valid_input[key],\n",
    "            y_valid = pdata[key]['ratioE'][vidx],\n",
    "            sample_weight=sample_weights[key],\n",
    "            callbacks = GetCallbacks(model_filename, append=True, use_decay=True, gamma=gamma, min_delta=min_delta, patience=patience), \n",
    "            epochs=epochs,\n",
    "            batch_size=batch_size,\n",
    "            verbose=verbose,\n",
    "            overwriteModel=overwriteModel,\n",
    "            finishTraining=finishTraining\n",
    "        )\n",
    "\n",
    "        # Get predictions for all the data.\n",
    "        pdata[key][energy_ratio_names[model_key]] = rtu.GetPredictions(regressor=regressors[model_key][key],\n",
    "                                                                       model_input = All_input[key],\n",
    "                                                                       indices = {k:pdata[key][k].to_numpy() for k in ['train','val','test']},\n",
    "                                                                       truth = pdata[key]['cluster_ENG_CALIB_TOT'].to_numpy(),\n",
    "                                                                       reco = pdata[key]['clusterE'].to_numpy(),\n",
    "                                                                       scaler = None,\n",
    "                                                                       mapping = None,\n",
    "                                                                       filename = model_filename.replace('.h5','_output.h5')\n",
    "                                                                      )"
   ]
  },
  {
   "cell_type": "markdown",
   "metadata": {},
   "source": [
    "## Split EMB CNN\n",
    "\n",
    "We can train a CNN model that's inspired by one of our well-performing CNN classifiers. It groups the 6 calo layers as EMB1, EMB2+EMB3, and TileBar0+TileBar1+TileBar2. Compared to the classifier, we've removed a few convolutions to make it a little simpler, and have added in energy and abs(eta) information."
   ]
  },
  {
   "cell_type": "code",
   "execution_count": null,
   "metadata": {},
   "outputs": [],
   "source": [
    "# split EMB CNN (i.e. a more complicated CNN)\n",
    "model_key = 'split_emb_cnn'\n",
    "skip = training_settings[model_key]['skip']\n",
    "\n",
    "if(not skip):\n",
    "    print('\"Starting split EMB\" CNN model.')\n",
    "    \n",
    "    # Data preparation\n",
    "    All_input = rdu.ResnetInput(pdata,\n",
    "                                pcells,\n",
    "                                branch_map = {\n",
    "                                    's_logE':'energy',\n",
    "                                    's_clusterEtaAbs':'eta'\n",
    "                                }\n",
    "    )\n",
    "    Split_input = rdu.DictionarySplit(All_input, pdata)\n",
    "    train_input, valid_input = Split_input['train'], Split_input['val']\n",
    "    # ----------------------------------------------------------------\n",
    "    \n",
    "    energy_ratio_names[model_key] = energy_name_prefix + model_key\n",
    "    lr = training_settings[model_key]['lr']\n",
    "    decay = 0. # lr decay *within* each epoch\n",
    "    dropout = 0.2\n",
    "    augmentation = True # whether or not to augment data during training, by flipping in eta & phi\n",
    "    models[model_key] = split_emb_cnn(lr=lr, decay=decay, dropout=dropout, augmentation=augmentation)\n",
    "\n",
    "    # Set our training hyper-parameters.\n",
    "    batch_size = training_settings[model_key]['batch_size']\n",
    "    epochs = training_settings[model_key]['epochs']\n",
    "    gamma = .1 # lr decay between epochs (via scheduler)\n",
    "    patience = training_settings[model_key]['patience']\n",
    "    min_delta = 0.0005\n",
    "    verbose = 1\n",
    "    regressors[model_key] = {}\n",
    "    histories[model_key] = {}\n",
    "\n",
    "    # Load/train the models, and evaluate them on all the data.\n",
    "    for key in All_input.keys():\n",
    "        print('{}: {}'.format(model_key, pi_text[key]))\n",
    "        tidx = pdata[key]['train']\n",
    "        vidx = pdata[key]['val']  \n",
    "\n",
    "        model_dir = ''.join([modelpath, model_key])\n",
    "        model_filename = '{}/{}{}.h5'.format(model_dir,model_key,model_filename_suffixes[key])\n",
    "\n",
    "        regressors[model_key][key], histories[model_key][key] = rtu.TrainNetwork(\n",
    "            model=models[model_key],\n",
    "            modelfile = model_filename,\n",
    "            x_train = train_input[key],\n",
    "            y_train = pdata[key]['ratioE'][tidx],\n",
    "            x_valid = valid_input[key],\n",
    "            y_valid = pdata[key]['ratioE'][vidx],\n",
    "            sample_weight=sample_weights[key],\n",
    "            callbacks = GetCallbacks(model_filename, append=True, use_decay=True, gamma=gamma, min_delta=min_delta, patience=patience), \n",
    "            epochs=epochs,\n",
    "            batch_size=batch_size,\n",
    "            verbose=verbose,\n",
    "            overwriteModel=overwriteModel,\n",
    "            finishTraining=finishTraining\n",
    "        )\n",
    "\n",
    "        # Get predictions for all the data.\n",
    "        pdata[key][energy_ratio_names[model_key]] = rtu.GetPredictions(regressor=regressors[model_key][key],\n",
    "                                                                       model_input = All_input[key],\n",
    "                                                                       indices = {k:pdata[key][k].to_numpy() for k in ['train','val','test']},\n",
    "                                                                       truth = pdata[key]['cluster_ENG_CALIB_TOT'].to_numpy(),\n",
    "                                                                       reco = pdata[key]['clusterE'].to_numpy(),\n",
    "                                                                       scaler = None,\n",
    "                                                                       mapping = None,\n",
    "                                                                       filename = model_filename.replace('.h5','_output.h5')\n",
    "                                                                      )"
   ]
  },
  {
   "cell_type": "markdown",
   "metadata": {},
   "source": [
    "## ResNet\n",
    "\n",
    "We can also train an implementation of ResNet. More precisely, we use a ResNet model on the calorimeter images, and then mix in the energy and $\\eta$ at the output layer."
   ]
  },
  {
   "cell_type": "code",
   "execution_count": null,
   "metadata": {},
   "outputs": [],
   "source": [
    "model_key = 'resnet'\n",
    "skip = training_settings[model_key]['skip']\n",
    "\n",
    "if(not skip):\n",
    "\n",
    "    print('Starting ResNet.')\n",
    "    # Data preparation -- here we can possibly take a shortcut if this data was already prepared.\n",
    "    if(training_settings['split_emb_cnn']['skip']):\n",
    "        All_input = rdu.ResnetInput(pdata,\n",
    "                                    pcells,\n",
    "                                    branch_map = {\n",
    "                                        's_logE':'energy',\n",
    "                                        's_clusterEtaAbs':'eta'\n",
    "                                    }\n",
    "        )\n",
    "        Split_input = rdu.DictionarySplit(All_input, pdata)\n",
    "        train_input, valid_input = Split_input['train'], Split_input['val']\n",
    "    # ----------------------------------------------------------------    \n",
    "    \n",
    "    energy_ratio_names[model_key] = energy_name_prefix + model_key\n",
    "    lr = training_settings[model_key]['lr']\n",
    "    decay = 0. # lr decay *within* each epoch 1e-6\n",
    "    channels = 6\n",
    "    filter_sets = [\n",
    "        [64,64,256],\n",
    "        [128,128,512]\n",
    "        #[256,256,1024],\n",
    "        #[512,512,2048]\n",
    "    ]         \n",
    "    f_vals = [3,3] # [3,3,3,3] sizes of filters in middle of conv/identity blocks\n",
    "    s_vals = [1,2] # [1,2,2,2] strides for each convolutional block\n",
    "    i_vals = [2,3] # [2,3,5,2] number of identity blocks per stage\n",
    "    input_shape = (128,16)\n",
    "    augmentation = True # whether or not to augment data during training, by flipping in eta & phi\n",
    "\n",
    "    models[model_key] = resnet(lr=lr, channels=channels, filter_sets=filter_sets, f_vals=f_vals, s_vals=s_vals, i_vals=i_vals, decay=decay, input_shape=input_shape, augmentation=augmentation)\n",
    "\n",
    "    # Set our training hyper-parameters.\n",
    "    batch_size = training_settings[model_key]['batch_size']\n",
    "    epochs = training_settings[model_key]['epochs']\n",
    "    gamma = .1 # lr decay between epochs (via scheduler)\n",
    "    patience = training_settings[model_key]['patience']\n",
    "    min_delta = 0.0005\n",
    "    verbose = 1\n",
    "    regressors[model_key] = {}\n",
    "    histories[model_key] = {}\n",
    "\n",
    "    # Load/train the models, and evaluate them on all the data.\n",
    "    for key in All_input.keys():\n",
    "        print('{}: {}'.format(model_key, pi_text[key]))\n",
    "        tidx = pdata[key]['train']\n",
    "        vidx = pdata[key]['val']  \n",
    "\n",
    "        model_dir = ''.join([modelpath, model_key])\n",
    "        model_filename = '{}/{}{}.h5'.format(model_dir,model_key,model_filename_suffixes[key])\n",
    "\n",
    "        regressors[model_key][key], histories[model_key][key] = rtu.TrainNetwork(\n",
    "            model=models[model_key],\n",
    "            modelfile = model_filename,\n",
    "            x_train = train_input[key],\n",
    "            y_train = pdata[key]['ratioE'][tidx],\n",
    "            x_valid = valid_input[key],\n",
    "            y_valid = pdata[key]['ratioE'][vidx],\n",
    "            sample_weight=sample_weights[key],\n",
    "            callbacks = GetCallbacks(model_filename, append=True, use_decay=True, gamma=gamma, min_delta=min_delta, patience=patience), \n",
    "            epochs=epochs,\n",
    "            batch_size=batch_size,\n",
    "            verbose=verbose,\n",
    "            overwriteModel=overwriteModel,\n",
    "            finishTraining=finishTraining\n",
    "        )\n",
    "\n",
    "        # Get predictions for all the data.\n",
    "        pdata[key][energy_ratio_names[model_key]] = rtu.GetPredictions(regressor=regressors[model_key][key],\n",
    "                                                                       model_input = All_input[key],\n",
    "                                                                       indices = {k:pdata[key][k].to_numpy() for k in ['train','val','test']},\n",
    "                                                                       truth = pdata[key]['cluster_ENG_CALIB_TOT'].to_numpy(),\n",
    "                                                                       reco = pdata[key]['clusterE'].to_numpy(),\n",
    "                                                                       scaler = None,\n",
    "                                                                       mapping = None,\n",
    "                                                                       filename = model_filename.replace('.h5','_output.h5')\n",
    "                                                                      )"
   ]
  },
  {
   "cell_type": "markdown",
   "metadata": {},
   "source": [
    "## ResNet Mini\n",
    "\n",
    "In an effort to simplify our ResNet -- and get it to train faster -- we can consider just using a single channel for our images, or some subset of channels. We can re-use the input we prepared for our full ResNet, though we'll only need a portion of it. Note that if we only use a single channel, the rescaling (via `input_shape`) is redundant, and we should just set that to the original dimensions (and, in practice, remove the scaling entirely if we stick with just one channel).\n",
    "\n",
    "**TODO:** Reimplement this."
   ]
  },
  {
   "cell_type": "markdown",
   "metadata": {},
   "source": [
    "## Plotting results (testing how well our network works)\n",
    "\n",
    "Now, let's plot some kinematics and network results. We'll make two groups of plots -- one for charged pions and one for neutral pions.\n",
    "\n",
    "Within each group of plots, we'll make two plots for each quantity -- one made using just the training data, and then one made using all the data (training + whatever we excluded -- but still excluding events with `cluster_ENG_CALIB_TOT` $< 0$ since these blow up network output)."
   ]
  },
  {
   "cell_type": "code",
   "execution_count": null,
   "metadata": {},
   "outputs": [],
   "source": [
    "# for convenience below\n",
    "training_frames = {key:frame[frame['train']] for key,frame in pdata.items()}\n",
    "validation_frames = {key:frame[frame['val']] for key,frame in pdata.items()}"
   ]
  },
  {
   "cell_type": "code",
   "execution_count": null,
   "metadata": {},
   "outputs": [],
   "source": [
    "# Make plots of mse and mae for training and validation (if present)\n",
    "\n",
    "for model_key in histories.keys():\n",
    "    for dkey in histories[model_key].keys():\n",
    "    \n",
    "        dname = dkey\n",
    "        \n",
    "        epochs = len(histories[model_key][dkey]['mae'])\n",
    "        epoch_ticks = epochs\n",
    "        if(epoch_ticks > 10): epoch_ticks = epoch_ticks/2\n",
    "        x = np.arange(epochs) + 1\n",
    "        fig, ax = plt.subplots(1,2,figsize=(15,5))\n",
    "    \n",
    "        keys = ['mae','val_mae']\n",
    "        lines = [histories[model_key][dkey][key] for key in keys]\n",
    "        pu.multiplot_common(ax[0], x,lines, keys, y_min=1.0e-3, y_max=10., y_log=True, x_ticks=epoch_ticks, xlabel = 'Epoch', ylabel = 'MAE', title='Mean Avg. Error for {} ({})'.format(model_key,dname), ps=plotstyle)\n",
    "    \n",
    "        keys = ['mse','val_mse']\n",
    "        lines = [histories[model_key][dkey][key] for key in keys]\n",
    "        pu.multiplot_common(ax[1], x,lines, keys, y_min=1.0e-3, y_max=10., y_log=True, x_ticks=epoch_ticks, xlabel = 'Epoch', ylabel = 'MSE', title='Mean Sq. Error for {} ({})'.format(model_key,dname), ps=plotstyle)\n",
    "    \n",
    "        # add grids\n",
    "        for axis in ax.flatten():\n",
    "            axis.grid(True,color=plotstyle.grid_plt)\n",
    "\n",
    "        qu.SaveSubplots(fig, ax, ['mae_{}_{}'.format(model_key,dkey), 'mse_{}_{}'.format(model_key,dkey)], savedir=plotpath)\n",
    "        plt.show()"
   ]
  },
  {
   "cell_type": "code",
   "execution_count": null,
   "metadata": {},
   "outputs": [],
   "source": []
  }
 ],
 "metadata": {
  "file_extension": ".py",
  "kernelspec": {
   "display_name": "Python 3 (ipykernel)",
   "language": "python",
   "name": "python3"
  },
  "language_info": {
   "codemirror_mode": {
    "name": "ipython",
    "version": 3
   },
   "file_extension": ".py",
   "mimetype": "text/x-python",
   "name": "python",
   "nbconvert_exporter": "python",
   "pygments_lexer": "ipython3",
   "version": "3.8.10"
  },
  "mimetype": "text/x-python",
  "name": "python",
  "npconvert_exporter": "python",
  "pygments_lexer": "ipython3",
  "version": 3
 },
 "nbformat": 4,
 "nbformat_minor": 4
}
